{
 "cells": [
  {
   "cell_type": "code",
   "execution_count": 1,
   "metadata": {},
   "outputs": [],
   "source": [
    "s = 'hello'"
   ]
  },
  {
   "cell_type": "code",
   "execution_count": 2,
   "metadata": {},
   "outputs": [
    {
     "data": {
      "text/plain": [
       "'hello'"
      ]
     },
     "execution_count": 2,
     "metadata": {},
     "output_type": "execute_result"
    }
   ],
   "source": [
    "'hello'"
   ]
  },
  {
   "cell_type": "code",
   "execution_count": 3,
   "metadata": {},
   "outputs": [
    {
     "data": {
      "text/plain": [
       "'HELLO'"
      ]
     },
     "execution_count": 3,
     "metadata": {},
     "output_type": "execute_result"
    }
   ],
   "source": [
    "s.upper()"
   ]
  },
  {
   "cell_type": "code",
   "execution_count": 4,
   "metadata": {},
   "outputs": [
    {
     "name": "stdout",
     "output_type": "stream",
     "text": [
      "hello \n",
      " world\n"
     ]
    }
   ],
   "source": [
    "print('hello \\n world')"
   ]
  },
  {
   "cell_type": "code",
   "execution_count": 5,
   "metadata": {},
   "outputs": [
    {
     "name": "stdout",
     "output_type": "stream",
     "text": [
      "hello \t world\n"
     ]
    }
   ],
   "source": [
    "print('hello \\t world')"
   ]
  },
  {
   "cell_type": "code",
   "execution_count": 6,
   "metadata": {},
   "outputs": [
    {
     "data": {
      "text/plain": [
       "5"
      ]
     },
     "execution_count": 6,
     "metadata": {},
     "output_type": "execute_result"
    }
   ],
   "source": [
    "len(s)"
   ]
  },
  {
   "cell_type": "code",
   "execution_count": 7,
   "metadata": {},
   "outputs": [
    {
     "data": {
      "text/plain": [
       "'h'"
      ]
     },
     "execution_count": 7,
     "metadata": {},
     "output_type": "execute_result"
    }
   ],
   "source": [
    "s[0]"
   ]
  },
  {
   "cell_type": "code",
   "execution_count": 8,
   "metadata": {},
   "outputs": [
    {
     "data": {
      "text/plain": [
       "'hello'"
      ]
     },
     "execution_count": 8,
     "metadata": {},
     "output_type": "execute_result"
    }
   ],
   "source": [
    "s[:]"
   ]
  },
  {
   "cell_type": "code",
   "execution_count": 9,
   "metadata": {},
   "outputs": [
    {
     "data": {
      "text/plain": [
       "'hlo'"
      ]
     },
     "execution_count": 9,
     "metadata": {},
     "output_type": "execute_result"
    }
   ],
   "source": [
    "s[::2]"
   ]
  },
  {
   "cell_type": "code",
   "execution_count": 10,
   "metadata": {},
   "outputs": [
    {
     "data": {
      "text/plain": [
       "'hel'"
      ]
     },
     "execution_count": 10,
     "metadata": {},
     "output_type": "execute_result"
    }
   ],
   "source": [
    "s[:-2]"
   ]
  },
  {
   "cell_type": "code",
   "execution_count": 11,
   "metadata": {},
   "outputs": [
    {
     "ename": "TypeError",
     "evalue": "'str' object does not support item assignment",
     "output_type": "error",
     "traceback": [
      "\u001b[0;31m---------------------------------------------------------------------------\u001b[0m",
      "\u001b[0;31mTypeError\u001b[0m                                 Traceback (most recent call last)",
      "\u001b[0;32m<ipython-input-11-a4272f3144ab>\u001b[0m in \u001b[0;36m<module>\u001b[0;34m()\u001b[0m\n\u001b[0;32m----> 1\u001b[0;31m \u001b[0ms\u001b[0m\u001b[0;34m[\u001b[0m\u001b[0;36m3\u001b[0m\u001b[0;34m]\u001b[0m \u001b[0;34m=\u001b[0m \u001b[0;34m'x'\u001b[0m\u001b[0;34m\u001b[0m\u001b[0m\n\u001b[0m",
      "\u001b[0;31mTypeError\u001b[0m: 'str' object does not support item assignment"
     ]
    }
   ],
   "source": [
    "s[3] = 'x'"
   ]
  },
  {
   "cell_type": "code",
   "execution_count": 12,
   "metadata": {},
   "outputs": [
    {
     "data": {
      "text/plain": [
       "'olleh'"
      ]
     },
     "execution_count": 12,
     "metadata": {},
     "output_type": "execute_result"
    }
   ],
   "source": [
    "s[::-1]"
   ]
  },
  {
   "cell_type": "code",
   "execution_count": 13,
   "metadata": {},
   "outputs": [],
   "source": [
    "y = s[::-1]"
   ]
  },
  {
   "cell_type": "code",
   "execution_count": 14,
   "metadata": {},
   "outputs": [
    {
     "data": {
      "text/plain": [
       "'olleh'"
      ]
     },
     "execution_count": 14,
     "metadata": {},
     "output_type": "execute_result"
    }
   ],
   "source": [
    "y"
   ]
  },
  {
   "cell_type": "code",
   "execution_count": 15,
   "metadata": {},
   "outputs": [
    {
     "data": {
      "text/plain": [
       "'hellohellohellohellohello'"
      ]
     },
     "execution_count": 15,
     "metadata": {},
     "output_type": "execute_result"
    }
   ],
   "source": [
    "s*5"
   ]
  },
  {
   "cell_type": "code",
   "execution_count": 16,
   "metadata": {},
   "outputs": [
    {
     "ename": "ValueError",
     "evalue": "empty separator",
     "output_type": "error",
     "traceback": [
      "\u001b[0;31m---------------------------------------------------------------------------\u001b[0m",
      "\u001b[0;31mValueError\u001b[0m                                Traceback (most recent call last)",
      "\u001b[0;32m<ipython-input-16-ec030e9d2d78>\u001b[0m in \u001b[0;36m<module>\u001b[0;34m()\u001b[0m\n\u001b[0;32m----> 1\u001b[0;31m \u001b[0ms\u001b[0m\u001b[0;34m.\u001b[0m\u001b[0msplit\u001b[0m\u001b[0;34m(\u001b[0m\u001b[0;34m''\u001b[0m\u001b[0;34m)\u001b[0m\u001b[0;34m\u001b[0m\u001b[0m\n\u001b[0m",
      "\u001b[0;31mValueError\u001b[0m: empty separator"
     ]
    }
   ],
   "source": [
    "s.split('')"
   ]
  },
  {
   "cell_type": "code",
   "execution_count": 17,
   "metadata": {},
   "outputs": [
    {
     "data": {
      "text/plain": [
       "['hello']"
      ]
     },
     "execution_count": 17,
     "metadata": {},
     "output_type": "execute_result"
    }
   ],
   "source": [
    "s.split(' ')"
   ]
  },
  {
   "cell_type": "code",
   "execution_count": 18,
   "metadata": {},
   "outputs": [
    {
     "data": {
      "text/plain": [
       "['he', '', 'o']"
      ]
     },
     "execution_count": 18,
     "metadata": {},
     "output_type": "execute_result"
    }
   ],
   "source": [
    "s.split('l')"
   ]
  },
  {
   "cell_type": "code",
   "execution_count": 19,
   "metadata": {},
   "outputs": [
    {
     "data": {
      "text/plain": [
       "['h', 'llo']"
      ]
     },
     "execution_count": 19,
     "metadata": {},
     "output_type": "execute_result"
    }
   ],
   "source": [
    "s.split('e')"
   ]
  },
  {
   "cell_type": "code",
   "execution_count": 20,
   "metadata": {},
   "outputs": [
    {
     "data": {
      "text/plain": [
       "['', 'ello']"
      ]
     },
     "execution_count": 20,
     "metadata": {},
     "output_type": "execute_result"
    }
   ],
   "source": [
    "s.split('h')"
   ]
  },
  {
   "cell_type": "code",
   "execution_count": 21,
   "metadata": {},
   "outputs": [
    {
     "data": {
      "text/plain": [
       "['hell', '']"
      ]
     },
     "execution_count": 21,
     "metadata": {},
     "output_type": "execute_result"
    }
   ],
   "source": [
    "s.split('o')"
   ]
  },
  {
   "cell_type": "code",
   "execution_count": 22,
   "metadata": {},
   "outputs": [
    {
     "name": "stdout",
     "output_type": "stream",
     "text": [
      "The result is this\n"
     ]
    }
   ],
   "source": [
    "print(\"The result is {}\".format(\"this\"))"
   ]
  },
  {
   "cell_type": "code",
   "execution_count": 23,
   "metadata": {},
   "outputs": [
    {
     "name": "stdout",
     "output_type": "stream",
     "text": [
      "The result is 4\n"
     ]
    }
   ],
   "source": [
    "print(\"The result is {}\".format(4))"
   ]
  },
  {
   "cell_type": "code",
   "execution_count": 27,
   "metadata": {},
   "outputs": [
    {
     "name": "stdout",
     "output_type": "stream",
     "text": [
      "Insert the string here: 12.89\n"
     ]
    }
   ],
   "source": [
    "s = 12.89\n",
    "print('Insert the string here: %s' %s)"
   ]
  },
  {
   "cell_type": "code",
   "execution_count": 25,
   "metadata": {},
   "outputs": [
    {
     "name": "stdout",
     "output_type": "stream",
     "text": [
      "Insert the string here:inserted string\n"
     ]
    }
   ],
   "source": [
    "print('Insert the string here:%s' %s)"
   ]
  },
  {
   "cell_type": "code",
   "execution_count": 28,
   "metadata": {},
   "outputs": [
    {
     "name": "stdout",
     "output_type": "stream",
     "text": [
      "Insert the string here: 12.890\n"
     ]
    }
   ],
   "source": [
    "print('Insert the string here: %1.3f' %s)"
   ]
  },
  {
   "cell_type": "code",
   "execution_count": 29,
   "metadata": {},
   "outputs": [
    {
     "name": "stdout",
     "output_type": "stream",
     "text": [
      "Insert the string here: 12.9\n"
     ]
    }
   ],
   "source": [
    "print('Insert the string here: %1.1f' %s)"
   ]
  },
  {
   "cell_type": "code",
   "execution_count": 31,
   "metadata": {},
   "outputs": [
    {
     "name": "stdout",
     "output_type": "stream",
     "text": [
      "Insert the string here: 12.9\n"
     ]
    }
   ],
   "source": [
    "print('Insert the string here: %3.1f' %s)"
   ]
  },
  {
   "cell_type": "code",
   "execution_count": 32,
   "metadata": {},
   "outputs": [
    {
     "name": "stdout",
     "output_type": "stream",
     "text": [
      "Insert the string here: 0.1\n"
     ]
    }
   ],
   "source": [
    "s = 0.12\n",
    "print('Insert the string here: %3.1f' %s)"
   ]
  },
  {
   "cell_type": "code",
   "execution_count": 33,
   "metadata": {},
   "outputs": [
    {
     "name": "stdout",
     "output_type": "stream",
     "text": [
      "Insert the string here: 8765.1\n"
     ]
    }
   ],
   "source": [
    "s = 8765.12\n",
    "print('Insert the string here: %3.1f' %s)"
   ]
  },
  {
   "cell_type": "code",
   "execution_count": 34,
   "metadata": {},
   "outputs": [
    {
     "name": "stdout",
     "output_type": "stream",
     "text": [
      "Insert the string here: 8765.1\n"
     ]
    }
   ],
   "source": [
    "s = 8765.12\n",
    "print('Insert the string here: %0.1f' %s)"
   ]
  },
  {
   "cell_type": "code",
   "execution_count": 35,
   "metadata": {},
   "outputs": [
    {
     "name": "stdout",
     "output_type": "stream",
     "text": [
      "Insert the string here:     8765.1\n"
     ]
    }
   ],
   "source": [
    "s = 8765.12\n",
    "print('Insert the string here: %10.1f' %s)"
   ]
  },
  {
   "cell_type": "code",
   "execution_count": 39,
   "metadata": {},
   "outputs": [
    {
     "name": "stdout",
     "output_type": "stream",
     "text": [
      "some String: Hello, Some Integer: 234566, Some Float: 89.34\n"
     ]
    }
   ],
   "source": [
    "print('some String: %s, Some Integer: %s, Some Float: %s' %('Hello',234566, 89.34))"
   ]
  },
  {
   "cell_type": "code",
   "execution_count": 41,
   "metadata": {},
   "outputs": [
    {
     "name": "stdout",
     "output_type": "stream",
     "text": [
      "some string: 93.232, Some Integer: 93.232, Some float: 93.232\n"
     ]
    }
   ],
   "source": [
    "print('some string: {x}, Some Integer: {x}, Some float: {x}'.format(x=93.232))"
   ]
  },
  {
   "cell_type": "code",
   "execution_count": 47,
   "metadata": {},
   "outputs": [
    {
     "ename": "IndexError",
     "evalue": "tuple index out of range",
     "output_type": "error",
     "traceback": [
      "\u001b[0;31m---------------------------------------------------------------------------\u001b[0m",
      "\u001b[0;31mIndexError\u001b[0m                                Traceback (most recent call last)",
      "\u001b[0;32m<ipython-input-47-371854255f3a>\u001b[0m in \u001b[0;36m<module>\u001b[0;34m()\u001b[0m\n\u001b[0;32m----> 1\u001b[0;31m \u001b[0mprint\u001b[0m\u001b[0;34m(\u001b[0m\u001b[0;34m'some string: {}, Some Integer: {}, Some float: {}'\u001b[0m\u001b[0;34m.\u001b[0m\u001b[0mformat\u001b[0m\u001b[0;34m(\u001b[0m\u001b[0;34m'93.232'\u001b[0m\u001b[0;34m)\u001b[0m\u001b[0;34m)\u001b[0m\u001b[0;34m\u001b[0m\u001b[0m\n\u001b[0m",
      "\u001b[0;31mIndexError\u001b[0m: tuple index out of range"
     ]
    }
   ],
   "source": [
    "print('some string: {}, Some Integer: {}, Some float: {}'.format('93.232'))"
   ]
  },
  {
   "cell_type": "code",
   "execution_count": 50,
   "metadata": {},
   "outputs": [
    {
     "ename": "IndexError",
     "evalue": "tuple index out of range",
     "output_type": "error",
     "traceback": [
      "\u001b[0;31m---------------------------------------------------------------------------\u001b[0m",
      "\u001b[0;31mIndexError\u001b[0m                                Traceback (most recent call last)",
      "\u001b[0;32m<ipython-input-50-85acf559678c>\u001b[0m in \u001b[0;36m<module>\u001b[0;34m()\u001b[0m\n\u001b[0;32m----> 1\u001b[0;31m \u001b[0mprint\u001b[0m\u001b[0;34m(\u001b[0m\u001b[0;34m'some string: {}, Some Integer: {}'\u001b[0m\u001b[0;34m.\u001b[0m\u001b[0mformat\u001b[0m\u001b[0;34m(\u001b[0m\u001b[0;36m93.232\u001b[0m\u001b[0;34m)\u001b[0m\u001b[0;34m)\u001b[0m\u001b[0;34m\u001b[0m\u001b[0m\n\u001b[0m",
      "\u001b[0;31mIndexError\u001b[0m: tuple index out of range"
     ]
    }
   ],
   "source": [
    "print('some string: {}, Some Integer: {}'.format(93.232))"
   ]
  },
  {
   "cell_type": "code",
   "execution_count": 51,
   "metadata": {},
   "outputs": [
    {
     "name": "stdout",
     "output_type": "stream",
     "text": [
      "some string: 93.232\n"
     ]
    }
   ],
   "source": [
    "print('some string: {}'.format(93.232))"
   ]
  },
  {
   "cell_type": "code",
   "execution_count": 52,
   "metadata": {},
   "outputs": [],
   "source": [
    "lisst = ['string', 12, 199.984, 'another string']"
   ]
  },
  {
   "cell_type": "code",
   "execution_count": 53,
   "metadata": {},
   "outputs": [
    {
     "data": {
      "text/plain": [
       "['string', 12, 199.984, 'another string']"
      ]
     },
     "execution_count": 53,
     "metadata": {},
     "output_type": "execute_result"
    }
   ],
   "source": [
    "lisst"
   ]
  },
  {
   "cell_type": "code",
   "execution_count": 54,
   "metadata": {},
   "outputs": [
    {
     "data": {
      "text/plain": [
       "list"
      ]
     },
     "execution_count": 54,
     "metadata": {},
     "output_type": "execute_result"
    }
   ],
   "source": [
    "type(lisst)"
   ]
  },
  {
   "cell_type": "code",
   "execution_count": 55,
   "metadata": {},
   "outputs": [
    {
     "data": {
      "text/plain": [
       "4"
      ]
     },
     "execution_count": 55,
     "metadata": {},
     "output_type": "execute_result"
    }
   ],
   "source": [
    "len(lisst)"
   ]
  },
  {
   "cell_type": "code",
   "execution_count": 56,
   "metadata": {},
   "outputs": [
    {
     "data": {
      "text/plain": [
       "['string', 12, 199.984, 'another string']"
      ]
     },
     "execution_count": 56,
     "metadata": {},
     "output_type": "execute_result"
    }
   ],
   "source": [
    "lisst[:]"
   ]
  },
  {
   "cell_type": "code",
   "execution_count": 57,
   "metadata": {},
   "outputs": [
    {
     "data": {
      "text/plain": [
       "'string'"
      ]
     },
     "execution_count": 57,
     "metadata": {},
     "output_type": "execute_result"
    }
   ],
   "source": [
    "lisst[0]"
   ]
  },
  {
   "cell_type": "code",
   "execution_count": 58,
   "metadata": {},
   "outputs": [
    {
     "data": {
      "text/plain": [
       "'s'"
      ]
     },
     "execution_count": 58,
     "metadata": {},
     "output_type": "execute_result"
    }
   ],
   "source": [
    "lisst[0][0]"
   ]
  },
  {
   "cell_type": "code",
   "execution_count": 59,
   "metadata": {},
   "outputs": [
    {
     "ename": "TypeError",
     "evalue": "can only concatenate list (not \"str\") to list",
     "output_type": "error",
     "traceback": [
      "\u001b[0;31m---------------------------------------------------------------------------\u001b[0m",
      "\u001b[0;31mTypeError\u001b[0m                                 Traceback (most recent call last)",
      "\u001b[0;32m<ipython-input-59-8874a215f13d>\u001b[0m in \u001b[0;36m<module>\u001b[0;34m()\u001b[0m\n\u001b[0;32m----> 1\u001b[0;31m \u001b[0mlisst\u001b[0m \u001b[0;34m+\u001b[0m \u001b[0;34m'new element'\u001b[0m\u001b[0;34m\u001b[0m\u001b[0m\n\u001b[0m",
      "\u001b[0;31mTypeError\u001b[0m: can only concatenate list (not \"str\") to list"
     ]
    }
   ],
   "source": [
    "lisst + 'new element'"
   ]
  },
  {
   "cell_type": "code",
   "execution_count": 60,
   "metadata": {},
   "outputs": [
    {
     "data": {
      "text/plain": [
       "['string', 12, 199.984, 'another string', 'new element']"
      ]
     },
     "execution_count": 60,
     "metadata": {},
     "output_type": "execute_result"
    }
   ],
   "source": [
    "lisst + ['new element']"
   ]
  },
  {
   "cell_type": "code",
   "execution_count": 61,
   "metadata": {},
   "outputs": [
    {
     "ename": "TypeError",
     "evalue": "can only concatenate list (not \"int\") to list",
     "output_type": "error",
     "traceback": [
      "\u001b[0;31m---------------------------------------------------------------------------\u001b[0m",
      "\u001b[0;31mTypeError\u001b[0m                                 Traceback (most recent call last)",
      "\u001b[0;32m<ipython-input-61-261128833a12>\u001b[0m in \u001b[0;36m<module>\u001b[0;34m()\u001b[0m\n\u001b[0;32m----> 1\u001b[0;31m \u001b[0mlisst\u001b[0m \u001b[0;34m+\u001b[0m \u001b[0;36m8743\u001b[0m\u001b[0;34m\u001b[0m\u001b[0m\n\u001b[0m",
      "\u001b[0;31mTypeError\u001b[0m: can only concatenate list (not \"int\") to list"
     ]
    }
   ],
   "source": [
    "lisst + 8743"
   ]
  },
  {
   "cell_type": "code",
   "execution_count": 62,
   "metadata": {},
   "outputs": [
    {
     "data": {
      "text/plain": [
       "['string', 12, 199.984, 'another string', 8743]"
      ]
     },
     "execution_count": 62,
     "metadata": {},
     "output_type": "execute_result"
    }
   ],
   "source": [
    "lisst + [8743]"
   ]
  },
  {
   "cell_type": "code",
   "execution_count": 63,
   "metadata": {},
   "outputs": [
    {
     "ename": "TypeError",
     "evalue": "unsupported operand type(s) for -: 'list' and 'int'",
     "output_type": "error",
     "traceback": [
      "\u001b[0;31m---------------------------------------------------------------------------\u001b[0m",
      "\u001b[0;31mTypeError\u001b[0m                                 Traceback (most recent call last)",
      "\u001b[0;32m<ipython-input-63-68bb8c472180>\u001b[0m in \u001b[0;36m<module>\u001b[0;34m()\u001b[0m\n\u001b[0;32m----> 1\u001b[0;31m \u001b[0mlisst\u001b[0m \u001b[0;34m-\u001b[0m \u001b[0;36m12\u001b[0m\u001b[0;34m\u001b[0m\u001b[0m\n\u001b[0m",
      "\u001b[0;31mTypeError\u001b[0m: unsupported operand type(s) for -: 'list' and 'int'"
     ]
    }
   ],
   "source": [
    "lisst - 12"
   ]
  },
  {
   "cell_type": "code",
   "execution_count": 64,
   "metadata": {},
   "outputs": [
    {
     "ename": "TypeError",
     "evalue": "unsupported operand type(s) for -: 'list' and 'list'",
     "output_type": "error",
     "traceback": [
      "\u001b[0;31m---------------------------------------------------------------------------\u001b[0m",
      "\u001b[0;31mTypeError\u001b[0m                                 Traceback (most recent call last)",
      "\u001b[0;32m<ipython-input-64-537cb6e59c6f>\u001b[0m in \u001b[0;36m<module>\u001b[0;34m()\u001b[0m\n\u001b[0;32m----> 1\u001b[0;31m \u001b[0mlisst\u001b[0m \u001b[0;34m-\u001b[0m \u001b[0;34m[\u001b[0m\u001b[0;36m12\u001b[0m\u001b[0;34m]\u001b[0m\u001b[0;34m\u001b[0m\u001b[0m\n\u001b[0m",
      "\u001b[0;31mTypeError\u001b[0m: unsupported operand type(s) for -: 'list' and 'list'"
     ]
    }
   ],
   "source": [
    "lisst - [12]"
   ]
  },
  {
   "cell_type": "code",
   "execution_count": 65,
   "metadata": {},
   "outputs": [],
   "source": [
    "lisst[1]=345"
   ]
  },
  {
   "cell_type": "code",
   "execution_count": 66,
   "metadata": {},
   "outputs": [
    {
     "data": {
      "text/plain": [
       "['string', 345, 199.984, 'another string']"
      ]
     },
     "execution_count": 66,
     "metadata": {},
     "output_type": "execute_result"
    }
   ],
   "source": [
    "lisst"
   ]
  },
  {
   "cell_type": "code",
   "execution_count": 67,
   "metadata": {},
   "outputs": [
    {
     "ename": "TypeError",
     "evalue": "unorderable types: int() < str()",
     "output_type": "error",
     "traceback": [
      "\u001b[0;31m---------------------------------------------------------------------------\u001b[0m",
      "\u001b[0;31mTypeError\u001b[0m                                 Traceback (most recent call last)",
      "\u001b[0;32m<ipython-input-67-caeef612b583>\u001b[0m in \u001b[0;36m<module>\u001b[0;34m()\u001b[0m\n\u001b[0;32m----> 1\u001b[0;31m \u001b[0mlisst\u001b[0m\u001b[0;34m.\u001b[0m\u001b[0msort\u001b[0m\u001b[0;34m(\u001b[0m\u001b[0;34m)\u001b[0m\u001b[0;34m\u001b[0m\u001b[0m\n\u001b[0m",
      "\u001b[0;31mTypeError\u001b[0m: unorderable types: int() < str()"
     ]
    }
   ],
   "source": [
    "lisst.sort()"
   ]
  },
  {
   "cell_type": "code",
   "execution_count": 68,
   "metadata": {},
   "outputs": [],
   "source": [
    "l1 = [123,123.094,87, 0, None]"
   ]
  },
  {
   "cell_type": "code",
   "execution_count": 69,
   "metadata": {},
   "outputs": [
    {
     "data": {
      "text/plain": [
       "[123, 123.094, 87, 0, None]"
      ]
     },
     "execution_count": 69,
     "metadata": {},
     "output_type": "execute_result"
    }
   ],
   "source": [
    "l1"
   ]
  },
  {
   "cell_type": "code",
   "execution_count": 70,
   "metadata": {},
   "outputs": [
    {
     "ename": "TypeError",
     "evalue": "unorderable types: NoneType() < int()",
     "output_type": "error",
     "traceback": [
      "\u001b[0;31m---------------------------------------------------------------------------\u001b[0m",
      "\u001b[0;31mTypeError\u001b[0m                                 Traceback (most recent call last)",
      "\u001b[0;32m<ipython-input-70-b8f5f256bbcf>\u001b[0m in \u001b[0;36m<module>\u001b[0;34m()\u001b[0m\n\u001b[0;32m----> 1\u001b[0;31m \u001b[0ml1\u001b[0m\u001b[0;34m.\u001b[0m\u001b[0msort\u001b[0m\u001b[0;34m(\u001b[0m\u001b[0;34m)\u001b[0m\u001b[0;34m\u001b[0m\u001b[0m\n\u001b[0m",
      "\u001b[0;31mTypeError\u001b[0m: unorderable types: NoneType() < int()"
     ]
    }
   ],
   "source": [
    "l1.sort()"
   ]
  },
  {
   "cell_type": "code",
   "execution_count": 71,
   "metadata": {},
   "outputs": [],
   "source": [
    "l1.pop()"
   ]
  },
  {
   "cell_type": "code",
   "execution_count": 72,
   "metadata": {},
   "outputs": [
    {
     "data": {
      "text/plain": [
       "[0, 87, 123, 123.094]"
      ]
     },
     "execution_count": 72,
     "metadata": {},
     "output_type": "execute_result"
    }
   ],
   "source": [
    "l1"
   ]
  },
  {
   "cell_type": "code",
   "execution_count": 73,
   "metadata": {},
   "outputs": [],
   "source": [
    "l1.sort()"
   ]
  },
  {
   "cell_type": "code",
   "execution_count": 74,
   "metadata": {},
   "outputs": [
    {
     "data": {
      "text/plain": [
       "[0, 87, 123, 123.094]"
      ]
     },
     "execution_count": 74,
     "metadata": {},
     "output_type": "execute_result"
    }
   ],
   "source": [
    "l1"
   ]
  },
  {
   "cell_type": "code",
   "execution_count": 75,
   "metadata": {},
   "outputs": [
    {
     "ename": "AttributeError",
     "evalue": "'NoneType' object has no attribute 'reverse'",
     "output_type": "error",
     "traceback": [
      "\u001b[0;31m---------------------------------------------------------------------------\u001b[0m",
      "\u001b[0;31mAttributeError\u001b[0m                            Traceback (most recent call last)",
      "\u001b[0;32m<ipython-input-75-fa6c6683e050>\u001b[0m in \u001b[0;36m<module>\u001b[0;34m()\u001b[0m\n\u001b[0;32m----> 1\u001b[0;31m \u001b[0ml1\u001b[0m\u001b[0;34m.\u001b[0m\u001b[0msort\u001b[0m\u001b[0;34m(\u001b[0m\u001b[0;34m)\u001b[0m\u001b[0;34m.\u001b[0m\u001b[0mreverse\u001b[0m\u001b[0;34m(\u001b[0m\u001b[0;34m)\u001b[0m\u001b[0;34m\u001b[0m\u001b[0m\n\u001b[0m",
      "\u001b[0;31mAttributeError\u001b[0m: 'NoneType' object has no attribute 'reverse'"
     ]
    }
   ],
   "source": [
    "l1.sort().reverse()"
   ]
  },
  {
   "cell_type": "code",
   "execution_count": 76,
   "metadata": {},
   "outputs": [],
   "source": [
    "l1.reverse()"
   ]
  },
  {
   "cell_type": "code",
   "execution_count": 77,
   "metadata": {},
   "outputs": [
    {
     "data": {
      "text/plain": [
       "[123.094, 123, 87, 0]"
      ]
     },
     "execution_count": 77,
     "metadata": {},
     "output_type": "execute_result"
    }
   ],
   "source": [
    "l1"
   ]
  },
  {
   "cell_type": "code",
   "execution_count": 79,
   "metadata": {},
   "outputs": [
    {
     "ename": "IndexError",
     "evalue": "list index out of range",
     "output_type": "error",
     "traceback": [
      "\u001b[0;31m---------------------------------------------------------------------------\u001b[0m",
      "\u001b[0;31mIndexError\u001b[0m                                Traceback (most recent call last)",
      "\u001b[0;32m<ipython-input-79-a33ac40df313>\u001b[0m in \u001b[0;36m<module>\u001b[0;34m()\u001b[0m\n\u001b[0;32m----> 1\u001b[0;31m \u001b[0ml1\u001b[0m\u001b[0;34m[\u001b[0m\u001b[0;36m9\u001b[0m\u001b[0;34m]\u001b[0m\u001b[0;34m\u001b[0m\u001b[0m\n\u001b[0m",
      "\u001b[0;31mIndexError\u001b[0m: list index out of range"
     ]
    }
   ],
   "source": [
    "l1[9]"
   ]
  },
  {
   "cell_type": "code",
   "execution_count": 80,
   "metadata": {},
   "outputs": [
    {
     "ename": "TypeError",
     "evalue": "count() takes exactly one argument (0 given)",
     "output_type": "error",
     "traceback": [
      "\u001b[0;31m---------------------------------------------------------------------------\u001b[0m",
      "\u001b[0;31mTypeError\u001b[0m                                 Traceback (most recent call last)",
      "\u001b[0;32m<ipython-input-80-1ab4d560e24d>\u001b[0m in \u001b[0;36m<module>\u001b[0;34m()\u001b[0m\n\u001b[0;32m----> 1\u001b[0;31m \u001b[0ml1\u001b[0m\u001b[0;34m.\u001b[0m\u001b[0mcount\u001b[0m\u001b[0;34m(\u001b[0m\u001b[0;34m)\u001b[0m\u001b[0;34m\u001b[0m\u001b[0m\n\u001b[0m",
      "\u001b[0;31mTypeError\u001b[0m: count() takes exactly one argument (0 given)"
     ]
    }
   ],
   "source": [
    "l1.count()"
   ]
  },
  {
   "cell_type": "code",
   "execution_count": 91,
   "metadata": {},
   "outputs": [
    {
     "data": {
      "text/plain": [
       "1"
      ]
     },
     "execution_count": 91,
     "metadata": {},
     "output_type": "execute_result"
    }
   ],
   "source": [
    "l1.count(123)"
   ]
  },
  {
   "cell_type": "code",
   "execution_count": 92,
   "metadata": {},
   "outputs": [
    {
     "data": {
      "text/plain": [
       "0"
      ]
     },
     "execution_count": 92,
     "metadata": {},
     "output_type": "execute_result"
    }
   ],
   "source": [
    "l1.count(12)"
   ]
  },
  {
   "cell_type": "code",
   "execution_count": 85,
   "metadata": {},
   "outputs": [],
   "source": [
    "l2 = l1.sort(reverse=True)"
   ]
  },
  {
   "cell_type": "code",
   "execution_count": 90,
   "metadata": {},
   "outputs": [
    {
     "name": "stdout",
     "output_type": "stream",
     "text": [
      "None\n"
     ]
    }
   ],
   "source": [
    "print(l2)"
   ]
  },
  {
   "cell_type": "code",
   "execution_count": null,
   "metadata": {},
   "outputs": [],
   "source": []
  },
  {
   "cell_type": "code",
   "execution_count": 89,
   "metadata": {},
   "outputs": [],
   "source": [
    "l2"
   ]
  },
  {
   "cell_type": "code",
   "execution_count": 93,
   "metadata": {},
   "outputs": [],
   "source": [
    "c = [(x,y) for x in [1,2,3] for y in [2,2,4] if x==y]"
   ]
  },
  {
   "cell_type": "code",
   "execution_count": 94,
   "metadata": {},
   "outputs": [
    {
     "data": {
      "text/plain": [
       "[(2, 2), (2, 2)]"
      ]
     },
     "execution_count": 94,
     "metadata": {},
     "output_type": "execute_result"
    }
   ],
   "source": [
    "c"
   ]
  },
  {
   "cell_type": "code",
   "execution_count": 95,
   "metadata": {},
   "outputs": [],
   "source": [
    "m = [[1,2,3], [4,5,6], [7,8,9], [10,11,12]]"
   ]
  },
  {
   "cell_type": "code",
   "execution_count": 96,
   "metadata": {},
   "outputs": [
    {
     "data": {
      "text/plain": [
       "[[1, 2, 3], [4, 5, 6], [7, 8, 9], [10, 11, 12]]"
      ]
     },
     "execution_count": 96,
     "metadata": {},
     "output_type": "execute_result"
    }
   ],
   "source": [
    "m"
   ]
  },
  {
   "cell_type": "code",
   "execution_count": 98,
   "metadata": {},
   "outputs": [],
   "source": [
    "mt = [[row[i] for row in m] for i in range(3)]"
   ]
  },
  {
   "cell_type": "code",
   "execution_count": 99,
   "metadata": {},
   "outputs": [
    {
     "data": {
      "text/plain": [
       "[[1, 4, 7, 10], [2, 5, 8, 11], [3, 6, 9, 12]]"
      ]
     },
     "execution_count": 99,
     "metadata": {},
     "output_type": "execute_result"
    }
   ],
   "source": [
    "mt"
   ]
  },
  {
   "cell_type": "code",
   "execution_count": 100,
   "metadata": {},
   "outputs": [],
   "source": [
    "t = 12243,1899.39, 'string'"
   ]
  },
  {
   "cell_type": "code",
   "execution_count": 101,
   "metadata": {},
   "outputs": [
    {
     "data": {
      "text/plain": [
       "(12243, 1899.39, 'string')"
      ]
     },
     "execution_count": 101,
     "metadata": {},
     "output_type": "execute_result"
    }
   ],
   "source": [
    "t"
   ]
  },
  {
   "cell_type": "code",
   "execution_count": 104,
   "metadata": {},
   "outputs": [],
   "source": [
    "a,b,c = t"
   ]
  },
  {
   "cell_type": "code",
   "execution_count": 105,
   "metadata": {},
   "outputs": [
    {
     "data": {
      "text/plain": [
       "(12243, 1899.39, 'string')"
      ]
     },
     "execution_count": 105,
     "metadata": {},
     "output_type": "execute_result"
    }
   ],
   "source": [
    "a,b,c"
   ]
  },
  {
   "cell_type": "code",
   "execution_count": 106,
   "metadata": {},
   "outputs": [
    {
     "data": {
      "text/plain": [
       "'/home/subbu/study/python/pythonpractice/python-bootcamp'"
      ]
     },
     "execution_count": 106,
     "metadata": {},
     "output_type": "execute_result"
    }
   ],
   "source": [
    "pwd"
   ]
  },
  {
   "cell_type": "code",
   "execution_count": 107,
   "metadata": {},
   "outputs": [],
   "source": [
    "f = open(\"/home/subbu/study/python/pythonpractice/python-bootcamp/test.txt\")"
   ]
  },
  {
   "cell_type": "code",
   "execution_count": 108,
   "metadata": {},
   "outputs": [
    {
     "data": {
      "text/plain": [
       "'\\n\\n\\n\\n\\n\\n<!DOCTYPE html>\\n<html lang=\"en\">\\n  <head>\\n    <meta charset=\"utf-8\">\\n  <link rel=\"dns-prefetch\" href=\"https://assets-cdn.github.com\">\\n  <link rel=\"dns-prefetch\" href=\"https://avatars0.githubusercontent.com\">\\n  <link rel=\"dns-prefetch\" href=\"https://avatars1.githubusercontent.com\">\\n  <link rel=\"dns-prefetch\" href=\"https://avatars2.githubusercontent.com\">\\n  <link rel=\"dns-prefetch\" href=\"https://avatars3.githubusercontent.com\">\\n  <link rel=\"dns-prefetch\" href=\"https://github-cloud.s3.amazonaws.com\">\\n  <link rel=\"dns-prefetch\" href=\"https://user-images.githubusercontent.com/\">\\n\\n\\n\\n  <link crossorigin=\"anonymous\" href=\"https://assets-cdn.github.com/assets/frameworks-1c2c316b7a17f15536c6a26ed744654fc228a24658a7ae395cdcbf8329c8406b.css\" integrity=\"sha256-HCwxa3oX8VU2xqJu10RlT8IookZYp645XNy/gynIQGs=\" media=\"all\" rel=\"stylesheet\" />\\n  <link crossorigin=\"anonymous\" href=\"https://assets-cdn.github.com/assets/github-8100b9bf1eb6ed8b38eaad2fe7ba51d1895aa0602aafe4a87068d444e07e8c5c.css\" integrity=\"sha256-gQC5vx627Ys46q0v57pR0YlaoGAqr+SocGjUROB+jFw=\" media=\"all\" rel=\"stylesheet\" />\\n  \\n  \\n  \\n  \\n\\n  <meta name=\"viewport\" content=\"width=device-width\">\\n  \\n  <title>Complete-Python-Bootcamp/test.txt at master · shivamms/Complete-Python-Bootcamp</title>\\n  <link rel=\"search\" type=\"application/opensearchdescription+xml\" href=\"/opensearch.xml\" title=\"GitHub\">\\n  <link rel=\"fluid-icon\" href=\"https://github.com/fluidicon.png\" title=\"GitHub\">\\n  <meta property=\"fb:app_id\" content=\"1401488693436528\">\\n\\n    \\n    <meta content=\"https://avatars3.githubusercontent.com/u/8627753?s=400&amp;v=4\" property=\"og:image\" /><meta content=\"GitHub\" property=\"og:site_name\" /><meta content=\"object\" property=\"og:type\" /><meta content=\"shivamms/Complete-Python-Bootcamp\" property=\"og:title\" /><meta content=\"https://github.com/shivamms/Complete-Python-Bootcamp\" property=\"og:url\" /><meta content=\"Complete-Python-Bootcamp - Lectures for Udemy - Complete Python Bootcamp Course\" property=\"og:description\" />\\n\\n  <link rel=\"assets\" href=\"https://assets-cdn.github.com/\">\\n  <link rel=\"web-socket\" href=\"wss://live.github.com/_sockets/VjI6MjMzODM5OTk3OjBiNWRhMWVjMzBhYTEyMjM0NmU0YjAyNDAxY2ViMWU4MGM5MmQxMjIyOTM4YjQzMzUzYWZlYjQzNmVjZTE5MTk=--b75098f4fd235c7f54580f05bc78646fdac11bdb\">\\n  <meta name=\"pjax-timeout\" content=\"1000\">\\n  <link rel=\"sudo-modal\" href=\"/sessions/sudo_modal\">\\n  <meta name=\"request-id\" content=\"C88A:7EEC:1A7EC:103E3A:5A418F42\" data-pjax-transient>\\n  \\n\\n  <meta name=\"selected-link\" value=\"repo_source\" data-pjax-transient>\\n\\n    <meta name=\"google-site-verification\" content=\"KT5gs8h0wvaagLKAVWq8bbeNwnZZK1r1XQysX3xurLU\">\\n  <meta name=\"google-site-verification\" content=\"ZzhVyEFwb7w3e0-uOTltm8Jsck2F5StVihD0exw2fsA\">\\n  <meta name=\"google-site-verification\" content=\"GXs5KoUUkNCoaAZn7wPN-t01Pywp9M3sEjnt_3_ZWPc\">\\n    <meta name=\"google-analytics\" content=\"UA-3769691-2\">\\n\\n<meta content=\"collector.githubapp.com\" name=\"octolytics-host\" /><meta content=\"github\" name=\"octolytics-app-id\" /><meta content=\"https://collector.githubapp.com/github-external/browser_event\" name=\"octolytics-event-url\" /><meta content=\"C88A:7EEC:1A7EC:103E3A:5A418F42\" name=\"octolytics-dimension-request_id\" /><meta content=\"iad\" name=\"octolytics-dimension-region_edge\" /><meta content=\"iad\" name=\"octolytics-dimension-region_render\" /><meta content=\"8627753\" name=\"octolytics-actor-id\" /><meta content=\"shivamms\" name=\"octolytics-actor-login\" /><meta content=\"d635962351c23dae19499c640066fa9e96fc5f32479a1337c44d8d35f4bbba4e\" name=\"octolytics-actor-hash\" />\\n<meta content=\"/&lt;user-name&gt;/&lt;repo-name&gt;/blob/show\" data-pjax-transient=\"true\" name=\"analytics-location\" />\\n\\n\\n\\n\\n  <meta class=\"js-ga-set\" name=\"dimension1\" content=\"Logged In\">\\n\\n\\n  \\n\\n      <meta name=\"hostname\" content=\"github.com\">\\n  <meta name=\"user-login\" content=\"shivamms\">\\n\\n      <meta name=\"expected-hostname\" content=\"github.com\">\\n    <meta name=\"js-proxy-site-detection-payload\" content=\"NWNkNTc1YWQ3NjhiMTNlNTlkZmE5ZmY3MjI4YTQ3YmQ5MTFhMzFiMGE1NDE1NTQ4NzYzNzMzYzYxYWJhOGYzMHx7InJlbW90ZV9hZGRyZXNzIjoiNzMuMTk0LjguMTgwIiwicmVxdWVzdF9pZCI6IkM4OEE6N0VFQzoxQTdFQzoxMDNFM0E6NUE0MThGNDIiLCJ0aW1lc3RhbXAiOjE1MTQyNDU5NTQsImhvc3QiOiJnaXRodWIuY29tIn0=\">\\n\\n    <meta name=\"enabled-features\" content=\"UNIVERSE_BANNER,FREE_TRIALS\">\\n\\n  <meta name=\"html-safe-nonce\" content=\"5f0738018e38ec8e028bab2686ad737090188220\">\\n\\n  <meta http-equiv=\"x-pjax-version\" content=\"e6dbf537b2eb3990c0cae54500f32daf\">\\n  \\n\\n      <link href=\"https://github.com/shivamms/Complete-Python-Bootcamp/commits/master.atom\" rel=\"alternate\" title=\"Recent Commits to Complete-Python-Bootcamp:master\" type=\"application/atom+xml\">\\n\\n  <meta name=\"description\" content=\"Complete-Python-Bootcamp - Lectures for Udemy - Complete Python Bootcamp Course\">\\n  <meta name=\"go-import\" content=\"github.com/shivamms/Complete-Python-Bootcamp git https://github.com/shivamms/Complete-Python-Bootcamp.git\">\\n\\n  <meta content=\"8627753\" name=\"octolytics-dimension-user_id\" /><meta content=\"shivamms\" name=\"octolytics-dimension-user_login\" /><meta content=\"115369199\" name=\"octolytics-dimension-repository_id\" /><meta content=\"shivamms/Complete-Python-Bootcamp\" name=\"octolytics-dimension-repository_nwo\" /><meta content=\"true\" name=\"octolytics-dimension-repository_public\" /><meta content=\"true\" name=\"octolytics-dimension-repository_is_fork\" /><meta content=\"42013588\" name=\"octolytics-dimension-repository_parent_id\" /><meta content=\"jmportilla/Complete-Python-Bootcamp\" name=\"octolytics-dimension-repository_parent_nwo\" /><meta content=\"42013588\" name=\"octolytics-dimension-repository_network_root_id\" /><meta content=\"jmportilla/Complete-Python-Bootcamp\" name=\"octolytics-dimension-repository_network_root_nwo\" /><meta content=\"true\" name=\"octolytics-dimension-repository_explore_github_marketplace_ci_cta_shown\" />\\n\\n\\n    <link rel=\"canonical\" href=\"https://github.com/shivamms/Complete-Python-Bootcamp/blob/master/test.txt\" data-pjax-transient>\\n\\n\\n  <meta name=\"browser-stats-url\" content=\"https://api.github.com/_private/browser/stats\">\\n\\n  <meta name=\"browser-errors-url\" content=\"https://api.github.com/_private/browser/errors\">\\n\\n  <link rel=\"mask-icon\" href=\"https://assets-cdn.github.com/pinned-octocat.svg\" color=\"#000000\">\\n  <link rel=\"icon\" type=\"image/x-icon\" class=\"js-site-favicon\" href=\"https://assets-cdn.github.com/favicon.ico\">\\n\\n<meta name=\"theme-color\" content=\"#1e2327\">\\n\\n\\n  <meta name=\"u2f-support\" content=\"true\">\\n\\n  </head>\\n\\n  <body class=\"logged-in env-production page-blob\">\\n    \\n\\n  <div class=\"position-relative js-header-wrapper \">\\n    <a href=\"#start-of-content\" tabindex=\"1\" class=\"bg-black text-white p-3 show-on-focus js-skip-to-content\">Skip to content</a>\\n    <div id=\"js-pjax-loader-bar\" class=\"pjax-loader-bar\"><div class=\"progress\"></div></div>\\n\\n    \\n    \\n    \\n      \\n\\n\\n\\n        \\n<header class=\"Header  f5\" role=\"banner\">\\n  <div class=\"d-flex px-3 flex-justify-between container-lg\">\\n    <div class=\"d-flex flex-justify-between\">\\n      <a class=\"header-logo-invertocat\" href=\"https://github.com/\" data-hotkey=\"g d\" aria-label=\"Homepage\" data-ga-click=\"Header, go to dashboard, icon:logo\">\\n  <svg aria-hidden=\"true\" class=\"octicon octicon-mark-github\" height=\"32\" version=\"1.1\" viewBox=\"0 0 16 16\" width=\"32\"><path fill-rule=\"evenodd\" d=\"M8 0C3.58 0 0 3.58 0 8c0 3.54 2.29 6.53 5.47 7.59.4.07.55-.17.55-.38 0-.19-.01-.82-.01-1.49-2.01.37-2.53-.49-2.69-.94-.09-.23-.48-.94-.82-1.13-.28-.15-.68-.52-.01-.53.63-.01 1.08.58 1.23.82.72 1.21 1.87.87 2.33.66.07-.52.28-.87.51-1.07-1.78-.2-3.64-.89-3.64-3.95 0-.87.31-1.59.82-2.15-.08-.2-.36-1.02.08-2.12 0 0 .67-.21 2.2.82.64-.18 1.32-.27 2-.27.68 0 1.36.09 2 .27 1.53-1.04 2.2-.82 2.2-.82.44 1.1.16 1.92.08 2.12.51.56.82 1.27.82 2.15 0 3.07-1.87 3.75-3.65 3.95.29.25.54.73.54 1.48 0 1.07-.01 1.93-.01 2.2 0 .21.15.46.55.38A8.013 8.013 0 0 0 16 8c0-4.42-3.58-8-8-8z\"/></svg>\\n</a>\\n\\n\\n    </div>\\n\\n    <div class=\"HeaderMenu d-flex flex-justify-between flex-auto\">\\n      <div class=\"d-flex\">\\n            <div class=\"\">\\n              <div class=\"header-search scoped-search site-scoped-search js-site-search\" role=\"search\">\\n  <!-- \\'\"` --><!-- </textarea></xmp> --></option></form><form accept-charset=\"UTF-8\" action=\"/shivamms/Complete-Python-Bootcamp/search\" class=\"js-site-search-form\" data-scoped-search-url=\"/shivamms/Complete-Python-Bootcamp/search\" data-unscoped-search-url=\"/search\" method=\"get\"><div style=\"margin:0;padding:0;display:inline\"><input name=\"utf8\" type=\"hidden\" value=\"&#x2713;\" /></div>\\n    <label class=\"form-control header-search-wrapper js-chromeless-input-container\">\\n        <a href=\"/shivamms/Complete-Python-Bootcamp/blob/master/test.txt\" class=\"header-search-scope no-underline\">This repository</a>\\n      <input type=\"text\"\\n        class=\"form-control header-search-input js-site-search-focus js-site-search-field is-clearable\"\\n        data-hotkey=\"s\"\\n        name=\"q\"\\n        value=\"\"\\n        placeholder=\"Search\"\\n        aria-label=\"Search this repository\"\\n        data-unscoped-placeholder=\"Search GitHub\"\\n        data-scoped-placeholder=\"Search\"\\n        autocapitalize=\"off\">\\n        <input type=\"hidden\" class=\"js-site-search-type-field\" name=\"type\" >\\n    </label>\\n</form></div>\\n\\n            </div>\\n\\n          <ul class=\"d-flex pl-2 flex-items-center text-bold list-style-none\" role=\"navigation\">\\n            <li>\\n              <a href=\"/pulls\" aria-label=\"Pull requests you created\" class=\"js-selected-navigation-item HeaderNavlink px-2\" data-ga-click=\"Header, click, Nav menu - item:pulls context:user\" data-hotkey=\"g p\" data-selected-links=\"/pulls /pulls/assigned /pulls/mentioned /pulls\">\\n                Pull requests\\n</a>            </li>\\n            <li>\\n              <a href=\"/issues\" aria-label=\"Issues you created\" class=\"js-selected-navigation-item HeaderNavlink px-2\" data-ga-click=\"Header, click, Nav menu - item:issues context:user\" data-hotkey=\"g i\" data-selected-links=\"/issues /issues/assigned /issues/mentioned /issues\">\\n                Issues\\n</a>            </li>\\n                <li>\\n                  <a href=\"/marketplace\" class=\"js-selected-navigation-item HeaderNavlink px-2\" data-ga-click=\"Header, click, Nav menu - item:marketplace context:user\" data-selected-links=\" /marketplace\">\\n                    Marketplace\\n</a>                </li>\\n            <li>\\n              <a href=\"/explore\" class=\"js-selected-navigation-item HeaderNavlink px-2\" data-ga-click=\"Header, click, Nav menu - item:explore\" data-selected-links=\"/explore /trending /trending/developers /integrations /integrations/feature/code /integrations/feature/collaborate /integrations/feature/ship showcases showcases_search showcases_landing /explore\">\\n                Explore\\n</a>            </li>\\n          </ul>\\n      </div>\\n\\n      <div class=\"d-flex\">\\n        \\n<ul class=\"user-nav d-flex flex-items-center list-style-none\" id=\"user-links\">\\n  <li class=\"dropdown js-menu-container\">\\n    <span class=\"d-inline-block  px-2\">\\n      \\n    <a href=\"/notifications\" aria-label=\"You have no unread notifications\" class=\"notification-indicator tooltipped tooltipped-s  js-socket-channel js-notification-indicator\" data-channel=\"notification-changed:8627753\" data-ga-click=\"Header, go to notifications, icon:read\" data-hotkey=\"g n\">\\n        <span class=\"mail-status \"></span>\\n        <svg aria-hidden=\"true\" class=\"octicon octicon-bell\" height=\"16\" version=\"1.1\" viewBox=\"0 0 14 16\" width=\"14\"><path fill-rule=\"evenodd\" d=\"M14 12v1H0v-1l.73-.58c.77-.77.81-2.55 1.19-4.42C2.69 3.23 6 2 6 2c0-.55.45-1 1-1s1 .45 1 1c0 0 3.39 1.23 4.16 5 .38 1.88.42 3.66 1.19 4.42l.66.58H14zm-7 4c1.11 0 2-.89 2-2H5c0 1.11.89 2 2 2z\"/></svg>\\n</a>\\n    </span>\\n  </li>\\n\\n  <li class=\"dropdown js-menu-container\">\\n    <details class=\"dropdown-details details-reset js-dropdown-details d-flex px-2 flex-items-center\">\\n      <summary class=\"HeaderNavlink\"\\n         aria-label=\"Create new…\"\\n         data-ga-click=\"Header, create new, icon:add\">\\n        <svg aria-hidden=\"true\" class=\"octicon octicon-plus float-left mr-1 mt-1\" height=\"16\" version=\"1.1\" viewBox=\"0 0 12 16\" width=\"12\"><path fill-rule=\"evenodd\" d=\"M12 9H7v5H5V9H0V7h5V2h2v5h5z\"/></svg>\\n        <span class=\"dropdown-caret mt-1\"></span>\\n      </summary>\\n\\n      <ul class=\"dropdown-menu dropdown-menu-sw\">\\n        \\n<a class=\"dropdown-item\" href=\"/new\" data-ga-click=\"Header, create new repository\">\\n  New repository\\n</a>\\n\\n  <a class=\"dropdown-item\" href=\"/new/import\" data-ga-click=\"Header, import a repository\">\\n    Import repository\\n  </a>\\n\\n<a class=\"dropdown-item\" href=\"https://gist.github.com/\" data-ga-click=\"Header, create new gist\">\\n  New gist\\n</a>\\n\\n  <a class=\"dropdown-item\" href=\"/organizations/new\" data-ga-click=\"Header, create new organization\">\\n    New organization\\n  </a>\\n\\n\\n\\n\\n      </ul>\\n    </details>\\n  </li>\\n\\n  <li class=\"dropdown js-menu-container\">\\n\\n    <details class=\"dropdown-details details-reset js-dropdown-details d-flex pl-2 flex-items-center\">\\n      <summary class=\"HeaderNavlink name mt-1\"\\n        aria-label=\"View profile and more\"\\n        data-ga-click=\"Header, show menu, icon:avatar\">\\n        <img alt=\"@shivamms\" class=\"avatar float-left mr-1\" src=\"https://avatars2.githubusercontent.com/u/8627753?s=40&amp;v=4\" height=\"20\" width=\"20\">\\n        <span class=\"dropdown-caret\"></span>\\n      </summary>\\n\\n      <ul class=\"dropdown-menu dropdown-menu-sw\">\\n        <li class=\"dropdown-header header-nav-current-user css-truncate\">\\n          Signed in as <strong class=\"css-truncate-target\">shivamms</strong>\\n        </li>\\n\\n        <li class=\"dropdown-divider\"></li>\\n\\n        <li><a class=\"dropdown-item\" href=\"/shivamms\" data-ga-click=\"Header, go to profile, text:your profile\">\\n          Your profile\\n        </a></li>\\n        <li><a class=\"dropdown-item\" href=\"/shivamms?tab=stars\" data-ga-click=\"Header, go to starred repos, text:your stars\">\\n          Your stars\\n        </a></li>\\n          <li><a class=\"dropdown-item\" href=\"https://gist.github.com/\" data-ga-click=\"Header, your gists, text:your gists\">Your Gists</a></li>\\n\\n        <li class=\"dropdown-divider\"></li>\\n\\n        <li><a class=\"dropdown-item\" href=\"https://help.github.com\" data-ga-click=\"Header, go to help, text:help\">\\n          Help\\n        </a></li>\\n\\n        <li><a class=\"dropdown-item\" href=\"/settings/profile\" data-ga-click=\"Header, go to settings, icon:settings\">\\n          Settings\\n        </a></li>\\n\\n        <li><!-- \\'\"` --><!-- </textarea></xmp> --></option></form><form accept-charset=\"UTF-8\" action=\"/logout\" class=\"logout-form\" method=\"post\"><div style=\"margin:0;padding:0;display:inline\"><input name=\"utf8\" type=\"hidden\" value=\"&#x2713;\" /><input name=\"authenticity_token\" type=\"hidden\" value=\"4XxhQRfSDOaqlx4QkEegzoHFHErrrRQmuSCglRbt+xBMcC3JB9YPQAERf1BrfLAIzldFtOeAusI512gzZUkh/g==\" /></div>\\n          <button type=\"submit\" class=\"dropdown-item dropdown-signout\" data-ga-click=\"Header, sign out, icon:logout\">\\n            Sign out\\n          </button>\\n        </form></li>\\n      </ul>\\n    </details>\\n  </li>\\n</ul>\\n\\n\\n        <!-- \\'\"` --><!-- </textarea></xmp> --></option></form><form accept-charset=\"UTF-8\" action=\"/logout\" class=\"sr-only right-0\" method=\"post\"><div style=\"margin:0;padding:0;display:inline\"><input name=\"utf8\" type=\"hidden\" value=\"&#x2713;\" /><input name=\"authenticity_token\" type=\"hidden\" value=\"vMAzSoH4+Ovzr5NRWfFQU0YSt+E47ubIhaGTQfyGCJQRzH/Ckfz7TVgp8hGiykCVCYDuHzTDSCwFVlvnjyLSeg==\" /></div>\\n          <button type=\"submit\" class=\"dropdown-item dropdown-signout\" data-ga-click=\"Header, sign out, icon:logout\">\\n            Sign out\\n          </button>\\n</form>      </div>\\n    </div>\\n  </div>\\n</header>\\n\\n\\n      \\n\\n  </div>\\n\\n  <div id=\"start-of-content\" class=\"show-on-focus\"></div>\\n\\n    <div id=\"js-flash-container\">\\n</div>\\n\\n\\n\\n  <div role=\"main\">\\n        <div itemscope itemtype=\"http://schema.org/SoftwareSourceCode\">\\n    <div id=\"js-repo-pjax-container\" data-pjax-container>\\n      \\n\\n\\n\\n\\n\\n  <div class=\"pagehead repohead instapaper_ignore readability-menu experiment-repo-nav \">\\n    <div class=\"repohead-details-container clearfix container \">\\n\\n      <ul class=\"pagehead-actions\">\\n  <li>\\n        <!-- \\'\"` --><!-- </textarea></xmp> --></option></form><form accept-charset=\"UTF-8\" action=\"/notifications/subscribe\" class=\"js-social-container\" data-autosubmit=\"true\" data-remote=\"true\" method=\"post\"><div style=\"margin:0;padding:0;display:inline\"><input name=\"utf8\" type=\"hidden\" value=\"&#x2713;\" /><input name=\"authenticity_token\" type=\"hidden\" value=\"x0UH6RKeVvAXBGkacmo7OH6pLQuBCJS4DZQFyf+Qxu9Hv1d7QfZEwhL/BPChYSxFcw8XlfMZyBkc0PNvMVY5bg==\" /></div>      <input class=\"form-control\" id=\"repository_id\" name=\"repository_id\" type=\"hidden\" value=\"115369199\" />\\n\\n        <div class=\"select-menu js-menu-container js-select-menu\">\\n          <a href=\"/shivamms/Complete-Python-Bootcamp/subscription\"\\n            class=\"btn btn-sm btn-with-count select-menu-button js-menu-target\"\\n            role=\"button\"\\n            aria-haspopup=\"true\"\\n            aria-expanded=\"false\"\\n            aria-label=\"Toggle repository notifications menu\"\\n            data-ga-click=\"Repository, click Watch settings, action:blob#show\">\\n            <span class=\"js-select-button\">\\n                <svg aria-hidden=\"true\" class=\"octicon octicon-eye\" height=\"16\" version=\"1.1\" viewBox=\"0 0 16 16\" width=\"16\"><path fill-rule=\"evenodd\" d=\"M8.06 2C3 2 0 8 0 8s3 6 8.06 6C13 14 16 8 16 8s-3-6-7.94-6zM8 12c-2.2 0-4-1.78-4-4 0-2.2 1.8-4 4-4 2.22 0 4 1.8 4 4 0 2.22-1.78 4-4 4zm2-4c0 1.11-.89 2-2 2-1.11 0-2-.89-2-2 0-1.11.89-2 2-2 1.11 0 2 .89 2 2z\"/></svg>\\n                Unwatch\\n            </span>\\n          </a>\\n          <a class=\"social-count js-social-count\"\\n            href=\"/shivamms/Complete-Python-Bootcamp/watchers\"\\n            aria-label=\"1 user is watching this repository\">\\n            1\\n          </a>\\n\\n        <div class=\"select-menu-modal-holder\">\\n          <div class=\"select-menu-modal subscription-menu-modal js-menu-content\">\\n            <div class=\"select-menu-header js-navigation-enable\" tabindex=\"-1\">\\n              <svg aria-label=\"Close\" class=\"octicon octicon-x js-menu-close\" height=\"16\" role=\"img\" version=\"1.1\" viewBox=\"0 0 12 16\" width=\"12\"><path fill-rule=\"evenodd\" d=\"M7.48 8l3.75 3.75-1.48 1.48L6 9.48l-3.75 3.75-1.48-1.48L4.52 8 .77 4.25l1.48-1.48L6 6.52l3.75-3.75 1.48 1.48z\"/></svg>\\n              <span class=\"select-menu-title\">Notifications</span>\\n            </div>\\n\\n              <div class=\"select-menu-list js-navigation-container\" role=\"menu\">\\n\\n                <div class=\"select-menu-item js-navigation-item \" role=\"menuitem\" tabindex=\"0\">\\n                  <svg aria-hidden=\"true\" class=\"octicon octicon-check select-menu-item-icon\" height=\"16\" version=\"1.1\" viewBox=\"0 0 12 16\" width=\"12\"><path fill-rule=\"evenodd\" d=\"M12 5l-8 8-4-4 1.5-1.5L4 10l6.5-6.5z\"/></svg>\\n                  <div class=\"select-menu-item-text\">\\n                    <input id=\"do_included\" name=\"do\" type=\"radio\" value=\"included\" />\\n                    <span class=\"select-menu-item-heading\">Not watching</span>\\n                    <span class=\"description\">Be notified when participating or @mentioned.</span>\\n                    <span class=\"js-select-button-text hidden-select-button-text\">\\n                      <svg aria-hidden=\"true\" class=\"octicon octicon-eye\" height=\"16\" version=\"1.1\" viewBox=\"0 0 16 16\" width=\"16\"><path fill-rule=\"evenodd\" d=\"M8.06 2C3 2 0 8 0 8s3 6 8.06 6C13 14 16 8 16 8s-3-6-7.94-6zM8 12c-2.2 0-4-1.78-4-4 0-2.2 1.8-4 4-4 2.22 0 4 1.8 4 4 0 2.22-1.78 4-4 4zm2-4c0 1.11-.89 2-2 2-1.11 0-2-.89-2-2 0-1.11.89-2 2-2 1.11 0 2 .89 2 2z\"/></svg>\\n                      Watch\\n                    </span>\\n                  </div>\\n                </div>\\n\\n                <div class=\"select-menu-item js-navigation-item selected\" role=\"menuitem\" tabindex=\"0\">\\n                  <svg aria-hidden=\"true\" class=\"octicon octicon-check select-menu-item-icon\" height=\"16\" version=\"1.1\" viewBox=\"0 0 12 16\" width=\"12\"><path fill-rule=\"evenodd\" d=\"M12 5l-8 8-4-4 1.5-1.5L4 10l6.5-6.5z\"/></svg>\\n                  <div class=\"select-menu-item-text\">\\n                    <input checked=\"checked\" id=\"do_subscribed\" name=\"do\" type=\"radio\" value=\"subscribed\" />\\n                    <span class=\"select-menu-item-heading\">Watching</span>\\n                    <span class=\"description\">Be notified of all conversations.</span>\\n                    <span class=\"js-select-button-text hidden-select-button-text\">\\n                      <svg aria-hidden=\"true\" class=\"octicon octicon-eye\" height=\"16\" version=\"1.1\" viewBox=\"0 0 16 16\" width=\"16\"><path fill-rule=\"evenodd\" d=\"M8.06 2C3 2 0 8 0 8s3 6 8.06 6C13 14 16 8 16 8s-3-6-7.94-6zM8 12c-2.2 0-4-1.78-4-4 0-2.2 1.8-4 4-4 2.22 0 4 1.8 4 4 0 2.22-1.78 4-4 4zm2-4c0 1.11-.89 2-2 2-1.11 0-2-.89-2-2 0-1.11.89-2 2-2 1.11 0 2 .89 2 2z\"/></svg>\\n                        Unwatch\\n                    </span>\\n                  </div>\\n                </div>\\n\\n                <div class=\"select-menu-item js-navigation-item \" role=\"menuitem\" tabindex=\"0\">\\n                  <svg aria-hidden=\"true\" class=\"octicon octicon-check select-menu-item-icon\" height=\"16\" version=\"1.1\" viewBox=\"0 0 12 16\" width=\"12\"><path fill-rule=\"evenodd\" d=\"M12 5l-8 8-4-4 1.5-1.5L4 10l6.5-6.5z\"/></svg>\\n                  <div class=\"select-menu-item-text\">\\n                    <input id=\"do_ignore\" name=\"do\" type=\"radio\" value=\"ignore\" />\\n                    <span class=\"select-menu-item-heading\">Ignoring</span>\\n                    <span class=\"description\">Never be notified.</span>\\n                    <span class=\"js-select-button-text hidden-select-button-text\">\\n                      <svg aria-hidden=\"true\" class=\"octicon octicon-mute\" height=\"16\" version=\"1.1\" viewBox=\"0 0 16 16\" width=\"16\"><path fill-rule=\"evenodd\" d=\"M8 2.81v10.38c0 .67-.81 1-1.28.53L3 10H1c-.55 0-1-.45-1-1V7c0-.55.45-1 1-1h2l3.72-3.72C7.19 1.81 8 2.14 8 2.81zm7.53 3.22l-1.06-1.06-1.97 1.97-1.97-1.97-1.06 1.06L11.44 8 9.47 9.97l1.06 1.06 1.97-1.97 1.97 1.97 1.06-1.06L13.56 8l1.97-1.97z\"/></svg>\\n                        Stop ignoring\\n                    </span>\\n                  </div>\\n                </div>\\n\\n              </div>\\n\\n            </div>\\n          </div>\\n        </div>\\n</form>\\n  </li>\\n\\n  <li>\\n    \\n  <div class=\"js-toggler-container js-social-container starring-container \">\\n    <!-- \\'\"` --><!-- </textarea></xmp> --></option></form><form accept-charset=\"UTF-8\" action=\"/shivamms/Complete-Python-Bootcamp/unstar\" class=\"starred js-social-form\" method=\"post\"><div style=\"margin:0;padding:0;display:inline\"><input name=\"utf8\" type=\"hidden\" value=\"&#x2713;\" /><input name=\"authenticity_token\" type=\"hidden\" value=\"MRCPoigRjV1KUcVm70Z4eVXl2ZNbWE6PUQOf6uLdqOz792UnDtMHldwVQ52eDOto1DbIcNoy9hx5u/ep4xOn+A==\" /></div>\\n      <input type=\"hidden\" name=\"context\" value=\"repository\"></input>\\n      <button\\n        type=\"submit\"\\n        class=\"btn btn-sm btn-with-count js-toggler-target\"\\n        aria-label=\"Unstar this repository\" title=\"Unstar shivamms/Complete-Python-Bootcamp\"\\n        data-ga-click=\"Repository, click unstar button, action:blob#show; text:Unstar\">\\n        <svg aria-hidden=\"true\" class=\"octicon octicon-star\" height=\"16\" version=\"1.1\" viewBox=\"0 0 14 16\" width=\"14\"><path fill-rule=\"evenodd\" d=\"M14 6l-4.9-.64L7 1 4.9 5.36 0 6l3.6 3.26L2.67 14 7 11.67 11.33 14l-.93-4.74z\"/></svg>\\n        Unstar\\n      </button>\\n        <a class=\"social-count js-social-count\" href=\"/shivamms/Complete-Python-Bootcamp/stargazers\"\\n           aria-label=\"0 users starred this repository\">\\n          0\\n        </a>\\n</form>\\n    <!-- \\'\"` --><!-- </textarea></xmp> --></option></form><form accept-charset=\"UTF-8\" action=\"/shivamms/Complete-Python-Bootcamp/star\" class=\"unstarred js-social-form\" method=\"post\"><div style=\"margin:0;padding:0;display:inline\"><input name=\"utf8\" type=\"hidden\" value=\"&#x2713;\" /><input name=\"authenticity_token\" type=\"hidden\" value=\"DAt+C/5HreR+cQpXJ/TcZxIhzQr44a2+wpVNVTLQ41o8HjPb1VaBpDJlZxlg2QzSD7C9/2cgFhz895vf2Bka6Q==\" /></div>\\n      <input type=\"hidden\" name=\"context\" value=\"repository\"></input>\\n      <button\\n        type=\"submit\"\\n        class=\"btn btn-sm btn-with-count js-toggler-target\"\\n        aria-label=\"Star this repository\" title=\"Star shivamms/Complete-Python-Bootcamp\"\\n        data-ga-click=\"Repository, click star button, action:blob#show; text:Star\">\\n        <svg aria-hidden=\"true\" class=\"octicon octicon-star\" height=\"16\" version=\"1.1\" viewBox=\"0 0 14 16\" width=\"14\"><path fill-rule=\"evenodd\" d=\"M14 6l-4.9-.64L7 1 4.9 5.36 0 6l3.6 3.26L2.67 14 7 11.67 11.33 14l-.93-4.74z\"/></svg>\\n        Star\\n      </button>\\n        <a class=\"social-count js-social-count\" href=\"/shivamms/Complete-Python-Bootcamp/stargazers\"\\n           aria-label=\"0 users starred this repository\">\\n          0\\n        </a>\\n</form>  </div>\\n\\n  </li>\\n\\n  <li>\\n          <!-- \\'\"` --><!-- </textarea></xmp> --></option></form><form accept-charset=\"UTF-8\" action=\"/shivamms/Complete-Python-Bootcamp/fork\" class=\"btn-with-count\" method=\"post\"><div style=\"margin:0;padding:0;display:inline\"><input name=\"utf8\" type=\"hidden\" value=\"&#x2713;\" /><input name=\"authenticity_token\" type=\"hidden\" value=\"ooVIFlZbdU63ef9EdBC5Fu6ffU0DDaCNdk6Jcvsd+2Iwz12JEQBXkP+2Kcf6TEol7Eg9eWJfnGFbEaRhwsxoCA==\" /></div>\\n            <button\\n                type=\"submit\"\\n                class=\"btn btn-sm btn-with-count\"\\n                data-ga-click=\"Repository, show fork modal, action:blob#show; text:Fork\"\\n                title=\"Fork your own copy of shivamms/Complete-Python-Bootcamp to your account\"\\n                aria-label=\"Fork your own copy of shivamms/Complete-Python-Bootcamp to your account\">\\n              <svg aria-hidden=\"true\" class=\"octicon octicon-repo-forked\" height=\"16\" version=\"1.1\" viewBox=\"0 0 10 16\" width=\"10\"><path fill-rule=\"evenodd\" d=\"M8 1a1.993 1.993 0 0 0-1 3.72V6L5 8 3 6V4.72A1.993 1.993 0 0 0 2 1a1.993 1.993 0 0 0-1 3.72V6.5l3 3v1.78A1.993 1.993 0 0 0 5 15a1.993 1.993 0 0 0 1-3.72V9.5l3-3V4.72A1.993 1.993 0 0 0 8 1zM2 4.2C1.34 4.2.8 3.65.8 3c0-.65.55-1.2 1.2-1.2.65 0 1.2.55 1.2 1.2 0 .65-.55 1.2-1.2 1.2zm3 10c-.66 0-1.2-.55-1.2-1.2 0-.65.55-1.2 1.2-1.2.65 0 1.2.55 1.2 1.2 0 .65-.55 1.2-1.2 1.2zm3-10c-.66 0-1.2-.55-1.2-1.2 0-.65.55-1.2 1.2-1.2.65 0 1.2.55 1.2 1.2 0 .65-.55 1.2-1.2 1.2z\"/></svg>\\n              Fork\\n            </button>\\n</form>\\n    <a href=\"/shivamms/Complete-Python-Bootcamp/network\" class=\"social-count\"\\n       aria-label=\"1214 users forked this repository\">\\n      1,214\\n    </a>\\n  </li>\\n</ul>\\n\\n      <h1 class=\"public \">\\n  <svg aria-hidden=\"true\" class=\"octicon octicon-repo-forked\" height=\"16\" version=\"1.1\" viewBox=\"0 0 10 16\" width=\"10\"><path fill-rule=\"evenodd\" d=\"M8 1a1.993 1.993 0 0 0-1 3.72V6L5 8 3 6V4.72A1.993 1.993 0 0 0 2 1a1.993 1.993 0 0 0-1 3.72V6.5l3 3v1.78A1.993 1.993 0 0 0 5 15a1.993 1.993 0 0 0 1-3.72V9.5l3-3V4.72A1.993 1.993 0 0 0 8 1zM2 4.2C1.34 4.2.8 3.65.8 3c0-.65.55-1.2 1.2-1.2.65 0 1.2.55 1.2 1.2 0 .65-.55 1.2-1.2 1.2zm3 10c-.66 0-1.2-.55-1.2-1.2 0-.65.55-1.2 1.2-1.2.65 0 1.2.55 1.2 1.2 0 .65-.55 1.2-1.2 1.2zm3-10c-.66 0-1.2-.55-1.2-1.2 0-.65.55-1.2 1.2-1.2.65 0 1.2.55 1.2 1.2 0 .65-.55 1.2-1.2 1.2z\"/></svg>\\n  <span class=\"author\" itemprop=\"author\"><a href=\"/shivamms\" class=\"url fn\" rel=\"author\">shivamms</a></span><!--\\n--><span class=\"path-divider\">/</span><!--\\n--><strong itemprop=\"name\"><a href=\"/shivamms/Complete-Python-Bootcamp\" data-pjax=\"#js-repo-pjax-container\">Complete-Python-Bootcamp</a></strong>\\n\\n    <span class=\"fork-flag\">\\n      <span class=\"text\">forked from <a href=\"/jmportilla/Complete-Python-Bootcamp\">jmportilla/Complete-Python-Bootcamp</a></span>\\n    </span>\\n</h1>\\n\\n    </div>\\n    \\n<nav class=\"reponav js-repo-nav js-sidenav-container-pjax container\"\\n     itemscope\\n     itemtype=\"http://schema.org/BreadcrumbList\"\\n     role=\"navigation\"\\n     data-pjax=\"#js-repo-pjax-container\">\\n\\n  <span itemscope itemtype=\"http://schema.org/ListItem\" itemprop=\"itemListElement\">\\n    <a href=\"/shivamms/Complete-Python-Bootcamp\" class=\"js-selected-navigation-item selected reponav-item\" data-hotkey=\"g c\" data-selected-links=\"repo_source repo_downloads repo_commits repo_releases repo_tags repo_branches repo_packages /shivamms/Complete-Python-Bootcamp\" itemprop=\"url\">\\n      <svg aria-hidden=\"true\" class=\"octicon octicon-code\" height=\"16\" version=\"1.1\" viewBox=\"0 0 14 16\" width=\"14\"><path fill-rule=\"evenodd\" d=\"M9.5 3L8 4.5 11.5 8 8 11.5 9.5 13 14 8 9.5 3zm-5 0L0 8l4.5 5L6 11.5 2.5 8 6 4.5 4.5 3z\"/></svg>\\n      <span itemprop=\"name\">Code</span>\\n      <meta itemprop=\"position\" content=\"1\">\\n</a>  </span>\\n\\n\\n  <span itemscope itemtype=\"http://schema.org/ListItem\" itemprop=\"itemListElement\">\\n    <a href=\"/shivamms/Complete-Python-Bootcamp/pulls\" class=\"js-selected-navigation-item reponav-item\" data-hotkey=\"g p\" data-selected-links=\"repo_pulls /shivamms/Complete-Python-Bootcamp/pulls\" itemprop=\"url\">\\n      <svg aria-hidden=\"true\" class=\"octicon octicon-git-pull-request\" height=\"16\" version=\"1.1\" viewBox=\"0 0 12 16\" width=\"12\"><path fill-rule=\"evenodd\" d=\"M11 11.28V5c-.03-.78-.34-1.47-.94-2.06C9.46 2.35 8.78 2.03 8 2H7V0L4 3l3 3V4h1c.27.02.48.11.69.31.21.2.3.42.31.69v6.28A1.993 1.993 0 0 0 10 15a1.993 1.993 0 0 0 1-3.72zm-1 2.92c-.66 0-1.2-.55-1.2-1.2 0-.65.55-1.2 1.2-1.2.65 0 1.2.55 1.2 1.2 0 .65-.55 1.2-1.2 1.2zM4 3c0-1.11-.89-2-2-2a1.993 1.993 0 0 0-1 3.72v6.56A1.993 1.993 0 0 0 2 15a1.993 1.993 0 0 0 1-3.72V4.72c.59-.34 1-.98 1-1.72zm-.8 10c0 .66-.55 1.2-1.2 1.2-.65 0-1.2-.55-1.2-1.2 0-.65.55-1.2 1.2-1.2.65 0 1.2.55 1.2 1.2zM2 4.2C1.34 4.2.8 3.65.8 3c0-.65.55-1.2 1.2-1.2.65 0 1.2.55 1.2 1.2 0 .65-.55 1.2-1.2 1.2z\"/></svg>\\n      <span itemprop=\"name\">Pull requests</span>\\n      <span class=\"Counter\">0</span>\\n      <meta itemprop=\"position\" content=\"3\">\\n</a>  </span>\\n\\n    <a href=\"/shivamms/Complete-Python-Bootcamp/projects\" class=\"js-selected-navigation-item reponav-item\" data-hotkey=\"g b\" data-selected-links=\"repo_projects new_repo_project repo_project /shivamms/Complete-Python-Bootcamp/projects\">\\n      <svg aria-hidden=\"true\" class=\"octicon octicon-project\" height=\"16\" version=\"1.1\" viewBox=\"0 0 15 16\" width=\"15\"><path fill-rule=\"evenodd\" d=\"M10 12h3V2h-3v10zm-4-2h3V2H6v8zm-4 4h3V2H2v12zm-1 1h13V1H1v14zM14 0H1a1 1 0 0 0-1 1v14a1 1 0 0 0 1 1h13a1 1 0 0 0 1-1V1a1 1 0 0 0-1-1z\"/></svg>\\n      Projects\\n      <span class=\"Counter\" >0</span>\\n</a>\\n    <a href=\"/shivamms/Complete-Python-Bootcamp/wiki\" class=\"js-selected-navigation-item reponav-item\" data-hotkey=\"g w\" data-selected-links=\"repo_wiki /shivamms/Complete-Python-Bootcamp/wiki\">\\n      <svg aria-hidden=\"true\" class=\"octicon octicon-book\" height=\"16\" version=\"1.1\" viewBox=\"0 0 16 16\" width=\"16\"><path fill-rule=\"evenodd\" d=\"M3 5h4v1H3V5zm0 3h4V7H3v1zm0 2h4V9H3v1zm11-5h-4v1h4V5zm0 2h-4v1h4V7zm0 2h-4v1h4V9zm2-6v9c0 .55-.45 1-1 1H9.5l-1 1-1-1H2c-.55 0-1-.45-1-1V3c0-.55.45-1 1-1h5.5l1 1 1-1H15c.55 0 1 .45 1 1zm-8 .5L7.5 3H2v9h6V3.5zm7-.5H9.5l-.5.5V12h6V3z\"/></svg>\\n      Wiki\\n</a>\\n\\n  <a href=\"/shivamms/Complete-Python-Bootcamp/pulse\" class=\"js-selected-navigation-item reponav-item\" data-selected-links=\"repo_graphs repo_contributors dependency_graph pulse /shivamms/Complete-Python-Bootcamp/pulse\">\\n    <svg aria-hidden=\"true\" class=\"octicon octicon-graph\" height=\"16\" version=\"1.1\" viewBox=\"0 0 16 16\" width=\"16\"><path fill-rule=\"evenodd\" d=\"M16 14v1H0V0h1v14h15zM5 13H3V8h2v5zm4 0H7V3h2v10zm4 0h-2V6h2v7z\"/></svg>\\n    Insights\\n</a>\\n    <a href=\"/shivamms/Complete-Python-Bootcamp/settings\" class=\"js-selected-navigation-item reponav-item\" data-selected-links=\"repo_settings repo_branch_settings hooks integration_installations repo_keys_settings /shivamms/Complete-Python-Bootcamp/settings\">\\n      <svg aria-hidden=\"true\" class=\"octicon octicon-gear\" height=\"16\" version=\"1.1\" viewBox=\"0 0 14 16\" width=\"14\"><path fill-rule=\"evenodd\" d=\"M14 8.77v-1.6l-1.94-.64-.45-1.09.88-1.84-1.13-1.13-1.81.91-1.09-.45-.69-1.92h-1.6l-.63 1.94-1.11.45-1.84-.88-1.13 1.13.91 1.81-.45 1.09L0 7.23v1.59l1.94.64.45 1.09-.88 1.84 1.13 1.13 1.81-.91 1.09.45.69 1.92h1.59l.63-1.94 1.11-.45 1.84.88 1.13-1.13-.92-1.81.47-1.09L14 8.75v.02zM7 11c-1.66 0-3-1.34-3-3s1.34-3 3-3 3 1.34 3 3-1.34 3-3 3z\"/></svg>\\n      Settings\\n</a>\\n</nav>\\n\\n\\n  </div>\\n\\n<div class=\"container new-discussion-timeline experiment-repo-nav\">\\n  <div class=\"repository-content\">\\n\\n    \\n  <a href=\"/shivamms/Complete-Python-Bootcamp/blob/6b5531e8087439a5e3739adabe2ea637d71f0551/test.txt\" class=\"d-none js-permalink-shortcut\" data-hotkey=\"y\">Permalink</a>\\n\\n  <!-- blob contrib key: blob_contributors:v21:a8a9a2e40f0ef3faf440d4e7a57d4c36 -->\\n\\n  <div class=\"file-navigation js-zeroclipboard-container\">\\n    \\n<div class=\"select-menu branch-select-menu js-menu-container js-select-menu float-left\">\\n  <button class=\" btn btn-sm select-menu-button js-menu-target css-truncate\" data-hotkey=\"w\"\\n    \\n    type=\"button\" aria-label=\"Switch branches or tags\" aria-expanded=\"false\" aria-haspopup=\"true\">\\n      <i>Branch:</i>\\n      <span class=\"js-select-button css-truncate-target\">master</span>\\n  </button>\\n\\n  <div class=\"select-menu-modal-holder js-menu-content js-navigation-container\" data-pjax>\\n\\n    <div class=\"select-menu-modal\">\\n      <div class=\"select-menu-header\">\\n        <svg aria-label=\"Close\" class=\"octicon octicon-x js-menu-close\" height=\"16\" role=\"img\" version=\"1.1\" viewBox=\"0 0 12 16\" width=\"12\"><path fill-rule=\"evenodd\" d=\"M7.48 8l3.75 3.75-1.48 1.48L6 9.48l-3.75 3.75-1.48-1.48L4.52 8 .77 4.25l1.48-1.48L6 6.52l3.75-3.75 1.48 1.48z\"/></svg>\\n        <span class=\"select-menu-title\">Switch branches/tags</span>\\n      </div>\\n\\n      <div class=\"select-menu-filters\">\\n        <div class=\"select-menu-text-filter\">\\n          <input type=\"text\" aria-label=\"Find or create a branch…\" id=\"context-commitish-filter-field\" class=\"form-control js-filterable-field js-navigation-enable\" placeholder=\"Find or create a branch…\">\\n        </div>\\n        <div class=\"select-menu-tabs\">\\n          <ul>\\n            <li class=\"select-menu-tab\">\\n              <a href=\"#\" data-tab-filter=\"branches\" data-filter-placeholder=\"Find or create a branch…\" class=\"js-select-menu-tab\" role=\"tab\">Branches</a>\\n            </li>\\n            <li class=\"select-menu-tab\">\\n              <a href=\"#\" data-tab-filter=\"tags\" data-filter-placeholder=\"Find a tag…\" class=\"js-select-menu-tab\" role=\"tab\">Tags</a>\\n            </li>\\n          </ul>\\n        </div>\\n      </div>\\n\\n      <div class=\"select-menu-list select-menu-tab-bucket js-select-menu-tab-bucket\" data-tab-filter=\"branches\" role=\"menu\">\\n\\n        <div data-filterable-for=\"context-commitish-filter-field\" data-filterable-type=\"substring\">\\n\\n\\n            <a class=\"select-menu-item js-navigation-item js-navigation-open selected\"\\n               href=\"/shivamms/Complete-Python-Bootcamp/blob/master/test.txt\"\\n               data-name=\"master\"\\n               data-skip-pjax=\"true\"\\n               rel=\"nofollow\">\\n              <svg aria-hidden=\"true\" class=\"octicon octicon-check select-menu-item-icon\" height=\"16\" version=\"1.1\" viewBox=\"0 0 12 16\" width=\"12\"><path fill-rule=\"evenodd\" d=\"M12 5l-8 8-4-4 1.5-1.5L4 10l6.5-6.5z\"/></svg>\\n              <span class=\"select-menu-item-text css-truncate-target js-select-menu-filter-text\">\\n                master\\n              </span>\\n            </a>\\n        </div>\\n\\n          <!-- \\'\"` --><!-- </textarea></xmp> --></option></form><form accept-charset=\"UTF-8\" action=\"/shivamms/Complete-Python-Bootcamp/branches\" class=\"js-create-branch select-menu-item select-menu-new-item-form js-navigation-item js-new-item-form\" method=\"post\"><div style=\"margin:0;padding:0;display:inline\"><input name=\"utf8\" type=\"hidden\" value=\"&#x2713;\" /><input name=\"authenticity_token\" type=\"hidden\" value=\"v7gUfBR42hLaPUwbFgwUZetjxGh4+pWp1kh/BtzOWElN1Xm8Pp3n0Y0EhnxiLVp5eAtP7Dc8ttudekg91akNSg==\" /></div>\\n          <svg aria-hidden=\"true\" class=\"octicon octicon-git-branch select-menu-item-icon\" height=\"16\" version=\"1.1\" viewBox=\"0 0 10 16\" width=\"10\"><path fill-rule=\"evenodd\" d=\"M10 5c0-1.11-.89-2-2-2a1.993 1.993 0 0 0-1 3.72v.3c-.02.52-.23.98-.63 1.38-.4.4-.86.61-1.38.63-.83.02-1.48.16-2 .45V4.72a1.993 1.993 0 0 0-1-3.72C.88 1 0 1.89 0 3a2 2 0 0 0 1 1.72v6.56c-.59.35-1 .99-1 1.72 0 1.11.89 2 2 2 1.11 0 2-.89 2-2 0-.53-.2-1-.53-1.36.09-.06.48-.41.59-.47.25-.11.56-.17.94-.17 1.05-.05 1.95-.45 2.75-1.25S8.95 7.77 9 6.73h-.02C9.59 6.37 10 5.73 10 5zM2 1.8c.66 0 1.2.55 1.2 1.2 0 .65-.55 1.2-1.2 1.2C1.35 4.2.8 3.65.8 3c0-.65.55-1.2 1.2-1.2zm0 12.41c-.66 0-1.2-.55-1.2-1.2 0-.65.55-1.2 1.2-1.2.65 0 1.2.55 1.2 1.2 0 .65-.55 1.2-1.2 1.2zm6-8c-.66 0-1.2-.55-1.2-1.2 0-.65.55-1.2 1.2-1.2.65 0 1.2.55 1.2 1.2 0 .65-.55 1.2-1.2 1.2z\"/></svg>\\n            <div class=\"select-menu-item-text\">\\n              <span class=\"select-menu-item-heading\">Create branch: <span class=\"js-new-item-name\"></span></span>\\n              <span class=\"description\">from ‘master’</span>\\n            </div>\\n            <input type=\"hidden\" name=\"name\" id=\"name\" class=\"js-new-item-value\">\\n            <input type=\"hidden\" name=\"branch\" id=\"branch\" value=\"master\">\\n            <input type=\"hidden\" name=\"path\" id=\"path\" value=\"test.txt\">\\n</form>\\n      </div>\\n\\n      <div class=\"select-menu-list select-menu-tab-bucket js-select-menu-tab-bucket\" data-tab-filter=\"tags\">\\n        <div data-filterable-for=\"context-commitish-filter-field\" data-filterable-type=\"substring\">\\n\\n\\n        </div>\\n\\n        <div class=\"select-menu-no-results\">Nothing to show</div>\\n      </div>\\n\\n    </div>\\n  </div>\\n</div>\\n\\n    <div class=\"BtnGroup float-right\">\\n      <a href=\"/shivamms/Complete-Python-Bootcamp/find/master\"\\n            class=\"js-pjax-capture-input btn btn-sm BtnGroup-item\"\\n            data-pjax\\n            data-hotkey=\"t\">\\n        Find file\\n      </a>\\n      <button aria-label=\"Copy file path to clipboard\" class=\"js-zeroclipboard btn btn-sm BtnGroup-item tooltipped tooltipped-s\" data-copied-hint=\"Copied!\" type=\"button\">Copy path</button>\\n    </div>\\n    <div class=\"breadcrumb js-zeroclipboard-target\">\\n      <span class=\"repo-root js-repo-root\"><span class=\"js-path-segment\"><a href=\"/shivamms/Complete-Python-Bootcamp\"><span>Complete-Python-Bootcamp</span></a></span></span><span class=\"separator\">/</span><strong class=\"final-path\">test.txt</strong>\\n    </div>\\n  </div>\\n\\n\\n  \\n  <div class=\"commit-tease\">\\n      <span class=\"float-right\">\\n        <a class=\"commit-tease-sha\" href=\"/shivamms/Complete-Python-Bootcamp/commit/43df8ea435fb00ee6580deaa7da0f1cad0d9ffde\" data-pjax>\\n          43df8ea\\n        </a>\\n        <relative-time datetime=\"2015-09-08T16:01:01Z\">Sep 8, 2015</relative-time>\\n      </span>\\n      <div>\\n        <img alt=\"@jmportilla\" class=\"avatar\" height=\"20\" src=\"https://avatars0.githubusercontent.com/u/8271660?s=40&amp;v=4\" width=\"20\" />\\n        <a href=\"/jmportilla\" class=\"user-mention\" rel=\"contributor\">jmportilla</a>\\n          <a href=\"/shivamms/Complete-Python-Bootcamp/commit/43df8ea435fb00ee6580deaa7da0f1cad0d9ffde\" class=\"message\" data-pjax=\"true\" title=\"updtae\">updtae</a>\\n      </div>\\n\\n    <div class=\"commit-tease-contributors\">\\n      <button type=\"button\" class=\"btn-link muted-link contributors-toggle\" data-facebox=\"#blob_contributors_box\">\\n        <strong>1</strong>\\n         contributor\\n      </button>\\n      \\n    </div>\\n\\n    <div id=\"blob_contributors_box\" style=\"display:none\">\\n      <h2 class=\"facebox-header\" data-facebox-id=\"facebox-header\">Users who have contributed to this file</h2>\\n      <ul class=\"facebox-user-list\" data-facebox-id=\"facebox-description\">\\n          <li class=\"facebox-user-list-item\">\\n            <img alt=\"@jmportilla\" height=\"24\" src=\"https://avatars1.githubusercontent.com/u/8271660?s=48&amp;v=4\" width=\"24\" />\\n            <a href=\"/jmportilla\">jmportilla</a>\\n          </li>\\n      </ul>\\n    </div>\\n  </div>\\n\\n\\n  <div class=\"file\">\\n    <div class=\"file-header\">\\n  <div class=\"file-actions\">\\n\\n    <div class=\"BtnGroup\">\\n      <a href=\"/shivamms/Complete-Python-Bootcamp/raw/master/test.txt\" class=\"btn btn-sm BtnGroup-item\" id=\"raw-url\">Raw</a>\\n        <a href=\"/shivamms/Complete-Python-Bootcamp/blame/master/test.txt\" class=\"btn btn-sm js-update-url-with-hash BtnGroup-item\" data-hotkey=\"b\">Blame</a>\\n      <a href=\"/shivamms/Complete-Python-Bootcamp/commits/master/test.txt\" class=\"btn btn-sm BtnGroup-item\" rel=\"nofollow\">History</a>\\n    </div>\\n\\n\\n        <!-- \\'\"` --><!-- </textarea></xmp> --></option></form><form accept-charset=\"UTF-8\" action=\"/shivamms/Complete-Python-Bootcamp/edit/master/test.txt\" class=\"inline-form js-update-url-with-hash\" method=\"post\"><div style=\"margin:0;padding:0;display:inline\"><input name=\"utf8\" type=\"hidden\" value=\"&#x2713;\" /><input name=\"authenticity_token\" type=\"hidden\" value=\"SCtCqrbpTo17MD0q9z4nosbNpHreyMyb8i8fjcj7XGhakKSzmACEyJ04ojijj9U+PU2InXuVzFtu9jnKFfmsgQ==\" /></div>\\n          <button class=\"btn-octicon tooltipped tooltipped-nw\" type=\"submit\"\\n            aria-label=\"Edit this file\" data-hotkey=\"e\" data-disable-with>\\n            <svg aria-hidden=\"true\" class=\"octicon octicon-pencil\" height=\"16\" version=\"1.1\" viewBox=\"0 0 14 16\" width=\"14\"><path fill-rule=\"evenodd\" d=\"M0 12v3h3l8-8-3-3-8 8zm3 2H1v-2h1v1h1v1zm10.3-9.3L12 6 9 3l1.3-1.3a.996.996 0 0 1 1.41 0l1.59 1.59c.39.39.39 1.02 0 1.41z\"/></svg>\\n          </button>\\n</form>        <!-- \\'\"` --><!-- </textarea></xmp> --></option></form><form accept-charset=\"UTF-8\" action=\"/shivamms/Complete-Python-Bootcamp/delete/master/test.txt\" class=\"inline-form\" method=\"post\"><div style=\"margin:0;padding:0;display:inline\"><input name=\"utf8\" type=\"hidden\" value=\"&#x2713;\" /><input name=\"authenticity_token\" type=\"hidden\" value=\"AlF91i6s0ENc69hRt54EEU2wxhC6Pa5TjIp8d18Wt2f4hIvlhVrC+oovW87e9PhqO9Emrpa2DYffpqnAhM3d9A==\" /></div>\\n          <button class=\"btn-octicon btn-octicon-danger tooltipped tooltipped-nw\" type=\"submit\"\\n            aria-label=\"Delete this file\" data-disable-with>\\n            <svg aria-hidden=\"true\" class=\"octicon octicon-trashcan\" height=\"16\" version=\"1.1\" viewBox=\"0 0 12 16\" width=\"12\"><path fill-rule=\"evenodd\" d=\"M11 2H9c0-.55-.45-1-1-1H5c-.55 0-1 .45-1 1H2c-.55 0-1 .45-1 1v1c0 .55.45 1 1 1v9c0 .55.45 1 1 1h7c.55 0 1-.45 1-1V5c.55 0 1-.45 1-1V3c0-.55-.45-1-1-1zm-1 12H3V5h1v8h1V5h1v8h1V5h1v8h1V5h1v9zm1-10H2V3h9v1z\"/></svg>\\n          </button>\\n</form>  </div>\\n\\n  <div class=\"file-info\">\\n      1 lines (1 sloc)\\n      <span class=\"file-info-divider\"></span>\\n    22 Bytes\\n  </div>\\n</div>\\n\\n    \\n\\n  <div itemprop=\"text\" class=\"blob-wrapper data type-text\">\\n      <table class=\"highlight tab-size js-file-line-container\" data-tab-size=\"8\">\\n      <tr>\\n        <td id=\"L1\" class=\"blob-num js-line-number\" data-line-number=\"1\"></td>\\n        <td id=\"LC1\" class=\"blob-code blob-code-inner js-file-line\">This is a new lineLine</td>\\n      </tr>\\n</table>\\n\\n  <div class=\"BlobToolbar position-absolute js-file-line-actions dropdown js-menu-container js-select-menu d-none\" aria-hidden=\"true\">\\n    <button class=\"btn-octicon ml-0 px-2 p-0 bg-white border border-gray-dark rounded-1 dropdown-toggle js-menu-target\" id=\"js-file-line-action-button\" type=\"button\" aria-expanded=\"false\" aria-haspopup=\"true\" aria-label=\"Inline file action toolbar\" aria-controls=\"inline-file-actions\">\\n      <svg aria-hidden=\"true\" class=\"octicon octicon-kebab-horizontal\" height=\"16\" version=\"1.1\" viewBox=\"0 0 13 16\" width=\"13\"><path fill-rule=\"evenodd\" d=\"M1.5 9a1.5 1.5 0 1 1 0-3 1.5 1.5 0 0 1 0 3zm5 0a1.5 1.5 0 1 1 0-3 1.5 1.5 0 0 1 0 3zm5 0a1.5 1.5 0 1 1 0-3 1.5 1.5 0 0 1 0 3z\"/></svg>\\n    </button>\\n    <div class=\"dropdown-menu-content js-menu-content\" id=\"inline-file-actions\">\\n      <ul class=\"BlobToolbar-dropdown dropdown-menu dropdown-menu-se mt-2\">\\n        <li><a class=\"js-zeroclipboard dropdown-item\" style=\"cursor:pointer;\" id=\"js-copy-lines\" data-original-text=\"Copy lines\">Copy lines</a></li>\\n        <li><a class=\"js-zeroclipboard dropdown-item\" id= \"js-copy-permalink\" style=\"cursor:pointer;\" data-original-text=\"Copy permalink\">Copy permalink</a></li>\\n        <li><a href=\"/shivamms/Complete-Python-Bootcamp/blame/6b5531e8087439a5e3739adabe2ea637d71f0551/test.txt\" class=\"dropdown-item js-update-url-with-hash\" id=\"js-view-git-blame\">View git blame</a></li>\\n      </ul>\\n    </div>\\n  </div>\\n\\n  </div>\\n\\n  </div>\\n\\n  <button type=\"button\" data-facebox=\"#jump-to-line\" data-facebox-class=\"linejump\" data-hotkey=\"l\" class=\"d-none\">Jump to Line</button>\\n  <div id=\"jump-to-line\" style=\"display:none\">\\n    <!-- \\'\"` --><!-- </textarea></xmp> --></option></form><form accept-charset=\"UTF-8\" action=\"\" class=\"js-jump-to-line-form\" method=\"get\"><div style=\"margin:0;padding:0;display:inline\"><input name=\"utf8\" type=\"hidden\" value=\"&#x2713;\" /></div>\\n      <input class=\"form-control linejump-input js-jump-to-line-field\" type=\"text\" placeholder=\"Jump to line&hellip;\" aria-label=\"Jump to line\" autofocus>\\n      <button type=\"submit\" class=\"btn\">Go</button>\\n</form>  </div>\\n\\n\\n  </div>\\n  <div class=\"modal-backdrop js-touch-events\"></div>\\n</div>\\n\\n    </div>\\n  </div>\\n\\n  </div>\\n\\n      \\n<div class=\"footer container-lg px-3\" role=\"contentinfo\">\\n  <div class=\"position-relative d-flex flex-justify-between py-6 mt-6 f6 text-gray border-top border-gray-light \">\\n    <ul class=\"list-style-none d-flex flex-wrap \">\\n      <li class=\"mr-3\">&copy; 2017 <span title=\"0.13357s from unicorn-2720407843-9hbns\">GitHub</span>, Inc.</li>\\n        <li class=\"mr-3\"><a href=\"https://github.com/site/terms\" data-ga-click=\"Footer, go to terms, text:terms\">Terms</a></li>\\n        <li class=\"mr-3\"><a href=\"https://github.com/site/privacy\" data-ga-click=\"Footer, go to privacy, text:privacy\">Privacy</a></li>\\n        <li class=\"mr-3\"><a href=\"https://github.com/security\" data-ga-click=\"Footer, go to security, text:security\">Security</a></li>\\n        <li class=\"mr-3\"><a href=\"https://status.github.com/\" data-ga-click=\"Footer, go to status, text:status\">Status</a></li>\\n        <li><a href=\"https://help.github.com\" data-ga-click=\"Footer, go to help, text:help\">Help</a></li>\\n    </ul>\\n\\n    <a href=\"https://github.com\" aria-label=\"Homepage\" class=\"footer-octicon\" title=\"GitHub\">\\n      <svg aria-hidden=\"true\" class=\"octicon octicon-mark-github\" height=\"24\" version=\"1.1\" viewBox=\"0 0 16 16\" width=\"24\"><path fill-rule=\"evenodd\" d=\"M8 0C3.58 0 0 3.58 0 8c0 3.54 2.29 6.53 5.47 7.59.4.07.55-.17.55-.38 0-.19-.01-.82-.01-1.49-2.01.37-2.53-.49-2.69-.94-.09-.23-.48-.94-.82-1.13-.28-.15-.68-.52-.01-.53.63-.01 1.08.58 1.23.82.72 1.21 1.87.87 2.33.66.07-.52.28-.87.51-1.07-1.78-.2-3.64-.89-3.64-3.95 0-.87.31-1.59.82-2.15-.08-.2-.36-1.02.08-2.12 0 0 .67-.21 2.2.82.64-.18 1.32-.27 2-.27.68 0 1.36.09 2 .27 1.53-1.04 2.2-.82 2.2-.82.44 1.1.16 1.92.08 2.12.51.56.82 1.27.82 2.15 0 3.07-1.87 3.75-3.65 3.95.29.25.54.73.54 1.48 0 1.07-.01 1.93-.01 2.2 0 .21.15.46.55.38A8.013 8.013 0 0 0 16 8c0-4.42-3.58-8-8-8z\"/></svg>\\n</a>\\n    <ul class=\"list-style-none d-flex flex-wrap \">\\n        <li class=\"mr-3\"><a href=\"https://github.com/contact\" data-ga-click=\"Footer, go to contact, text:contact\">Contact GitHub</a></li>\\n      <li class=\"mr-3\"><a href=\"https://developer.github.com\" data-ga-click=\"Footer, go to api, text:api\">API</a></li>\\n      <li class=\"mr-3\"><a href=\"https://training.github.com\" data-ga-click=\"Footer, go to training, text:training\">Training</a></li>\\n      <li class=\"mr-3\"><a href=\"https://shop.github.com\" data-ga-click=\"Footer, go to shop, text:shop\">Shop</a></li>\\n        <li class=\"mr-3\"><a href=\"https://github.com/blog\" data-ga-click=\"Footer, go to blog, text:blog\">Blog</a></li>\\n        <li><a href=\"https://github.com/about\" data-ga-click=\"Footer, go to about, text:about\">About</a></li>\\n\\n    </ul>\\n  </div>\\n</div>\\n\\n\\n\\n  <div id=\"ajax-error-message\" class=\"ajax-error-message flash flash-error\">\\n    <svg aria-hidden=\"true\" class=\"octicon octicon-alert\" height=\"16\" version=\"1.1\" viewBox=\"0 0 16 16\" width=\"16\"><path fill-rule=\"evenodd\" d=\"M8.865 1.52c-.18-.31-.51-.5-.87-.5s-.69.19-.87.5L.275 13.5c-.18.31-.18.69 0 1 .19.31.52.5.87.5h13.7c.36 0 .69-.19.86-.5.17-.31.18-.69.01-1L8.865 1.52zM8.995 13h-2v-2h2v2zm0-3h-2V6h2v4z\"/></svg>\\n    <button type=\"button\" class=\"flash-close js-ajax-error-dismiss\" aria-label=\"Dismiss error\">\\n      <svg aria-hidden=\"true\" class=\"octicon octicon-x\" height=\"16\" version=\"1.1\" viewBox=\"0 0 12 16\" width=\"12\"><path fill-rule=\"evenodd\" d=\"M7.48 8l3.75 3.75-1.48 1.48L6 9.48l-3.75 3.75-1.48-1.48L4.52 8 .77 4.25l1.48-1.48L6 6.52l3.75-3.75 1.48 1.48z\"/></svg>\\n    </button>\\n    You can\\'t perform that action at this time.\\n  </div>\\n\\n\\n    \\n    <script crossorigin=\"anonymous\" integrity=\"sha256-OQfZqtgSuMlBR8iBZctKlpPFfPmfDo4BBT/Hneep2RE=\" src=\"https://assets-cdn.github.com/assets/frameworks-3907d9aad812b8c94147c88165cb4a9693c57cf99f0e8e01053fc79de7a9d911.js\"></script>\\n    \\n    <script async=\"async\" crossorigin=\"anonymous\" integrity=\"sha256-wbENoh8ZMqQXP8+2BnbirTLlFfeud1Y922WPBM0mNo0=\" src=\"https://assets-cdn.github.com/assets/github-c1b10da21f1932a4173fcfb60676e2ad32e515f7ae77563ddb658f04cd26368d.js\"></script>\\n    \\n    \\n    \\n    \\n  <div class=\"js-stale-session-flash stale-session-flash flash flash-warn flash-banner d-none\">\\n    <svg aria-hidden=\"true\" class=\"octicon octicon-alert\" height=\"16\" version=\"1.1\" viewBox=\"0 0 16 16\" width=\"16\"><path fill-rule=\"evenodd\" d=\"M8.865 1.52c-.18-.31-.51-.5-.87-.5s-.69.19-.87.5L.275 13.5c-.18.31-.18.69 0 1 .19.31.52.5.87.5h13.7c.36 0 .69-.19.86-.5.17-.31.18-.69.01-1L8.865 1.52zM8.995 13h-2v-2h2v2zm0-3h-2V6h2v4z\"/></svg>\\n    <span class=\"signed-in-tab-flash\">You signed in with another tab or window. <a href=\"\">Reload</a> to refresh your session.</span>\\n    <span class=\"signed-out-tab-flash\">You signed out in another tab or window. <a href=\"\">Reload</a> to refresh your session.</span>\\n  </div>\\n  <div class=\"facebox\" id=\"facebox\" style=\"display:none;\">\\n  <div class=\"facebox-popup\">\\n    <div class=\"facebox-content\" role=\"dialog\" aria-labelledby=\"facebox-header\" aria-describedby=\"facebox-description\">\\n    </div>\\n    <button type=\"button\" class=\"facebox-close js-facebox-close\" aria-label=\"Close modal\">\\n      <svg aria-hidden=\"true\" class=\"octicon octicon-x\" height=\"16\" version=\"1.1\" viewBox=\"0 0 12 16\" width=\"12\"><path fill-rule=\"evenodd\" d=\"M7.48 8l3.75 3.75-1.48 1.48L6 9.48l-3.75 3.75-1.48-1.48L4.52 8 .77 4.25l1.48-1.48L6 6.52l3.75-3.75 1.48 1.48z\"/></svg>\\n    </button>\\n  </div>\\n</div>\\n\\n\\n  </body>\\n</html>\\n\\n'"
      ]
     },
     "execution_count": 108,
     "metadata": {},
     "output_type": "execute_result"
    }
   ],
   "source": [
    "f.read()"
   ]
  },
  {
   "cell_type": "code",
   "execution_count": 109,
   "metadata": {},
   "outputs": [
    {
     "data": {
      "text/plain": [
       "''"
      ]
     },
     "execution_count": 109,
     "metadata": {},
     "output_type": "execute_result"
    }
   ],
   "source": [
    "f.read()"
   ]
  },
  {
   "cell_type": "code",
   "execution_count": 110,
   "metadata": {},
   "outputs": [
    {
     "data": {
      "text/plain": [
       "0"
      ]
     },
     "execution_count": 110,
     "metadata": {},
     "output_type": "execute_result"
    }
   ],
   "source": [
    "f.seek(0)"
   ]
  },
  {
   "cell_type": "code",
   "execution_count": 111,
   "metadata": {},
   "outputs": [
    {
     "data": {
      "text/plain": [
       "'\\n\\n\\n\\n\\n\\n<!DOCTYPE html>\\n<html lang=\"en\">\\n  <head>\\n    <meta charset=\"utf-8\">\\n  <link rel=\"dns-prefetch\" href=\"https://assets-cdn.github.com\">\\n  <link rel=\"dns-prefetch\" href=\"https://avatars0.githubusercontent.com\">\\n  <link rel=\"dns-prefetch\" href=\"https://avatars1.githubusercontent.com\">\\n  <link rel=\"dns-prefetch\" href=\"https://avatars2.githubusercontent.com\">\\n  <link rel=\"dns-prefetch\" href=\"https://avatars3.githubusercontent.com\">\\n  <link rel=\"dns-prefetch\" href=\"https://github-cloud.s3.amazonaws.com\">\\n  <link rel=\"dns-prefetch\" href=\"https://user-images.githubusercontent.com/\">\\n\\n\\n\\n  <link crossorigin=\"anonymous\" href=\"https://assets-cdn.github.com/assets/frameworks-1c2c316b7a17f15536c6a26ed744654fc228a24658a7ae395cdcbf8329c8406b.css\" integrity=\"sha256-HCwxa3oX8VU2xqJu10RlT8IookZYp645XNy/gynIQGs=\" media=\"all\" rel=\"stylesheet\" />\\n  <link crossorigin=\"anonymous\" href=\"https://assets-cdn.github.com/assets/github-8100b9bf1eb6ed8b38eaad2fe7ba51d1895aa0602aafe4a87068d444e07e8c5c.css\" integrity=\"sha256-gQC5vx627Ys46q0v57pR0YlaoGAqr+SocGjUROB+jFw=\" media=\"all\" rel=\"stylesheet\" />\\n  \\n  \\n  \\n  \\n\\n  <meta name=\"viewport\" content=\"width=device-width\">\\n  \\n  <title>Complete-Python-Bootcamp/test.txt at master · shivamms/Complete-Python-Bootcamp</title>\\n  <link rel=\"search\" type=\"application/opensearchdescription+xml\" href=\"/opensearch.xml\" title=\"GitHub\">\\n  <link rel=\"fluid-icon\" href=\"https://github.com/fluidicon.png\" title=\"GitHub\">\\n  <meta property=\"fb:app_id\" content=\"1401488693436528\">\\n\\n    \\n    <meta content=\"https://avatars3.githubusercontent.com/u/8627753?s=400&amp;v=4\" property=\"og:image\" /><meta content=\"GitHub\" property=\"og:site_name\" /><meta content=\"object\" property=\"og:type\" /><meta content=\"shivamms/Complete-Python-Bootcamp\" property=\"og:title\" /><meta content=\"https://github.com/shivamms/Complete-Python-Bootcamp\" property=\"og:url\" /><meta content=\"Complete-Python-Bootcamp - Lectures for Udemy - Complete Python Bootcamp Course\" property=\"og:description\" />\\n\\n  <link rel=\"assets\" href=\"https://assets-cdn.github.com/\">\\n  <link rel=\"web-socket\" href=\"wss://live.github.com/_sockets/VjI6MjMzODM5OTk3OjBiNWRhMWVjMzBhYTEyMjM0NmU0YjAyNDAxY2ViMWU4MGM5MmQxMjIyOTM4YjQzMzUzYWZlYjQzNmVjZTE5MTk=--b75098f4fd235c7f54580f05bc78646fdac11bdb\">\\n  <meta name=\"pjax-timeout\" content=\"1000\">\\n  <link rel=\"sudo-modal\" href=\"/sessions/sudo_modal\">\\n  <meta name=\"request-id\" content=\"C88A:7EEC:1A7EC:103E3A:5A418F42\" data-pjax-transient>\\n  \\n\\n  <meta name=\"selected-link\" value=\"repo_source\" data-pjax-transient>\\n\\n    <meta name=\"google-site-verification\" content=\"KT5gs8h0wvaagLKAVWq8bbeNwnZZK1r1XQysX3xurLU\">\\n  <meta name=\"google-site-verification\" content=\"ZzhVyEFwb7w3e0-uOTltm8Jsck2F5StVihD0exw2fsA\">\\n  <meta name=\"google-site-verification\" content=\"GXs5KoUUkNCoaAZn7wPN-t01Pywp9M3sEjnt_3_ZWPc\">\\n    <meta name=\"google-analytics\" content=\"UA-3769691-2\">\\n\\n<meta content=\"collector.githubapp.com\" name=\"octolytics-host\" /><meta content=\"github\" name=\"octolytics-app-id\" /><meta content=\"https://collector.githubapp.com/github-external/browser_event\" name=\"octolytics-event-url\" /><meta content=\"C88A:7EEC:1A7EC:103E3A:5A418F42\" name=\"octolytics-dimension-request_id\" /><meta content=\"iad\" name=\"octolytics-dimension-region_edge\" /><meta content=\"iad\" name=\"octolytics-dimension-region_render\" /><meta content=\"8627753\" name=\"octolytics-actor-id\" /><meta content=\"shivamms\" name=\"octolytics-actor-login\" /><meta content=\"d635962351c23dae19499c640066fa9e96fc5f32479a1337c44d8d35f4bbba4e\" name=\"octolytics-actor-hash\" />\\n<meta content=\"/&lt;user-name&gt;/&lt;repo-name&gt;/blob/show\" data-pjax-transient=\"true\" name=\"analytics-location\" />\\n\\n\\n\\n\\n  <meta class=\"js-ga-set\" name=\"dimension1\" content=\"Logged In\">\\n\\n\\n  \\n\\n      <meta name=\"hostname\" content=\"github.com\">\\n  <meta name=\"user-login\" content=\"shivamms\">\\n\\n      <meta name=\"expected-hostname\" content=\"github.com\">\\n    <meta name=\"js-proxy-site-detection-payload\" content=\"NWNkNTc1YWQ3NjhiMTNlNTlkZmE5ZmY3MjI4YTQ3YmQ5MTFhMzFiMGE1NDE1NTQ4NzYzNzMzYzYxYWJhOGYzMHx7InJlbW90ZV9hZGRyZXNzIjoiNzMuMTk0LjguMTgwIiwicmVxdWVzdF9pZCI6IkM4OEE6N0VFQzoxQTdFQzoxMDNFM0E6NUE0MThGNDIiLCJ0aW1lc3RhbXAiOjE1MTQyNDU5NTQsImhvc3QiOiJnaXRodWIuY29tIn0=\">\\n\\n    <meta name=\"enabled-features\" content=\"UNIVERSE_BANNER,FREE_TRIALS\">\\n\\n  <meta name=\"html-safe-nonce\" content=\"5f0738018e38ec8e028bab2686ad737090188220\">\\n\\n  <meta http-equiv=\"x-pjax-version\" content=\"e6dbf537b2eb3990c0cae54500f32daf\">\\n  \\n\\n      <link href=\"https://github.com/shivamms/Complete-Python-Bootcamp/commits/master.atom\" rel=\"alternate\" title=\"Recent Commits to Complete-Python-Bootcamp:master\" type=\"application/atom+xml\">\\n\\n  <meta name=\"description\" content=\"Complete-Python-Bootcamp - Lectures for Udemy - Complete Python Bootcamp Course\">\\n  <meta name=\"go-import\" content=\"github.com/shivamms/Complete-Python-Bootcamp git https://github.com/shivamms/Complete-Python-Bootcamp.git\">\\n\\n  <meta content=\"8627753\" name=\"octolytics-dimension-user_id\" /><meta content=\"shivamms\" name=\"octolytics-dimension-user_login\" /><meta content=\"115369199\" name=\"octolytics-dimension-repository_id\" /><meta content=\"shivamms/Complete-Python-Bootcamp\" name=\"octolytics-dimension-repository_nwo\" /><meta content=\"true\" name=\"octolytics-dimension-repository_public\" /><meta content=\"true\" name=\"octolytics-dimension-repository_is_fork\" /><meta content=\"42013588\" name=\"octolytics-dimension-repository_parent_id\" /><meta content=\"jmportilla/Complete-Python-Bootcamp\" name=\"octolytics-dimension-repository_parent_nwo\" /><meta content=\"42013588\" name=\"octolytics-dimension-repository_network_root_id\" /><meta content=\"jmportilla/Complete-Python-Bootcamp\" name=\"octolytics-dimension-repository_network_root_nwo\" /><meta content=\"true\" name=\"octolytics-dimension-repository_explore_github_marketplace_ci_cta_shown\" />\\n\\n\\n    <link rel=\"canonical\" href=\"https://github.com/shivamms/Complete-Python-Bootcamp/blob/master/test.txt\" data-pjax-transient>\\n\\n\\n  <meta name=\"browser-stats-url\" content=\"https://api.github.com/_private/browser/stats\">\\n\\n  <meta name=\"browser-errors-url\" content=\"https://api.github.com/_private/browser/errors\">\\n\\n  <link rel=\"mask-icon\" href=\"https://assets-cdn.github.com/pinned-octocat.svg\" color=\"#000000\">\\n  <link rel=\"icon\" type=\"image/x-icon\" class=\"js-site-favicon\" href=\"https://assets-cdn.github.com/favicon.ico\">\\n\\n<meta name=\"theme-color\" content=\"#1e2327\">\\n\\n\\n  <meta name=\"u2f-support\" content=\"true\">\\n\\n  </head>\\n\\n  <body class=\"logged-in env-production page-blob\">\\n    \\n\\n  <div class=\"position-relative js-header-wrapper \">\\n    <a href=\"#start-of-content\" tabindex=\"1\" class=\"bg-black text-white p-3 show-on-focus js-skip-to-content\">Skip to content</a>\\n    <div id=\"js-pjax-loader-bar\" class=\"pjax-loader-bar\"><div class=\"progress\"></div></div>\\n\\n    \\n    \\n    \\n      \\n\\n\\n\\n        \\n<header class=\"Header  f5\" role=\"banner\">\\n  <div class=\"d-flex px-3 flex-justify-between container-lg\">\\n    <div class=\"d-flex flex-justify-between\">\\n      <a class=\"header-logo-invertocat\" href=\"https://github.com/\" data-hotkey=\"g d\" aria-label=\"Homepage\" data-ga-click=\"Header, go to dashboard, icon:logo\">\\n  <svg aria-hidden=\"true\" class=\"octicon octicon-mark-github\" height=\"32\" version=\"1.1\" viewBox=\"0 0 16 16\" width=\"32\"><path fill-rule=\"evenodd\" d=\"M8 0C3.58 0 0 3.58 0 8c0 3.54 2.29 6.53 5.47 7.59.4.07.55-.17.55-.38 0-.19-.01-.82-.01-1.49-2.01.37-2.53-.49-2.69-.94-.09-.23-.48-.94-.82-1.13-.28-.15-.68-.52-.01-.53.63-.01 1.08.58 1.23.82.72 1.21 1.87.87 2.33.66.07-.52.28-.87.51-1.07-1.78-.2-3.64-.89-3.64-3.95 0-.87.31-1.59.82-2.15-.08-.2-.36-1.02.08-2.12 0 0 .67-.21 2.2.82.64-.18 1.32-.27 2-.27.68 0 1.36.09 2 .27 1.53-1.04 2.2-.82 2.2-.82.44 1.1.16 1.92.08 2.12.51.56.82 1.27.82 2.15 0 3.07-1.87 3.75-3.65 3.95.29.25.54.73.54 1.48 0 1.07-.01 1.93-.01 2.2 0 .21.15.46.55.38A8.013 8.013 0 0 0 16 8c0-4.42-3.58-8-8-8z\"/></svg>\\n</a>\\n\\n\\n    </div>\\n\\n    <div class=\"HeaderMenu d-flex flex-justify-between flex-auto\">\\n      <div class=\"d-flex\">\\n            <div class=\"\">\\n              <div class=\"header-search scoped-search site-scoped-search js-site-search\" role=\"search\">\\n  <!-- \\'\"` --><!-- </textarea></xmp> --></option></form><form accept-charset=\"UTF-8\" action=\"/shivamms/Complete-Python-Bootcamp/search\" class=\"js-site-search-form\" data-scoped-search-url=\"/shivamms/Complete-Python-Bootcamp/search\" data-unscoped-search-url=\"/search\" method=\"get\"><div style=\"margin:0;padding:0;display:inline\"><input name=\"utf8\" type=\"hidden\" value=\"&#x2713;\" /></div>\\n    <label class=\"form-control header-search-wrapper js-chromeless-input-container\">\\n        <a href=\"/shivamms/Complete-Python-Bootcamp/blob/master/test.txt\" class=\"header-search-scope no-underline\">This repository</a>\\n      <input type=\"text\"\\n        class=\"form-control header-search-input js-site-search-focus js-site-search-field is-clearable\"\\n        data-hotkey=\"s\"\\n        name=\"q\"\\n        value=\"\"\\n        placeholder=\"Search\"\\n        aria-label=\"Search this repository\"\\n        data-unscoped-placeholder=\"Search GitHub\"\\n        data-scoped-placeholder=\"Search\"\\n        autocapitalize=\"off\">\\n        <input type=\"hidden\" class=\"js-site-search-type-field\" name=\"type\" >\\n    </label>\\n</form></div>\\n\\n            </div>\\n\\n          <ul class=\"d-flex pl-2 flex-items-center text-bold list-style-none\" role=\"navigation\">\\n            <li>\\n              <a href=\"/pulls\" aria-label=\"Pull requests you created\" class=\"js-selected-navigation-item HeaderNavlink px-2\" data-ga-click=\"Header, click, Nav menu - item:pulls context:user\" data-hotkey=\"g p\" data-selected-links=\"/pulls /pulls/assigned /pulls/mentioned /pulls\">\\n                Pull requests\\n</a>            </li>\\n            <li>\\n              <a href=\"/issues\" aria-label=\"Issues you created\" class=\"js-selected-navigation-item HeaderNavlink px-2\" data-ga-click=\"Header, click, Nav menu - item:issues context:user\" data-hotkey=\"g i\" data-selected-links=\"/issues /issues/assigned /issues/mentioned /issues\">\\n                Issues\\n</a>            </li>\\n                <li>\\n                  <a href=\"/marketplace\" class=\"js-selected-navigation-item HeaderNavlink px-2\" data-ga-click=\"Header, click, Nav menu - item:marketplace context:user\" data-selected-links=\" /marketplace\">\\n                    Marketplace\\n</a>                </li>\\n            <li>\\n              <a href=\"/explore\" class=\"js-selected-navigation-item HeaderNavlink px-2\" data-ga-click=\"Header, click, Nav menu - item:explore\" data-selected-links=\"/explore /trending /trending/developers /integrations /integrations/feature/code /integrations/feature/collaborate /integrations/feature/ship showcases showcases_search showcases_landing /explore\">\\n                Explore\\n</a>            </li>\\n          </ul>\\n      </div>\\n\\n      <div class=\"d-flex\">\\n        \\n<ul class=\"user-nav d-flex flex-items-center list-style-none\" id=\"user-links\">\\n  <li class=\"dropdown js-menu-container\">\\n    <span class=\"d-inline-block  px-2\">\\n      \\n    <a href=\"/notifications\" aria-label=\"You have no unread notifications\" class=\"notification-indicator tooltipped tooltipped-s  js-socket-channel js-notification-indicator\" data-channel=\"notification-changed:8627753\" data-ga-click=\"Header, go to notifications, icon:read\" data-hotkey=\"g n\">\\n        <span class=\"mail-status \"></span>\\n        <svg aria-hidden=\"true\" class=\"octicon octicon-bell\" height=\"16\" version=\"1.1\" viewBox=\"0 0 14 16\" width=\"14\"><path fill-rule=\"evenodd\" d=\"M14 12v1H0v-1l.73-.58c.77-.77.81-2.55 1.19-4.42C2.69 3.23 6 2 6 2c0-.55.45-1 1-1s1 .45 1 1c0 0 3.39 1.23 4.16 5 .38 1.88.42 3.66 1.19 4.42l.66.58H14zm-7 4c1.11 0 2-.89 2-2H5c0 1.11.89 2 2 2z\"/></svg>\\n</a>\\n    </span>\\n  </li>\\n\\n  <li class=\"dropdown js-menu-container\">\\n    <details class=\"dropdown-details details-reset js-dropdown-details d-flex px-2 flex-items-center\">\\n      <summary class=\"HeaderNavlink\"\\n         aria-label=\"Create new…\"\\n         data-ga-click=\"Header, create new, icon:add\">\\n        <svg aria-hidden=\"true\" class=\"octicon octicon-plus float-left mr-1 mt-1\" height=\"16\" version=\"1.1\" viewBox=\"0 0 12 16\" width=\"12\"><path fill-rule=\"evenodd\" d=\"M12 9H7v5H5V9H0V7h5V2h2v5h5z\"/></svg>\\n        <span class=\"dropdown-caret mt-1\"></span>\\n      </summary>\\n\\n      <ul class=\"dropdown-menu dropdown-menu-sw\">\\n        \\n<a class=\"dropdown-item\" href=\"/new\" data-ga-click=\"Header, create new repository\">\\n  New repository\\n</a>\\n\\n  <a class=\"dropdown-item\" href=\"/new/import\" data-ga-click=\"Header, import a repository\">\\n    Import repository\\n  </a>\\n\\n<a class=\"dropdown-item\" href=\"https://gist.github.com/\" data-ga-click=\"Header, create new gist\">\\n  New gist\\n</a>\\n\\n  <a class=\"dropdown-item\" href=\"/organizations/new\" data-ga-click=\"Header, create new organization\">\\n    New organization\\n  </a>\\n\\n\\n\\n\\n      </ul>\\n    </details>\\n  </li>\\n\\n  <li class=\"dropdown js-menu-container\">\\n\\n    <details class=\"dropdown-details details-reset js-dropdown-details d-flex pl-2 flex-items-center\">\\n      <summary class=\"HeaderNavlink name mt-1\"\\n        aria-label=\"View profile and more\"\\n        data-ga-click=\"Header, show menu, icon:avatar\">\\n        <img alt=\"@shivamms\" class=\"avatar float-left mr-1\" src=\"https://avatars2.githubusercontent.com/u/8627753?s=40&amp;v=4\" height=\"20\" width=\"20\">\\n        <span class=\"dropdown-caret\"></span>\\n      </summary>\\n\\n      <ul class=\"dropdown-menu dropdown-menu-sw\">\\n        <li class=\"dropdown-header header-nav-current-user css-truncate\">\\n          Signed in as <strong class=\"css-truncate-target\">shivamms</strong>\\n        </li>\\n\\n        <li class=\"dropdown-divider\"></li>\\n\\n        <li><a class=\"dropdown-item\" href=\"/shivamms\" data-ga-click=\"Header, go to profile, text:your profile\">\\n          Your profile\\n        </a></li>\\n        <li><a class=\"dropdown-item\" href=\"/shivamms?tab=stars\" data-ga-click=\"Header, go to starred repos, text:your stars\">\\n          Your stars\\n        </a></li>\\n          <li><a class=\"dropdown-item\" href=\"https://gist.github.com/\" data-ga-click=\"Header, your gists, text:your gists\">Your Gists</a></li>\\n\\n        <li class=\"dropdown-divider\"></li>\\n\\n        <li><a class=\"dropdown-item\" href=\"https://help.github.com\" data-ga-click=\"Header, go to help, text:help\">\\n          Help\\n        </a></li>\\n\\n        <li><a class=\"dropdown-item\" href=\"/settings/profile\" data-ga-click=\"Header, go to settings, icon:settings\">\\n          Settings\\n        </a></li>\\n\\n        <li><!-- \\'\"` --><!-- </textarea></xmp> --></option></form><form accept-charset=\"UTF-8\" action=\"/logout\" class=\"logout-form\" method=\"post\"><div style=\"margin:0;padding:0;display:inline\"><input name=\"utf8\" type=\"hidden\" value=\"&#x2713;\" /><input name=\"authenticity_token\" type=\"hidden\" value=\"4XxhQRfSDOaqlx4QkEegzoHFHErrrRQmuSCglRbt+xBMcC3JB9YPQAERf1BrfLAIzldFtOeAusI512gzZUkh/g==\" /></div>\\n          <button type=\"submit\" class=\"dropdown-item dropdown-signout\" data-ga-click=\"Header, sign out, icon:logout\">\\n            Sign out\\n          </button>\\n        </form></li>\\n      </ul>\\n    </details>\\n  </li>\\n</ul>\\n\\n\\n        <!-- \\'\"` --><!-- </textarea></xmp> --></option></form><form accept-charset=\"UTF-8\" action=\"/logout\" class=\"sr-only right-0\" method=\"post\"><div style=\"margin:0;padding:0;display:inline\"><input name=\"utf8\" type=\"hidden\" value=\"&#x2713;\" /><input name=\"authenticity_token\" type=\"hidden\" value=\"vMAzSoH4+Ovzr5NRWfFQU0YSt+E47ubIhaGTQfyGCJQRzH/Ckfz7TVgp8hGiykCVCYDuHzTDSCwFVlvnjyLSeg==\" /></div>\\n          <button type=\"submit\" class=\"dropdown-item dropdown-signout\" data-ga-click=\"Header, sign out, icon:logout\">\\n            Sign out\\n          </button>\\n</form>      </div>\\n    </div>\\n  </div>\\n</header>\\n\\n\\n      \\n\\n  </div>\\n\\n  <div id=\"start-of-content\" class=\"show-on-focus\"></div>\\n\\n    <div id=\"js-flash-container\">\\n</div>\\n\\n\\n\\n  <div role=\"main\">\\n        <div itemscope itemtype=\"http://schema.org/SoftwareSourceCode\">\\n    <div id=\"js-repo-pjax-container\" data-pjax-container>\\n      \\n\\n\\n\\n\\n\\n  <div class=\"pagehead repohead instapaper_ignore readability-menu experiment-repo-nav \">\\n    <div class=\"repohead-details-container clearfix container \">\\n\\n      <ul class=\"pagehead-actions\">\\n  <li>\\n        <!-- \\'\"` --><!-- </textarea></xmp> --></option></form><form accept-charset=\"UTF-8\" action=\"/notifications/subscribe\" class=\"js-social-container\" data-autosubmit=\"true\" data-remote=\"true\" method=\"post\"><div style=\"margin:0;padding:0;display:inline\"><input name=\"utf8\" type=\"hidden\" value=\"&#x2713;\" /><input name=\"authenticity_token\" type=\"hidden\" value=\"x0UH6RKeVvAXBGkacmo7OH6pLQuBCJS4DZQFyf+Qxu9Hv1d7QfZEwhL/BPChYSxFcw8XlfMZyBkc0PNvMVY5bg==\" /></div>      <input class=\"form-control\" id=\"repository_id\" name=\"repository_id\" type=\"hidden\" value=\"115369199\" />\\n\\n        <div class=\"select-menu js-menu-container js-select-menu\">\\n          <a href=\"/shivamms/Complete-Python-Bootcamp/subscription\"\\n            class=\"btn btn-sm btn-with-count select-menu-button js-menu-target\"\\n            role=\"button\"\\n            aria-haspopup=\"true\"\\n            aria-expanded=\"false\"\\n            aria-label=\"Toggle repository notifications menu\"\\n            data-ga-click=\"Repository, click Watch settings, action:blob#show\">\\n            <span class=\"js-select-button\">\\n                <svg aria-hidden=\"true\" class=\"octicon octicon-eye\" height=\"16\" version=\"1.1\" viewBox=\"0 0 16 16\" width=\"16\"><path fill-rule=\"evenodd\" d=\"M8.06 2C3 2 0 8 0 8s3 6 8.06 6C13 14 16 8 16 8s-3-6-7.94-6zM8 12c-2.2 0-4-1.78-4-4 0-2.2 1.8-4 4-4 2.22 0 4 1.8 4 4 0 2.22-1.78 4-4 4zm2-4c0 1.11-.89 2-2 2-1.11 0-2-.89-2-2 0-1.11.89-2 2-2 1.11 0 2 .89 2 2z\"/></svg>\\n                Unwatch\\n            </span>\\n          </a>\\n          <a class=\"social-count js-social-count\"\\n            href=\"/shivamms/Complete-Python-Bootcamp/watchers\"\\n            aria-label=\"1 user is watching this repository\">\\n            1\\n          </a>\\n\\n        <div class=\"select-menu-modal-holder\">\\n          <div class=\"select-menu-modal subscription-menu-modal js-menu-content\">\\n            <div class=\"select-menu-header js-navigation-enable\" tabindex=\"-1\">\\n              <svg aria-label=\"Close\" class=\"octicon octicon-x js-menu-close\" height=\"16\" role=\"img\" version=\"1.1\" viewBox=\"0 0 12 16\" width=\"12\"><path fill-rule=\"evenodd\" d=\"M7.48 8l3.75 3.75-1.48 1.48L6 9.48l-3.75 3.75-1.48-1.48L4.52 8 .77 4.25l1.48-1.48L6 6.52l3.75-3.75 1.48 1.48z\"/></svg>\\n              <span class=\"select-menu-title\">Notifications</span>\\n            </div>\\n\\n              <div class=\"select-menu-list js-navigation-container\" role=\"menu\">\\n\\n                <div class=\"select-menu-item js-navigation-item \" role=\"menuitem\" tabindex=\"0\">\\n                  <svg aria-hidden=\"true\" class=\"octicon octicon-check select-menu-item-icon\" height=\"16\" version=\"1.1\" viewBox=\"0 0 12 16\" width=\"12\"><path fill-rule=\"evenodd\" d=\"M12 5l-8 8-4-4 1.5-1.5L4 10l6.5-6.5z\"/></svg>\\n                  <div class=\"select-menu-item-text\">\\n                    <input id=\"do_included\" name=\"do\" type=\"radio\" value=\"included\" />\\n                    <span class=\"select-menu-item-heading\">Not watching</span>\\n                    <span class=\"description\">Be notified when participating or @mentioned.</span>\\n                    <span class=\"js-select-button-text hidden-select-button-text\">\\n                      <svg aria-hidden=\"true\" class=\"octicon octicon-eye\" height=\"16\" version=\"1.1\" viewBox=\"0 0 16 16\" width=\"16\"><path fill-rule=\"evenodd\" d=\"M8.06 2C3 2 0 8 0 8s3 6 8.06 6C13 14 16 8 16 8s-3-6-7.94-6zM8 12c-2.2 0-4-1.78-4-4 0-2.2 1.8-4 4-4 2.22 0 4 1.8 4 4 0 2.22-1.78 4-4 4zm2-4c0 1.11-.89 2-2 2-1.11 0-2-.89-2-2 0-1.11.89-2 2-2 1.11 0 2 .89 2 2z\"/></svg>\\n                      Watch\\n                    </span>\\n                  </div>\\n                </div>\\n\\n                <div class=\"select-menu-item js-navigation-item selected\" role=\"menuitem\" tabindex=\"0\">\\n                  <svg aria-hidden=\"true\" class=\"octicon octicon-check select-menu-item-icon\" height=\"16\" version=\"1.1\" viewBox=\"0 0 12 16\" width=\"12\"><path fill-rule=\"evenodd\" d=\"M12 5l-8 8-4-4 1.5-1.5L4 10l6.5-6.5z\"/></svg>\\n                  <div class=\"select-menu-item-text\">\\n                    <input checked=\"checked\" id=\"do_subscribed\" name=\"do\" type=\"radio\" value=\"subscribed\" />\\n                    <span class=\"select-menu-item-heading\">Watching</span>\\n                    <span class=\"description\">Be notified of all conversations.</span>\\n                    <span class=\"js-select-button-text hidden-select-button-text\">\\n                      <svg aria-hidden=\"true\" class=\"octicon octicon-eye\" height=\"16\" version=\"1.1\" viewBox=\"0 0 16 16\" width=\"16\"><path fill-rule=\"evenodd\" d=\"M8.06 2C3 2 0 8 0 8s3 6 8.06 6C13 14 16 8 16 8s-3-6-7.94-6zM8 12c-2.2 0-4-1.78-4-4 0-2.2 1.8-4 4-4 2.22 0 4 1.8 4 4 0 2.22-1.78 4-4 4zm2-4c0 1.11-.89 2-2 2-1.11 0-2-.89-2-2 0-1.11.89-2 2-2 1.11 0 2 .89 2 2z\"/></svg>\\n                        Unwatch\\n                    </span>\\n                  </div>\\n                </div>\\n\\n                <div class=\"select-menu-item js-navigation-item \" role=\"menuitem\" tabindex=\"0\">\\n                  <svg aria-hidden=\"true\" class=\"octicon octicon-check select-menu-item-icon\" height=\"16\" version=\"1.1\" viewBox=\"0 0 12 16\" width=\"12\"><path fill-rule=\"evenodd\" d=\"M12 5l-8 8-4-4 1.5-1.5L4 10l6.5-6.5z\"/></svg>\\n                  <div class=\"select-menu-item-text\">\\n                    <input id=\"do_ignore\" name=\"do\" type=\"radio\" value=\"ignore\" />\\n                    <span class=\"select-menu-item-heading\">Ignoring</span>\\n                    <span class=\"description\">Never be notified.</span>\\n                    <span class=\"js-select-button-text hidden-select-button-text\">\\n                      <svg aria-hidden=\"true\" class=\"octicon octicon-mute\" height=\"16\" version=\"1.1\" viewBox=\"0 0 16 16\" width=\"16\"><path fill-rule=\"evenodd\" d=\"M8 2.81v10.38c0 .67-.81 1-1.28.53L3 10H1c-.55 0-1-.45-1-1V7c0-.55.45-1 1-1h2l3.72-3.72C7.19 1.81 8 2.14 8 2.81zm7.53 3.22l-1.06-1.06-1.97 1.97-1.97-1.97-1.06 1.06L11.44 8 9.47 9.97l1.06 1.06 1.97-1.97 1.97 1.97 1.06-1.06L13.56 8l1.97-1.97z\"/></svg>\\n                        Stop ignoring\\n                    </span>\\n                  </div>\\n                </div>\\n\\n              </div>\\n\\n            </div>\\n          </div>\\n        </div>\\n</form>\\n  </li>\\n\\n  <li>\\n    \\n  <div class=\"js-toggler-container js-social-container starring-container \">\\n    <!-- \\'\"` --><!-- </textarea></xmp> --></option></form><form accept-charset=\"UTF-8\" action=\"/shivamms/Complete-Python-Bootcamp/unstar\" class=\"starred js-social-form\" method=\"post\"><div style=\"margin:0;padding:0;display:inline\"><input name=\"utf8\" type=\"hidden\" value=\"&#x2713;\" /><input name=\"authenticity_token\" type=\"hidden\" value=\"MRCPoigRjV1KUcVm70Z4eVXl2ZNbWE6PUQOf6uLdqOz792UnDtMHldwVQ52eDOto1DbIcNoy9hx5u/ep4xOn+A==\" /></div>\\n      <input type=\"hidden\" name=\"context\" value=\"repository\"></input>\\n      <button\\n        type=\"submit\"\\n        class=\"btn btn-sm btn-with-count js-toggler-target\"\\n        aria-label=\"Unstar this repository\" title=\"Unstar shivamms/Complete-Python-Bootcamp\"\\n        data-ga-click=\"Repository, click unstar button, action:blob#show; text:Unstar\">\\n        <svg aria-hidden=\"true\" class=\"octicon octicon-star\" height=\"16\" version=\"1.1\" viewBox=\"0 0 14 16\" width=\"14\"><path fill-rule=\"evenodd\" d=\"M14 6l-4.9-.64L7 1 4.9 5.36 0 6l3.6 3.26L2.67 14 7 11.67 11.33 14l-.93-4.74z\"/></svg>\\n        Unstar\\n      </button>\\n        <a class=\"social-count js-social-count\" href=\"/shivamms/Complete-Python-Bootcamp/stargazers\"\\n           aria-label=\"0 users starred this repository\">\\n          0\\n        </a>\\n</form>\\n    <!-- \\'\"` --><!-- </textarea></xmp> --></option></form><form accept-charset=\"UTF-8\" action=\"/shivamms/Complete-Python-Bootcamp/star\" class=\"unstarred js-social-form\" method=\"post\"><div style=\"margin:0;padding:0;display:inline\"><input name=\"utf8\" type=\"hidden\" value=\"&#x2713;\" /><input name=\"authenticity_token\" type=\"hidden\" value=\"DAt+C/5HreR+cQpXJ/TcZxIhzQr44a2+wpVNVTLQ41o8HjPb1VaBpDJlZxlg2QzSD7C9/2cgFhz895vf2Bka6Q==\" /></div>\\n      <input type=\"hidden\" name=\"context\" value=\"repository\"></input>\\n      <button\\n        type=\"submit\"\\n        class=\"btn btn-sm btn-with-count js-toggler-target\"\\n        aria-label=\"Star this repository\" title=\"Star shivamms/Complete-Python-Bootcamp\"\\n        data-ga-click=\"Repository, click star button, action:blob#show; text:Star\">\\n        <svg aria-hidden=\"true\" class=\"octicon octicon-star\" height=\"16\" version=\"1.1\" viewBox=\"0 0 14 16\" width=\"14\"><path fill-rule=\"evenodd\" d=\"M14 6l-4.9-.64L7 1 4.9 5.36 0 6l3.6 3.26L2.67 14 7 11.67 11.33 14l-.93-4.74z\"/></svg>\\n        Star\\n      </button>\\n        <a class=\"social-count js-social-count\" href=\"/shivamms/Complete-Python-Bootcamp/stargazers\"\\n           aria-label=\"0 users starred this repository\">\\n          0\\n        </a>\\n</form>  </div>\\n\\n  </li>\\n\\n  <li>\\n          <!-- \\'\"` --><!-- </textarea></xmp> --></option></form><form accept-charset=\"UTF-8\" action=\"/shivamms/Complete-Python-Bootcamp/fork\" class=\"btn-with-count\" method=\"post\"><div style=\"margin:0;padding:0;display:inline\"><input name=\"utf8\" type=\"hidden\" value=\"&#x2713;\" /><input name=\"authenticity_token\" type=\"hidden\" value=\"ooVIFlZbdU63ef9EdBC5Fu6ffU0DDaCNdk6Jcvsd+2Iwz12JEQBXkP+2Kcf6TEol7Eg9eWJfnGFbEaRhwsxoCA==\" /></div>\\n            <button\\n                type=\"submit\"\\n                class=\"btn btn-sm btn-with-count\"\\n                data-ga-click=\"Repository, show fork modal, action:blob#show; text:Fork\"\\n                title=\"Fork your own copy of shivamms/Complete-Python-Bootcamp to your account\"\\n                aria-label=\"Fork your own copy of shivamms/Complete-Python-Bootcamp to your account\">\\n              <svg aria-hidden=\"true\" class=\"octicon octicon-repo-forked\" height=\"16\" version=\"1.1\" viewBox=\"0 0 10 16\" width=\"10\"><path fill-rule=\"evenodd\" d=\"M8 1a1.993 1.993 0 0 0-1 3.72V6L5 8 3 6V4.72A1.993 1.993 0 0 0 2 1a1.993 1.993 0 0 0-1 3.72V6.5l3 3v1.78A1.993 1.993 0 0 0 5 15a1.993 1.993 0 0 0 1-3.72V9.5l3-3V4.72A1.993 1.993 0 0 0 8 1zM2 4.2C1.34 4.2.8 3.65.8 3c0-.65.55-1.2 1.2-1.2.65 0 1.2.55 1.2 1.2 0 .65-.55 1.2-1.2 1.2zm3 10c-.66 0-1.2-.55-1.2-1.2 0-.65.55-1.2 1.2-1.2.65 0 1.2.55 1.2 1.2 0 .65-.55 1.2-1.2 1.2zm3-10c-.66 0-1.2-.55-1.2-1.2 0-.65.55-1.2 1.2-1.2.65 0 1.2.55 1.2 1.2 0 .65-.55 1.2-1.2 1.2z\"/></svg>\\n              Fork\\n            </button>\\n</form>\\n    <a href=\"/shivamms/Complete-Python-Bootcamp/network\" class=\"social-count\"\\n       aria-label=\"1214 users forked this repository\">\\n      1,214\\n    </a>\\n  </li>\\n</ul>\\n\\n      <h1 class=\"public \">\\n  <svg aria-hidden=\"true\" class=\"octicon octicon-repo-forked\" height=\"16\" version=\"1.1\" viewBox=\"0 0 10 16\" width=\"10\"><path fill-rule=\"evenodd\" d=\"M8 1a1.993 1.993 0 0 0-1 3.72V6L5 8 3 6V4.72A1.993 1.993 0 0 0 2 1a1.993 1.993 0 0 0-1 3.72V6.5l3 3v1.78A1.993 1.993 0 0 0 5 15a1.993 1.993 0 0 0 1-3.72V9.5l3-3V4.72A1.993 1.993 0 0 0 8 1zM2 4.2C1.34 4.2.8 3.65.8 3c0-.65.55-1.2 1.2-1.2.65 0 1.2.55 1.2 1.2 0 .65-.55 1.2-1.2 1.2zm3 10c-.66 0-1.2-.55-1.2-1.2 0-.65.55-1.2 1.2-1.2.65 0 1.2.55 1.2 1.2 0 .65-.55 1.2-1.2 1.2zm3-10c-.66 0-1.2-.55-1.2-1.2 0-.65.55-1.2 1.2-1.2.65 0 1.2.55 1.2 1.2 0 .65-.55 1.2-1.2 1.2z\"/></svg>\\n  <span class=\"author\" itemprop=\"author\"><a href=\"/shivamms\" class=\"url fn\" rel=\"author\">shivamms</a></span><!--\\n--><span class=\"path-divider\">/</span><!--\\n--><strong itemprop=\"name\"><a href=\"/shivamms/Complete-Python-Bootcamp\" data-pjax=\"#js-repo-pjax-container\">Complete-Python-Bootcamp</a></strong>\\n\\n    <span class=\"fork-flag\">\\n      <span class=\"text\">forked from <a href=\"/jmportilla/Complete-Python-Bootcamp\">jmportilla/Complete-Python-Bootcamp</a></span>\\n    </span>\\n</h1>\\n\\n    </div>\\n    \\n<nav class=\"reponav js-repo-nav js-sidenav-container-pjax container\"\\n     itemscope\\n     itemtype=\"http://schema.org/BreadcrumbList\"\\n     role=\"navigation\"\\n     data-pjax=\"#js-repo-pjax-container\">\\n\\n  <span itemscope itemtype=\"http://schema.org/ListItem\" itemprop=\"itemListElement\">\\n    <a href=\"/shivamms/Complete-Python-Bootcamp\" class=\"js-selected-navigation-item selected reponav-item\" data-hotkey=\"g c\" data-selected-links=\"repo_source repo_downloads repo_commits repo_releases repo_tags repo_branches repo_packages /shivamms/Complete-Python-Bootcamp\" itemprop=\"url\">\\n      <svg aria-hidden=\"true\" class=\"octicon octicon-code\" height=\"16\" version=\"1.1\" viewBox=\"0 0 14 16\" width=\"14\"><path fill-rule=\"evenodd\" d=\"M9.5 3L8 4.5 11.5 8 8 11.5 9.5 13 14 8 9.5 3zm-5 0L0 8l4.5 5L6 11.5 2.5 8 6 4.5 4.5 3z\"/></svg>\\n      <span itemprop=\"name\">Code</span>\\n      <meta itemprop=\"position\" content=\"1\">\\n</a>  </span>\\n\\n\\n  <span itemscope itemtype=\"http://schema.org/ListItem\" itemprop=\"itemListElement\">\\n    <a href=\"/shivamms/Complete-Python-Bootcamp/pulls\" class=\"js-selected-navigation-item reponav-item\" data-hotkey=\"g p\" data-selected-links=\"repo_pulls /shivamms/Complete-Python-Bootcamp/pulls\" itemprop=\"url\">\\n      <svg aria-hidden=\"true\" class=\"octicon octicon-git-pull-request\" height=\"16\" version=\"1.1\" viewBox=\"0 0 12 16\" width=\"12\"><path fill-rule=\"evenodd\" d=\"M11 11.28V5c-.03-.78-.34-1.47-.94-2.06C9.46 2.35 8.78 2.03 8 2H7V0L4 3l3 3V4h1c.27.02.48.11.69.31.21.2.3.42.31.69v6.28A1.993 1.993 0 0 0 10 15a1.993 1.993 0 0 0 1-3.72zm-1 2.92c-.66 0-1.2-.55-1.2-1.2 0-.65.55-1.2 1.2-1.2.65 0 1.2.55 1.2 1.2 0 .65-.55 1.2-1.2 1.2zM4 3c0-1.11-.89-2-2-2a1.993 1.993 0 0 0-1 3.72v6.56A1.993 1.993 0 0 0 2 15a1.993 1.993 0 0 0 1-3.72V4.72c.59-.34 1-.98 1-1.72zm-.8 10c0 .66-.55 1.2-1.2 1.2-.65 0-1.2-.55-1.2-1.2 0-.65.55-1.2 1.2-1.2.65 0 1.2.55 1.2 1.2zM2 4.2C1.34 4.2.8 3.65.8 3c0-.65.55-1.2 1.2-1.2.65 0 1.2.55 1.2 1.2 0 .65-.55 1.2-1.2 1.2z\"/></svg>\\n      <span itemprop=\"name\">Pull requests</span>\\n      <span class=\"Counter\">0</span>\\n      <meta itemprop=\"position\" content=\"3\">\\n</a>  </span>\\n\\n    <a href=\"/shivamms/Complete-Python-Bootcamp/projects\" class=\"js-selected-navigation-item reponav-item\" data-hotkey=\"g b\" data-selected-links=\"repo_projects new_repo_project repo_project /shivamms/Complete-Python-Bootcamp/projects\">\\n      <svg aria-hidden=\"true\" class=\"octicon octicon-project\" height=\"16\" version=\"1.1\" viewBox=\"0 0 15 16\" width=\"15\"><path fill-rule=\"evenodd\" d=\"M10 12h3V2h-3v10zm-4-2h3V2H6v8zm-4 4h3V2H2v12zm-1 1h13V1H1v14zM14 0H1a1 1 0 0 0-1 1v14a1 1 0 0 0 1 1h13a1 1 0 0 0 1-1V1a1 1 0 0 0-1-1z\"/></svg>\\n      Projects\\n      <span class=\"Counter\" >0</span>\\n</a>\\n    <a href=\"/shivamms/Complete-Python-Bootcamp/wiki\" class=\"js-selected-navigation-item reponav-item\" data-hotkey=\"g w\" data-selected-links=\"repo_wiki /shivamms/Complete-Python-Bootcamp/wiki\">\\n      <svg aria-hidden=\"true\" class=\"octicon octicon-book\" height=\"16\" version=\"1.1\" viewBox=\"0 0 16 16\" width=\"16\"><path fill-rule=\"evenodd\" d=\"M3 5h4v1H3V5zm0 3h4V7H3v1zm0 2h4V9H3v1zm11-5h-4v1h4V5zm0 2h-4v1h4V7zm0 2h-4v1h4V9zm2-6v9c0 .55-.45 1-1 1H9.5l-1 1-1-1H2c-.55 0-1-.45-1-1V3c0-.55.45-1 1-1h5.5l1 1 1-1H15c.55 0 1 .45 1 1zm-8 .5L7.5 3H2v9h6V3.5zm7-.5H9.5l-.5.5V12h6V3z\"/></svg>\\n      Wiki\\n</a>\\n\\n  <a href=\"/shivamms/Complete-Python-Bootcamp/pulse\" class=\"js-selected-navigation-item reponav-item\" data-selected-links=\"repo_graphs repo_contributors dependency_graph pulse /shivamms/Complete-Python-Bootcamp/pulse\">\\n    <svg aria-hidden=\"true\" class=\"octicon octicon-graph\" height=\"16\" version=\"1.1\" viewBox=\"0 0 16 16\" width=\"16\"><path fill-rule=\"evenodd\" d=\"M16 14v1H0V0h1v14h15zM5 13H3V8h2v5zm4 0H7V3h2v10zm4 0h-2V6h2v7z\"/></svg>\\n    Insights\\n</a>\\n    <a href=\"/shivamms/Complete-Python-Bootcamp/settings\" class=\"js-selected-navigation-item reponav-item\" data-selected-links=\"repo_settings repo_branch_settings hooks integration_installations repo_keys_settings /shivamms/Complete-Python-Bootcamp/settings\">\\n      <svg aria-hidden=\"true\" class=\"octicon octicon-gear\" height=\"16\" version=\"1.1\" viewBox=\"0 0 14 16\" width=\"14\"><path fill-rule=\"evenodd\" d=\"M14 8.77v-1.6l-1.94-.64-.45-1.09.88-1.84-1.13-1.13-1.81.91-1.09-.45-.69-1.92h-1.6l-.63 1.94-1.11.45-1.84-.88-1.13 1.13.91 1.81-.45 1.09L0 7.23v1.59l1.94.64.45 1.09-.88 1.84 1.13 1.13 1.81-.91 1.09.45.69 1.92h1.59l.63-1.94 1.11-.45 1.84.88 1.13-1.13-.92-1.81.47-1.09L14 8.75v.02zM7 11c-1.66 0-3-1.34-3-3s1.34-3 3-3 3 1.34 3 3-1.34 3-3 3z\"/></svg>\\n      Settings\\n</a>\\n</nav>\\n\\n\\n  </div>\\n\\n<div class=\"container new-discussion-timeline experiment-repo-nav\">\\n  <div class=\"repository-content\">\\n\\n    \\n  <a href=\"/shivamms/Complete-Python-Bootcamp/blob/6b5531e8087439a5e3739adabe2ea637d71f0551/test.txt\" class=\"d-none js-permalink-shortcut\" data-hotkey=\"y\">Permalink</a>\\n\\n  <!-- blob contrib key: blob_contributors:v21:a8a9a2e40f0ef3faf440d4e7a57d4c36 -->\\n\\n  <div class=\"file-navigation js-zeroclipboard-container\">\\n    \\n<div class=\"select-menu branch-select-menu js-menu-container js-select-menu float-left\">\\n  <button class=\" btn btn-sm select-menu-button js-menu-target css-truncate\" data-hotkey=\"w\"\\n    \\n    type=\"button\" aria-label=\"Switch branches or tags\" aria-expanded=\"false\" aria-haspopup=\"true\">\\n      <i>Branch:</i>\\n      <span class=\"js-select-button css-truncate-target\">master</span>\\n  </button>\\n\\n  <div class=\"select-menu-modal-holder js-menu-content js-navigation-container\" data-pjax>\\n\\n    <div class=\"select-menu-modal\">\\n      <div class=\"select-menu-header\">\\n        <svg aria-label=\"Close\" class=\"octicon octicon-x js-menu-close\" height=\"16\" role=\"img\" version=\"1.1\" viewBox=\"0 0 12 16\" width=\"12\"><path fill-rule=\"evenodd\" d=\"M7.48 8l3.75 3.75-1.48 1.48L6 9.48l-3.75 3.75-1.48-1.48L4.52 8 .77 4.25l1.48-1.48L6 6.52l3.75-3.75 1.48 1.48z\"/></svg>\\n        <span class=\"select-menu-title\">Switch branches/tags</span>\\n      </div>\\n\\n      <div class=\"select-menu-filters\">\\n        <div class=\"select-menu-text-filter\">\\n          <input type=\"text\" aria-label=\"Find or create a branch…\" id=\"context-commitish-filter-field\" class=\"form-control js-filterable-field js-navigation-enable\" placeholder=\"Find or create a branch…\">\\n        </div>\\n        <div class=\"select-menu-tabs\">\\n          <ul>\\n            <li class=\"select-menu-tab\">\\n              <a href=\"#\" data-tab-filter=\"branches\" data-filter-placeholder=\"Find or create a branch…\" class=\"js-select-menu-tab\" role=\"tab\">Branches</a>\\n            </li>\\n            <li class=\"select-menu-tab\">\\n              <a href=\"#\" data-tab-filter=\"tags\" data-filter-placeholder=\"Find a tag…\" class=\"js-select-menu-tab\" role=\"tab\">Tags</a>\\n            </li>\\n          </ul>\\n        </div>\\n      </div>\\n\\n      <div class=\"select-menu-list select-menu-tab-bucket js-select-menu-tab-bucket\" data-tab-filter=\"branches\" role=\"menu\">\\n\\n        <div data-filterable-for=\"context-commitish-filter-field\" data-filterable-type=\"substring\">\\n\\n\\n            <a class=\"select-menu-item js-navigation-item js-navigation-open selected\"\\n               href=\"/shivamms/Complete-Python-Bootcamp/blob/master/test.txt\"\\n               data-name=\"master\"\\n               data-skip-pjax=\"true\"\\n               rel=\"nofollow\">\\n              <svg aria-hidden=\"true\" class=\"octicon octicon-check select-menu-item-icon\" height=\"16\" version=\"1.1\" viewBox=\"0 0 12 16\" width=\"12\"><path fill-rule=\"evenodd\" d=\"M12 5l-8 8-4-4 1.5-1.5L4 10l6.5-6.5z\"/></svg>\\n              <span class=\"select-menu-item-text css-truncate-target js-select-menu-filter-text\">\\n                master\\n              </span>\\n            </a>\\n        </div>\\n\\n          <!-- \\'\"` --><!-- </textarea></xmp> --></option></form><form accept-charset=\"UTF-8\" action=\"/shivamms/Complete-Python-Bootcamp/branches\" class=\"js-create-branch select-menu-item select-menu-new-item-form js-navigation-item js-new-item-form\" method=\"post\"><div style=\"margin:0;padding:0;display:inline\"><input name=\"utf8\" type=\"hidden\" value=\"&#x2713;\" /><input name=\"authenticity_token\" type=\"hidden\" value=\"v7gUfBR42hLaPUwbFgwUZetjxGh4+pWp1kh/BtzOWElN1Xm8Pp3n0Y0EhnxiLVp5eAtP7Dc8ttudekg91akNSg==\" /></div>\\n          <svg aria-hidden=\"true\" class=\"octicon octicon-git-branch select-menu-item-icon\" height=\"16\" version=\"1.1\" viewBox=\"0 0 10 16\" width=\"10\"><path fill-rule=\"evenodd\" d=\"M10 5c0-1.11-.89-2-2-2a1.993 1.993 0 0 0-1 3.72v.3c-.02.52-.23.98-.63 1.38-.4.4-.86.61-1.38.63-.83.02-1.48.16-2 .45V4.72a1.993 1.993 0 0 0-1-3.72C.88 1 0 1.89 0 3a2 2 0 0 0 1 1.72v6.56c-.59.35-1 .99-1 1.72 0 1.11.89 2 2 2 1.11 0 2-.89 2-2 0-.53-.2-1-.53-1.36.09-.06.48-.41.59-.47.25-.11.56-.17.94-.17 1.05-.05 1.95-.45 2.75-1.25S8.95 7.77 9 6.73h-.02C9.59 6.37 10 5.73 10 5zM2 1.8c.66 0 1.2.55 1.2 1.2 0 .65-.55 1.2-1.2 1.2C1.35 4.2.8 3.65.8 3c0-.65.55-1.2 1.2-1.2zm0 12.41c-.66 0-1.2-.55-1.2-1.2 0-.65.55-1.2 1.2-1.2.65 0 1.2.55 1.2 1.2 0 .65-.55 1.2-1.2 1.2zm6-8c-.66 0-1.2-.55-1.2-1.2 0-.65.55-1.2 1.2-1.2.65 0 1.2.55 1.2 1.2 0 .65-.55 1.2-1.2 1.2z\"/></svg>\\n            <div class=\"select-menu-item-text\">\\n              <span class=\"select-menu-item-heading\">Create branch: <span class=\"js-new-item-name\"></span></span>\\n              <span class=\"description\">from ‘master’</span>\\n            </div>\\n            <input type=\"hidden\" name=\"name\" id=\"name\" class=\"js-new-item-value\">\\n            <input type=\"hidden\" name=\"branch\" id=\"branch\" value=\"master\">\\n            <input type=\"hidden\" name=\"path\" id=\"path\" value=\"test.txt\">\\n</form>\\n      </div>\\n\\n      <div class=\"select-menu-list select-menu-tab-bucket js-select-menu-tab-bucket\" data-tab-filter=\"tags\">\\n        <div data-filterable-for=\"context-commitish-filter-field\" data-filterable-type=\"substring\">\\n\\n\\n        </div>\\n\\n        <div class=\"select-menu-no-results\">Nothing to show</div>\\n      </div>\\n\\n    </div>\\n  </div>\\n</div>\\n\\n    <div class=\"BtnGroup float-right\">\\n      <a href=\"/shivamms/Complete-Python-Bootcamp/find/master\"\\n            class=\"js-pjax-capture-input btn btn-sm BtnGroup-item\"\\n            data-pjax\\n            data-hotkey=\"t\">\\n        Find file\\n      </a>\\n      <button aria-label=\"Copy file path to clipboard\" class=\"js-zeroclipboard btn btn-sm BtnGroup-item tooltipped tooltipped-s\" data-copied-hint=\"Copied!\" type=\"button\">Copy path</button>\\n    </div>\\n    <div class=\"breadcrumb js-zeroclipboard-target\">\\n      <span class=\"repo-root js-repo-root\"><span class=\"js-path-segment\"><a href=\"/shivamms/Complete-Python-Bootcamp\"><span>Complete-Python-Bootcamp</span></a></span></span><span class=\"separator\">/</span><strong class=\"final-path\">test.txt</strong>\\n    </div>\\n  </div>\\n\\n\\n  \\n  <div class=\"commit-tease\">\\n      <span class=\"float-right\">\\n        <a class=\"commit-tease-sha\" href=\"/shivamms/Complete-Python-Bootcamp/commit/43df8ea435fb00ee6580deaa7da0f1cad0d9ffde\" data-pjax>\\n          43df8ea\\n        </a>\\n        <relative-time datetime=\"2015-09-08T16:01:01Z\">Sep 8, 2015</relative-time>\\n      </span>\\n      <div>\\n        <img alt=\"@jmportilla\" class=\"avatar\" height=\"20\" src=\"https://avatars0.githubusercontent.com/u/8271660?s=40&amp;v=4\" width=\"20\" />\\n        <a href=\"/jmportilla\" class=\"user-mention\" rel=\"contributor\">jmportilla</a>\\n          <a href=\"/shivamms/Complete-Python-Bootcamp/commit/43df8ea435fb00ee6580deaa7da0f1cad0d9ffde\" class=\"message\" data-pjax=\"true\" title=\"updtae\">updtae</a>\\n      </div>\\n\\n    <div class=\"commit-tease-contributors\">\\n      <button type=\"button\" class=\"btn-link muted-link contributors-toggle\" data-facebox=\"#blob_contributors_box\">\\n        <strong>1</strong>\\n         contributor\\n      </button>\\n      \\n    </div>\\n\\n    <div id=\"blob_contributors_box\" style=\"display:none\">\\n      <h2 class=\"facebox-header\" data-facebox-id=\"facebox-header\">Users who have contributed to this file</h2>\\n      <ul class=\"facebox-user-list\" data-facebox-id=\"facebox-description\">\\n          <li class=\"facebox-user-list-item\">\\n            <img alt=\"@jmportilla\" height=\"24\" src=\"https://avatars1.githubusercontent.com/u/8271660?s=48&amp;v=4\" width=\"24\" />\\n            <a href=\"/jmportilla\">jmportilla</a>\\n          </li>\\n      </ul>\\n    </div>\\n  </div>\\n\\n\\n  <div class=\"file\">\\n    <div class=\"file-header\">\\n  <div class=\"file-actions\">\\n\\n    <div class=\"BtnGroup\">\\n      <a href=\"/shivamms/Complete-Python-Bootcamp/raw/master/test.txt\" class=\"btn btn-sm BtnGroup-item\" id=\"raw-url\">Raw</a>\\n        <a href=\"/shivamms/Complete-Python-Bootcamp/blame/master/test.txt\" class=\"btn btn-sm js-update-url-with-hash BtnGroup-item\" data-hotkey=\"b\">Blame</a>\\n      <a href=\"/shivamms/Complete-Python-Bootcamp/commits/master/test.txt\" class=\"btn btn-sm BtnGroup-item\" rel=\"nofollow\">History</a>\\n    </div>\\n\\n\\n        <!-- \\'\"` --><!-- </textarea></xmp> --></option></form><form accept-charset=\"UTF-8\" action=\"/shivamms/Complete-Python-Bootcamp/edit/master/test.txt\" class=\"inline-form js-update-url-with-hash\" method=\"post\"><div style=\"margin:0;padding:0;display:inline\"><input name=\"utf8\" type=\"hidden\" value=\"&#x2713;\" /><input name=\"authenticity_token\" type=\"hidden\" value=\"SCtCqrbpTo17MD0q9z4nosbNpHreyMyb8i8fjcj7XGhakKSzmACEyJ04ojijj9U+PU2InXuVzFtu9jnKFfmsgQ==\" /></div>\\n          <button class=\"btn-octicon tooltipped tooltipped-nw\" type=\"submit\"\\n            aria-label=\"Edit this file\" data-hotkey=\"e\" data-disable-with>\\n            <svg aria-hidden=\"true\" class=\"octicon octicon-pencil\" height=\"16\" version=\"1.1\" viewBox=\"0 0 14 16\" width=\"14\"><path fill-rule=\"evenodd\" d=\"M0 12v3h3l8-8-3-3-8 8zm3 2H1v-2h1v1h1v1zm10.3-9.3L12 6 9 3l1.3-1.3a.996.996 0 0 1 1.41 0l1.59 1.59c.39.39.39 1.02 0 1.41z\"/></svg>\\n          </button>\\n</form>        <!-- \\'\"` --><!-- </textarea></xmp> --></option></form><form accept-charset=\"UTF-8\" action=\"/shivamms/Complete-Python-Bootcamp/delete/master/test.txt\" class=\"inline-form\" method=\"post\"><div style=\"margin:0;padding:0;display:inline\"><input name=\"utf8\" type=\"hidden\" value=\"&#x2713;\" /><input name=\"authenticity_token\" type=\"hidden\" value=\"AlF91i6s0ENc69hRt54EEU2wxhC6Pa5TjIp8d18Wt2f4hIvlhVrC+oovW87e9PhqO9Emrpa2DYffpqnAhM3d9A==\" /></div>\\n          <button class=\"btn-octicon btn-octicon-danger tooltipped tooltipped-nw\" type=\"submit\"\\n            aria-label=\"Delete this file\" data-disable-with>\\n            <svg aria-hidden=\"true\" class=\"octicon octicon-trashcan\" height=\"16\" version=\"1.1\" viewBox=\"0 0 12 16\" width=\"12\"><path fill-rule=\"evenodd\" d=\"M11 2H9c0-.55-.45-1-1-1H5c-.55 0-1 .45-1 1H2c-.55 0-1 .45-1 1v1c0 .55.45 1 1 1v9c0 .55.45 1 1 1h7c.55 0 1-.45 1-1V5c.55 0 1-.45 1-1V3c0-.55-.45-1-1-1zm-1 12H3V5h1v8h1V5h1v8h1V5h1v8h1V5h1v9zm1-10H2V3h9v1z\"/></svg>\\n          </button>\\n</form>  </div>\\n\\n  <div class=\"file-info\">\\n      1 lines (1 sloc)\\n      <span class=\"file-info-divider\"></span>\\n    22 Bytes\\n  </div>\\n</div>\\n\\n    \\n\\n  <div itemprop=\"text\" class=\"blob-wrapper data type-text\">\\n      <table class=\"highlight tab-size js-file-line-container\" data-tab-size=\"8\">\\n      <tr>\\n        <td id=\"L1\" class=\"blob-num js-line-number\" data-line-number=\"1\"></td>\\n        <td id=\"LC1\" class=\"blob-code blob-code-inner js-file-line\">This is a new lineLine</td>\\n      </tr>\\n</table>\\n\\n  <div class=\"BlobToolbar position-absolute js-file-line-actions dropdown js-menu-container js-select-menu d-none\" aria-hidden=\"true\">\\n    <button class=\"btn-octicon ml-0 px-2 p-0 bg-white border border-gray-dark rounded-1 dropdown-toggle js-menu-target\" id=\"js-file-line-action-button\" type=\"button\" aria-expanded=\"false\" aria-haspopup=\"true\" aria-label=\"Inline file action toolbar\" aria-controls=\"inline-file-actions\">\\n      <svg aria-hidden=\"true\" class=\"octicon octicon-kebab-horizontal\" height=\"16\" version=\"1.1\" viewBox=\"0 0 13 16\" width=\"13\"><path fill-rule=\"evenodd\" d=\"M1.5 9a1.5 1.5 0 1 1 0-3 1.5 1.5 0 0 1 0 3zm5 0a1.5 1.5 0 1 1 0-3 1.5 1.5 0 0 1 0 3zm5 0a1.5 1.5 0 1 1 0-3 1.5 1.5 0 0 1 0 3z\"/></svg>\\n    </button>\\n    <div class=\"dropdown-menu-content js-menu-content\" id=\"inline-file-actions\">\\n      <ul class=\"BlobToolbar-dropdown dropdown-menu dropdown-menu-se mt-2\">\\n        <li><a class=\"js-zeroclipboard dropdown-item\" style=\"cursor:pointer;\" id=\"js-copy-lines\" data-original-text=\"Copy lines\">Copy lines</a></li>\\n        <li><a class=\"js-zeroclipboard dropdown-item\" id= \"js-copy-permalink\" style=\"cursor:pointer;\" data-original-text=\"Copy permalink\">Copy permalink</a></li>\\n        <li><a href=\"/shivamms/Complete-Python-Bootcamp/blame/6b5531e8087439a5e3739adabe2ea637d71f0551/test.txt\" class=\"dropdown-item js-update-url-with-hash\" id=\"js-view-git-blame\">View git blame</a></li>\\n      </ul>\\n    </div>\\n  </div>\\n\\n  </div>\\n\\n  </div>\\n\\n  <button type=\"button\" data-facebox=\"#jump-to-line\" data-facebox-class=\"linejump\" data-hotkey=\"l\" class=\"d-none\">Jump to Line</button>\\n  <div id=\"jump-to-line\" style=\"display:none\">\\n    <!-- \\'\"` --><!-- </textarea></xmp> --></option></form><form accept-charset=\"UTF-8\" action=\"\" class=\"js-jump-to-line-form\" method=\"get\"><div style=\"margin:0;padding:0;display:inline\"><input name=\"utf8\" type=\"hidden\" value=\"&#x2713;\" /></div>\\n      <input class=\"form-control linejump-input js-jump-to-line-field\" type=\"text\" placeholder=\"Jump to line&hellip;\" aria-label=\"Jump to line\" autofocus>\\n      <button type=\"submit\" class=\"btn\">Go</button>\\n</form>  </div>\\n\\n\\n  </div>\\n  <div class=\"modal-backdrop js-touch-events\"></div>\\n</div>\\n\\n    </div>\\n  </div>\\n\\n  </div>\\n\\n      \\n<div class=\"footer container-lg px-3\" role=\"contentinfo\">\\n  <div class=\"position-relative d-flex flex-justify-between py-6 mt-6 f6 text-gray border-top border-gray-light \">\\n    <ul class=\"list-style-none d-flex flex-wrap \">\\n      <li class=\"mr-3\">&copy; 2017 <span title=\"0.13357s from unicorn-2720407843-9hbns\">GitHub</span>, Inc.</li>\\n        <li class=\"mr-3\"><a href=\"https://github.com/site/terms\" data-ga-click=\"Footer, go to terms, text:terms\">Terms</a></li>\\n        <li class=\"mr-3\"><a href=\"https://github.com/site/privacy\" data-ga-click=\"Footer, go to privacy, text:privacy\">Privacy</a></li>\\n        <li class=\"mr-3\"><a href=\"https://github.com/security\" data-ga-click=\"Footer, go to security, text:security\">Security</a></li>\\n        <li class=\"mr-3\"><a href=\"https://status.github.com/\" data-ga-click=\"Footer, go to status, text:status\">Status</a></li>\\n        <li><a href=\"https://help.github.com\" data-ga-click=\"Footer, go to help, text:help\">Help</a></li>\\n    </ul>\\n\\n    <a href=\"https://github.com\" aria-label=\"Homepage\" class=\"footer-octicon\" title=\"GitHub\">\\n      <svg aria-hidden=\"true\" class=\"octicon octicon-mark-github\" height=\"24\" version=\"1.1\" viewBox=\"0 0 16 16\" width=\"24\"><path fill-rule=\"evenodd\" d=\"M8 0C3.58 0 0 3.58 0 8c0 3.54 2.29 6.53 5.47 7.59.4.07.55-.17.55-.38 0-.19-.01-.82-.01-1.49-2.01.37-2.53-.49-2.69-.94-.09-.23-.48-.94-.82-1.13-.28-.15-.68-.52-.01-.53.63-.01 1.08.58 1.23.82.72 1.21 1.87.87 2.33.66.07-.52.28-.87.51-1.07-1.78-.2-3.64-.89-3.64-3.95 0-.87.31-1.59.82-2.15-.08-.2-.36-1.02.08-2.12 0 0 .67-.21 2.2.82.64-.18 1.32-.27 2-.27.68 0 1.36.09 2 .27 1.53-1.04 2.2-.82 2.2-.82.44 1.1.16 1.92.08 2.12.51.56.82 1.27.82 2.15 0 3.07-1.87 3.75-3.65 3.95.29.25.54.73.54 1.48 0 1.07-.01 1.93-.01 2.2 0 .21.15.46.55.38A8.013 8.013 0 0 0 16 8c0-4.42-3.58-8-8-8z\"/></svg>\\n</a>\\n    <ul class=\"list-style-none d-flex flex-wrap \">\\n        <li class=\"mr-3\"><a href=\"https://github.com/contact\" data-ga-click=\"Footer, go to contact, text:contact\">Contact GitHub</a></li>\\n      <li class=\"mr-3\"><a href=\"https://developer.github.com\" data-ga-click=\"Footer, go to api, text:api\">API</a></li>\\n      <li class=\"mr-3\"><a href=\"https://training.github.com\" data-ga-click=\"Footer, go to training, text:training\">Training</a></li>\\n      <li class=\"mr-3\"><a href=\"https://shop.github.com\" data-ga-click=\"Footer, go to shop, text:shop\">Shop</a></li>\\n        <li class=\"mr-3\"><a href=\"https://github.com/blog\" data-ga-click=\"Footer, go to blog, text:blog\">Blog</a></li>\\n        <li><a href=\"https://github.com/about\" data-ga-click=\"Footer, go to about, text:about\">About</a></li>\\n\\n    </ul>\\n  </div>\\n</div>\\n\\n\\n\\n  <div id=\"ajax-error-message\" class=\"ajax-error-message flash flash-error\">\\n    <svg aria-hidden=\"true\" class=\"octicon octicon-alert\" height=\"16\" version=\"1.1\" viewBox=\"0 0 16 16\" width=\"16\"><path fill-rule=\"evenodd\" d=\"M8.865 1.52c-.18-.31-.51-.5-.87-.5s-.69.19-.87.5L.275 13.5c-.18.31-.18.69 0 1 .19.31.52.5.87.5h13.7c.36 0 .69-.19.86-.5.17-.31.18-.69.01-1L8.865 1.52zM8.995 13h-2v-2h2v2zm0-3h-2V6h2v4z\"/></svg>\\n    <button type=\"button\" class=\"flash-close js-ajax-error-dismiss\" aria-label=\"Dismiss error\">\\n      <svg aria-hidden=\"true\" class=\"octicon octicon-x\" height=\"16\" version=\"1.1\" viewBox=\"0 0 12 16\" width=\"12\"><path fill-rule=\"evenodd\" d=\"M7.48 8l3.75 3.75-1.48 1.48L6 9.48l-3.75 3.75-1.48-1.48L4.52 8 .77 4.25l1.48-1.48L6 6.52l3.75-3.75 1.48 1.48z\"/></svg>\\n    </button>\\n    You can\\'t perform that action at this time.\\n  </div>\\n\\n\\n    \\n    <script crossorigin=\"anonymous\" integrity=\"sha256-OQfZqtgSuMlBR8iBZctKlpPFfPmfDo4BBT/Hneep2RE=\" src=\"https://assets-cdn.github.com/assets/frameworks-3907d9aad812b8c94147c88165cb4a9693c57cf99f0e8e01053fc79de7a9d911.js\"></script>\\n    \\n    <script async=\"async\" crossorigin=\"anonymous\" integrity=\"sha256-wbENoh8ZMqQXP8+2BnbirTLlFfeud1Y922WPBM0mNo0=\" src=\"https://assets-cdn.github.com/assets/github-c1b10da21f1932a4173fcfb60676e2ad32e515f7ae77563ddb658f04cd26368d.js\"></script>\\n    \\n    \\n    \\n    \\n  <div class=\"js-stale-session-flash stale-session-flash flash flash-warn flash-banner d-none\">\\n    <svg aria-hidden=\"true\" class=\"octicon octicon-alert\" height=\"16\" version=\"1.1\" viewBox=\"0 0 16 16\" width=\"16\"><path fill-rule=\"evenodd\" d=\"M8.865 1.52c-.18-.31-.51-.5-.87-.5s-.69.19-.87.5L.275 13.5c-.18.31-.18.69 0 1 .19.31.52.5.87.5h13.7c.36 0 .69-.19.86-.5.17-.31.18-.69.01-1L8.865 1.52zM8.995 13h-2v-2h2v2zm0-3h-2V6h2v4z\"/></svg>\\n    <span class=\"signed-in-tab-flash\">You signed in with another tab or window. <a href=\"\">Reload</a> to refresh your session.</span>\\n    <span class=\"signed-out-tab-flash\">You signed out in another tab or window. <a href=\"\">Reload</a> to refresh your session.</span>\\n  </div>\\n  <div class=\"facebox\" id=\"facebox\" style=\"display:none;\">\\n  <div class=\"facebox-popup\">\\n    <div class=\"facebox-content\" role=\"dialog\" aria-labelledby=\"facebox-header\" aria-describedby=\"facebox-description\">\\n    </div>\\n    <button type=\"button\" class=\"facebox-close js-facebox-close\" aria-label=\"Close modal\">\\n      <svg aria-hidden=\"true\" class=\"octicon octicon-x\" height=\"16\" version=\"1.1\" viewBox=\"0 0 12 16\" width=\"12\"><path fill-rule=\"evenodd\" d=\"M7.48 8l3.75 3.75-1.48 1.48L6 9.48l-3.75 3.75-1.48-1.48L4.52 8 .77 4.25l1.48-1.48L6 6.52l3.75-3.75 1.48 1.48z\"/></svg>\\n    </button>\\n  </div>\\n</div>\\n\\n\\n  </body>\\n</html>\\n\\n'"
      ]
     },
     "execution_count": 111,
     "metadata": {},
     "output_type": "execute_result"
    }
   ],
   "source": [
    "f.read()"
   ]
  },
  {
   "cell_type": "code",
   "execution_count": 112,
   "metadata": {},
   "outputs": [
    {
     "data": {
      "text/plain": [
       "0"
      ]
     },
     "execution_count": 112,
     "metadata": {},
     "output_type": "execute_result"
    }
   ],
   "source": [
    "f.seek(0)\n"
   ]
  },
  {
   "cell_type": "code",
   "execution_count": 113,
   "metadata": {},
   "outputs": [
    {
     "data": {
      "text/plain": [
       "['\\n',\n",
       " '\\n',\n",
       " '\\n',\n",
       " '\\n',\n",
       " '\\n',\n",
       " '\\n',\n",
       " '<!DOCTYPE html>\\n',\n",
       " '<html lang=\"en\">\\n',\n",
       " '  <head>\\n',\n",
       " '    <meta charset=\"utf-8\">\\n',\n",
       " '  <link rel=\"dns-prefetch\" href=\"https://assets-cdn.github.com\">\\n',\n",
       " '  <link rel=\"dns-prefetch\" href=\"https://avatars0.githubusercontent.com\">\\n',\n",
       " '  <link rel=\"dns-prefetch\" href=\"https://avatars1.githubusercontent.com\">\\n',\n",
       " '  <link rel=\"dns-prefetch\" href=\"https://avatars2.githubusercontent.com\">\\n',\n",
       " '  <link rel=\"dns-prefetch\" href=\"https://avatars3.githubusercontent.com\">\\n',\n",
       " '  <link rel=\"dns-prefetch\" href=\"https://github-cloud.s3.amazonaws.com\">\\n',\n",
       " '  <link rel=\"dns-prefetch\" href=\"https://user-images.githubusercontent.com/\">\\n',\n",
       " '\\n',\n",
       " '\\n',\n",
       " '\\n',\n",
       " '  <link crossorigin=\"anonymous\" href=\"https://assets-cdn.github.com/assets/frameworks-1c2c316b7a17f15536c6a26ed744654fc228a24658a7ae395cdcbf8329c8406b.css\" integrity=\"sha256-HCwxa3oX8VU2xqJu10RlT8IookZYp645XNy/gynIQGs=\" media=\"all\" rel=\"stylesheet\" />\\n',\n",
       " '  <link crossorigin=\"anonymous\" href=\"https://assets-cdn.github.com/assets/github-8100b9bf1eb6ed8b38eaad2fe7ba51d1895aa0602aafe4a87068d444e07e8c5c.css\" integrity=\"sha256-gQC5vx627Ys46q0v57pR0YlaoGAqr+SocGjUROB+jFw=\" media=\"all\" rel=\"stylesheet\" />\\n',\n",
       " '  \\n',\n",
       " '  \\n',\n",
       " '  \\n',\n",
       " '  \\n',\n",
       " '\\n',\n",
       " '  <meta name=\"viewport\" content=\"width=device-width\">\\n',\n",
       " '  \\n',\n",
       " '  <title>Complete-Python-Bootcamp/test.txt at master · shivamms/Complete-Python-Bootcamp</title>\\n',\n",
       " '  <link rel=\"search\" type=\"application/opensearchdescription+xml\" href=\"/opensearch.xml\" title=\"GitHub\">\\n',\n",
       " '  <link rel=\"fluid-icon\" href=\"https://github.com/fluidicon.png\" title=\"GitHub\">\\n',\n",
       " '  <meta property=\"fb:app_id\" content=\"1401488693436528\">\\n',\n",
       " '\\n',\n",
       " '    \\n',\n",
       " '    <meta content=\"https://avatars3.githubusercontent.com/u/8627753?s=400&amp;v=4\" property=\"og:image\" /><meta content=\"GitHub\" property=\"og:site_name\" /><meta content=\"object\" property=\"og:type\" /><meta content=\"shivamms/Complete-Python-Bootcamp\" property=\"og:title\" /><meta content=\"https://github.com/shivamms/Complete-Python-Bootcamp\" property=\"og:url\" /><meta content=\"Complete-Python-Bootcamp - Lectures for Udemy - Complete Python Bootcamp Course\" property=\"og:description\" />\\n',\n",
       " '\\n',\n",
       " '  <link rel=\"assets\" href=\"https://assets-cdn.github.com/\">\\n',\n",
       " '  <link rel=\"web-socket\" href=\"wss://live.github.com/_sockets/VjI6MjMzODM5OTk3OjBiNWRhMWVjMzBhYTEyMjM0NmU0YjAyNDAxY2ViMWU4MGM5MmQxMjIyOTM4YjQzMzUzYWZlYjQzNmVjZTE5MTk=--b75098f4fd235c7f54580f05bc78646fdac11bdb\">\\n',\n",
       " '  <meta name=\"pjax-timeout\" content=\"1000\">\\n',\n",
       " '  <link rel=\"sudo-modal\" href=\"/sessions/sudo_modal\">\\n',\n",
       " '  <meta name=\"request-id\" content=\"C88A:7EEC:1A7EC:103E3A:5A418F42\" data-pjax-transient>\\n',\n",
       " '  \\n',\n",
       " '\\n',\n",
       " '  <meta name=\"selected-link\" value=\"repo_source\" data-pjax-transient>\\n',\n",
       " '\\n',\n",
       " '    <meta name=\"google-site-verification\" content=\"KT5gs8h0wvaagLKAVWq8bbeNwnZZK1r1XQysX3xurLU\">\\n',\n",
       " '  <meta name=\"google-site-verification\" content=\"ZzhVyEFwb7w3e0-uOTltm8Jsck2F5StVihD0exw2fsA\">\\n',\n",
       " '  <meta name=\"google-site-verification\" content=\"GXs5KoUUkNCoaAZn7wPN-t01Pywp9M3sEjnt_3_ZWPc\">\\n',\n",
       " '    <meta name=\"google-analytics\" content=\"UA-3769691-2\">\\n',\n",
       " '\\n',\n",
       " '<meta content=\"collector.githubapp.com\" name=\"octolytics-host\" /><meta content=\"github\" name=\"octolytics-app-id\" /><meta content=\"https://collector.githubapp.com/github-external/browser_event\" name=\"octolytics-event-url\" /><meta content=\"C88A:7EEC:1A7EC:103E3A:5A418F42\" name=\"octolytics-dimension-request_id\" /><meta content=\"iad\" name=\"octolytics-dimension-region_edge\" /><meta content=\"iad\" name=\"octolytics-dimension-region_render\" /><meta content=\"8627753\" name=\"octolytics-actor-id\" /><meta content=\"shivamms\" name=\"octolytics-actor-login\" /><meta content=\"d635962351c23dae19499c640066fa9e96fc5f32479a1337c44d8d35f4bbba4e\" name=\"octolytics-actor-hash\" />\\n',\n",
       " '<meta content=\"/&lt;user-name&gt;/&lt;repo-name&gt;/blob/show\" data-pjax-transient=\"true\" name=\"analytics-location\" />\\n',\n",
       " '\\n',\n",
       " '\\n',\n",
       " '\\n',\n",
       " '\\n',\n",
       " '  <meta class=\"js-ga-set\" name=\"dimension1\" content=\"Logged In\">\\n',\n",
       " '\\n',\n",
       " '\\n',\n",
       " '  \\n',\n",
       " '\\n',\n",
       " '      <meta name=\"hostname\" content=\"github.com\">\\n',\n",
       " '  <meta name=\"user-login\" content=\"shivamms\">\\n',\n",
       " '\\n',\n",
       " '      <meta name=\"expected-hostname\" content=\"github.com\">\\n',\n",
       " '    <meta name=\"js-proxy-site-detection-payload\" content=\"NWNkNTc1YWQ3NjhiMTNlNTlkZmE5ZmY3MjI4YTQ3YmQ5MTFhMzFiMGE1NDE1NTQ4NzYzNzMzYzYxYWJhOGYzMHx7InJlbW90ZV9hZGRyZXNzIjoiNzMuMTk0LjguMTgwIiwicmVxdWVzdF9pZCI6IkM4OEE6N0VFQzoxQTdFQzoxMDNFM0E6NUE0MThGNDIiLCJ0aW1lc3RhbXAiOjE1MTQyNDU5NTQsImhvc3QiOiJnaXRodWIuY29tIn0=\">\\n',\n",
       " '\\n',\n",
       " '    <meta name=\"enabled-features\" content=\"UNIVERSE_BANNER,FREE_TRIALS\">\\n',\n",
       " '\\n',\n",
       " '  <meta name=\"html-safe-nonce\" content=\"5f0738018e38ec8e028bab2686ad737090188220\">\\n',\n",
       " '\\n',\n",
       " '  <meta http-equiv=\"x-pjax-version\" content=\"e6dbf537b2eb3990c0cae54500f32daf\">\\n',\n",
       " '  \\n',\n",
       " '\\n',\n",
       " '      <link href=\"https://github.com/shivamms/Complete-Python-Bootcamp/commits/master.atom\" rel=\"alternate\" title=\"Recent Commits to Complete-Python-Bootcamp:master\" type=\"application/atom+xml\">\\n',\n",
       " '\\n',\n",
       " '  <meta name=\"description\" content=\"Complete-Python-Bootcamp - Lectures for Udemy - Complete Python Bootcamp Course\">\\n',\n",
       " '  <meta name=\"go-import\" content=\"github.com/shivamms/Complete-Python-Bootcamp git https://github.com/shivamms/Complete-Python-Bootcamp.git\">\\n',\n",
       " '\\n',\n",
       " '  <meta content=\"8627753\" name=\"octolytics-dimension-user_id\" /><meta content=\"shivamms\" name=\"octolytics-dimension-user_login\" /><meta content=\"115369199\" name=\"octolytics-dimension-repository_id\" /><meta content=\"shivamms/Complete-Python-Bootcamp\" name=\"octolytics-dimension-repository_nwo\" /><meta content=\"true\" name=\"octolytics-dimension-repository_public\" /><meta content=\"true\" name=\"octolytics-dimension-repository_is_fork\" /><meta content=\"42013588\" name=\"octolytics-dimension-repository_parent_id\" /><meta content=\"jmportilla/Complete-Python-Bootcamp\" name=\"octolytics-dimension-repository_parent_nwo\" /><meta content=\"42013588\" name=\"octolytics-dimension-repository_network_root_id\" /><meta content=\"jmportilla/Complete-Python-Bootcamp\" name=\"octolytics-dimension-repository_network_root_nwo\" /><meta content=\"true\" name=\"octolytics-dimension-repository_explore_github_marketplace_ci_cta_shown\" />\\n',\n",
       " '\\n',\n",
       " '\\n',\n",
       " '    <link rel=\"canonical\" href=\"https://github.com/shivamms/Complete-Python-Bootcamp/blob/master/test.txt\" data-pjax-transient>\\n',\n",
       " '\\n',\n",
       " '\\n',\n",
       " '  <meta name=\"browser-stats-url\" content=\"https://api.github.com/_private/browser/stats\">\\n',\n",
       " '\\n',\n",
       " '  <meta name=\"browser-errors-url\" content=\"https://api.github.com/_private/browser/errors\">\\n',\n",
       " '\\n',\n",
       " '  <link rel=\"mask-icon\" href=\"https://assets-cdn.github.com/pinned-octocat.svg\" color=\"#000000\">\\n',\n",
       " '  <link rel=\"icon\" type=\"image/x-icon\" class=\"js-site-favicon\" href=\"https://assets-cdn.github.com/favicon.ico\">\\n',\n",
       " '\\n',\n",
       " '<meta name=\"theme-color\" content=\"#1e2327\">\\n',\n",
       " '\\n',\n",
       " '\\n',\n",
       " '  <meta name=\"u2f-support\" content=\"true\">\\n',\n",
       " '\\n',\n",
       " '  </head>\\n',\n",
       " '\\n',\n",
       " '  <body class=\"logged-in env-production page-blob\">\\n',\n",
       " '    \\n',\n",
       " '\\n',\n",
       " '  <div class=\"position-relative js-header-wrapper \">\\n',\n",
       " '    <a href=\"#start-of-content\" tabindex=\"1\" class=\"bg-black text-white p-3 show-on-focus js-skip-to-content\">Skip to content</a>\\n',\n",
       " '    <div id=\"js-pjax-loader-bar\" class=\"pjax-loader-bar\"><div class=\"progress\"></div></div>\\n',\n",
       " '\\n',\n",
       " '    \\n',\n",
       " '    \\n',\n",
       " '    \\n',\n",
       " '      \\n',\n",
       " '\\n',\n",
       " '\\n',\n",
       " '\\n',\n",
       " '        \\n',\n",
       " '<header class=\"Header  f5\" role=\"banner\">\\n',\n",
       " '  <div class=\"d-flex px-3 flex-justify-between container-lg\">\\n',\n",
       " '    <div class=\"d-flex flex-justify-between\">\\n',\n",
       " '      <a class=\"header-logo-invertocat\" href=\"https://github.com/\" data-hotkey=\"g d\" aria-label=\"Homepage\" data-ga-click=\"Header, go to dashboard, icon:logo\">\\n',\n",
       " '  <svg aria-hidden=\"true\" class=\"octicon octicon-mark-github\" height=\"32\" version=\"1.1\" viewBox=\"0 0 16 16\" width=\"32\"><path fill-rule=\"evenodd\" d=\"M8 0C3.58 0 0 3.58 0 8c0 3.54 2.29 6.53 5.47 7.59.4.07.55-.17.55-.38 0-.19-.01-.82-.01-1.49-2.01.37-2.53-.49-2.69-.94-.09-.23-.48-.94-.82-1.13-.28-.15-.68-.52-.01-.53.63-.01 1.08.58 1.23.82.72 1.21 1.87.87 2.33.66.07-.52.28-.87.51-1.07-1.78-.2-3.64-.89-3.64-3.95 0-.87.31-1.59.82-2.15-.08-.2-.36-1.02.08-2.12 0 0 .67-.21 2.2.82.64-.18 1.32-.27 2-.27.68 0 1.36.09 2 .27 1.53-1.04 2.2-.82 2.2-.82.44 1.1.16 1.92.08 2.12.51.56.82 1.27.82 2.15 0 3.07-1.87 3.75-3.65 3.95.29.25.54.73.54 1.48 0 1.07-.01 1.93-.01 2.2 0 .21.15.46.55.38A8.013 8.013 0 0 0 16 8c0-4.42-3.58-8-8-8z\"/></svg>\\n',\n",
       " '</a>\\n',\n",
       " '\\n',\n",
       " '\\n',\n",
       " '    </div>\\n',\n",
       " '\\n',\n",
       " '    <div class=\"HeaderMenu d-flex flex-justify-between flex-auto\">\\n',\n",
       " '      <div class=\"d-flex\">\\n',\n",
       " '            <div class=\"\">\\n',\n",
       " '              <div class=\"header-search scoped-search site-scoped-search js-site-search\" role=\"search\">\\n',\n",
       " '  <!-- \\'\"` --><!-- </textarea></xmp> --></option></form><form accept-charset=\"UTF-8\" action=\"/shivamms/Complete-Python-Bootcamp/search\" class=\"js-site-search-form\" data-scoped-search-url=\"/shivamms/Complete-Python-Bootcamp/search\" data-unscoped-search-url=\"/search\" method=\"get\"><div style=\"margin:0;padding:0;display:inline\"><input name=\"utf8\" type=\"hidden\" value=\"&#x2713;\" /></div>\\n',\n",
       " '    <label class=\"form-control header-search-wrapper js-chromeless-input-container\">\\n',\n",
       " '        <a href=\"/shivamms/Complete-Python-Bootcamp/blob/master/test.txt\" class=\"header-search-scope no-underline\">This repository</a>\\n',\n",
       " '      <input type=\"text\"\\n',\n",
       " '        class=\"form-control header-search-input js-site-search-focus js-site-search-field is-clearable\"\\n',\n",
       " '        data-hotkey=\"s\"\\n',\n",
       " '        name=\"q\"\\n',\n",
       " '        value=\"\"\\n',\n",
       " '        placeholder=\"Search\"\\n',\n",
       " '        aria-label=\"Search this repository\"\\n',\n",
       " '        data-unscoped-placeholder=\"Search GitHub\"\\n',\n",
       " '        data-scoped-placeholder=\"Search\"\\n',\n",
       " '        autocapitalize=\"off\">\\n',\n",
       " '        <input type=\"hidden\" class=\"js-site-search-type-field\" name=\"type\" >\\n',\n",
       " '    </label>\\n',\n",
       " '</form></div>\\n',\n",
       " '\\n',\n",
       " '            </div>\\n',\n",
       " '\\n',\n",
       " '          <ul class=\"d-flex pl-2 flex-items-center text-bold list-style-none\" role=\"navigation\">\\n',\n",
       " '            <li>\\n',\n",
       " '              <a href=\"/pulls\" aria-label=\"Pull requests you created\" class=\"js-selected-navigation-item HeaderNavlink px-2\" data-ga-click=\"Header, click, Nav menu - item:pulls context:user\" data-hotkey=\"g p\" data-selected-links=\"/pulls /pulls/assigned /pulls/mentioned /pulls\">\\n',\n",
       " '                Pull requests\\n',\n",
       " '</a>            </li>\\n',\n",
       " '            <li>\\n',\n",
       " '              <a href=\"/issues\" aria-label=\"Issues you created\" class=\"js-selected-navigation-item HeaderNavlink px-2\" data-ga-click=\"Header, click, Nav menu - item:issues context:user\" data-hotkey=\"g i\" data-selected-links=\"/issues /issues/assigned /issues/mentioned /issues\">\\n',\n",
       " '                Issues\\n',\n",
       " '</a>            </li>\\n',\n",
       " '                <li>\\n',\n",
       " '                  <a href=\"/marketplace\" class=\"js-selected-navigation-item HeaderNavlink px-2\" data-ga-click=\"Header, click, Nav menu - item:marketplace context:user\" data-selected-links=\" /marketplace\">\\n',\n",
       " '                    Marketplace\\n',\n",
       " '</a>                </li>\\n',\n",
       " '            <li>\\n',\n",
       " '              <a href=\"/explore\" class=\"js-selected-navigation-item HeaderNavlink px-2\" data-ga-click=\"Header, click, Nav menu - item:explore\" data-selected-links=\"/explore /trending /trending/developers /integrations /integrations/feature/code /integrations/feature/collaborate /integrations/feature/ship showcases showcases_search showcases_landing /explore\">\\n',\n",
       " '                Explore\\n',\n",
       " '</a>            </li>\\n',\n",
       " '          </ul>\\n',\n",
       " '      </div>\\n',\n",
       " '\\n',\n",
       " '      <div class=\"d-flex\">\\n',\n",
       " '        \\n',\n",
       " '<ul class=\"user-nav d-flex flex-items-center list-style-none\" id=\"user-links\">\\n',\n",
       " '  <li class=\"dropdown js-menu-container\">\\n',\n",
       " '    <span class=\"d-inline-block  px-2\">\\n',\n",
       " '      \\n',\n",
       " '    <a href=\"/notifications\" aria-label=\"You have no unread notifications\" class=\"notification-indicator tooltipped tooltipped-s  js-socket-channel js-notification-indicator\" data-channel=\"notification-changed:8627753\" data-ga-click=\"Header, go to notifications, icon:read\" data-hotkey=\"g n\">\\n',\n",
       " '        <span class=\"mail-status \"></span>\\n',\n",
       " '        <svg aria-hidden=\"true\" class=\"octicon octicon-bell\" height=\"16\" version=\"1.1\" viewBox=\"0 0 14 16\" width=\"14\"><path fill-rule=\"evenodd\" d=\"M14 12v1H0v-1l.73-.58c.77-.77.81-2.55 1.19-4.42C2.69 3.23 6 2 6 2c0-.55.45-1 1-1s1 .45 1 1c0 0 3.39 1.23 4.16 5 .38 1.88.42 3.66 1.19 4.42l.66.58H14zm-7 4c1.11 0 2-.89 2-2H5c0 1.11.89 2 2 2z\"/></svg>\\n',\n",
       " '</a>\\n',\n",
       " '    </span>\\n',\n",
       " '  </li>\\n',\n",
       " '\\n',\n",
       " '  <li class=\"dropdown js-menu-container\">\\n',\n",
       " '    <details class=\"dropdown-details details-reset js-dropdown-details d-flex px-2 flex-items-center\">\\n',\n",
       " '      <summary class=\"HeaderNavlink\"\\n',\n",
       " '         aria-label=\"Create new…\"\\n',\n",
       " '         data-ga-click=\"Header, create new, icon:add\">\\n',\n",
       " '        <svg aria-hidden=\"true\" class=\"octicon octicon-plus float-left mr-1 mt-1\" height=\"16\" version=\"1.1\" viewBox=\"0 0 12 16\" width=\"12\"><path fill-rule=\"evenodd\" d=\"M12 9H7v5H5V9H0V7h5V2h2v5h5z\"/></svg>\\n',\n",
       " '        <span class=\"dropdown-caret mt-1\"></span>\\n',\n",
       " '      </summary>\\n',\n",
       " '\\n',\n",
       " '      <ul class=\"dropdown-menu dropdown-menu-sw\">\\n',\n",
       " '        \\n',\n",
       " '<a class=\"dropdown-item\" href=\"/new\" data-ga-click=\"Header, create new repository\">\\n',\n",
       " '  New repository\\n',\n",
       " '</a>\\n',\n",
       " '\\n',\n",
       " '  <a class=\"dropdown-item\" href=\"/new/import\" data-ga-click=\"Header, import a repository\">\\n',\n",
       " '    Import repository\\n',\n",
       " '  </a>\\n',\n",
       " '\\n',\n",
       " '<a class=\"dropdown-item\" href=\"https://gist.github.com/\" data-ga-click=\"Header, create new gist\">\\n',\n",
       " '  New gist\\n',\n",
       " '</a>\\n',\n",
       " '\\n',\n",
       " '  <a class=\"dropdown-item\" href=\"/organizations/new\" data-ga-click=\"Header, create new organization\">\\n',\n",
       " '    New organization\\n',\n",
       " '  </a>\\n',\n",
       " '\\n',\n",
       " '\\n',\n",
       " '\\n',\n",
       " '\\n',\n",
       " '      </ul>\\n',\n",
       " '    </details>\\n',\n",
       " '  </li>\\n',\n",
       " '\\n',\n",
       " '  <li class=\"dropdown js-menu-container\">\\n',\n",
       " '\\n',\n",
       " '    <details class=\"dropdown-details details-reset js-dropdown-details d-flex pl-2 flex-items-center\">\\n',\n",
       " '      <summary class=\"HeaderNavlink name mt-1\"\\n',\n",
       " '        aria-label=\"View profile and more\"\\n',\n",
       " '        data-ga-click=\"Header, show menu, icon:avatar\">\\n',\n",
       " '        <img alt=\"@shivamms\" class=\"avatar float-left mr-1\" src=\"https://avatars2.githubusercontent.com/u/8627753?s=40&amp;v=4\" height=\"20\" width=\"20\">\\n',\n",
       " '        <span class=\"dropdown-caret\"></span>\\n',\n",
       " '      </summary>\\n',\n",
       " '\\n',\n",
       " '      <ul class=\"dropdown-menu dropdown-menu-sw\">\\n',\n",
       " '        <li class=\"dropdown-header header-nav-current-user css-truncate\">\\n',\n",
       " '          Signed in as <strong class=\"css-truncate-target\">shivamms</strong>\\n',\n",
       " '        </li>\\n',\n",
       " '\\n',\n",
       " '        <li class=\"dropdown-divider\"></li>\\n',\n",
       " '\\n',\n",
       " '        <li><a class=\"dropdown-item\" href=\"/shivamms\" data-ga-click=\"Header, go to profile, text:your profile\">\\n',\n",
       " '          Your profile\\n',\n",
       " '        </a></li>\\n',\n",
       " '        <li><a class=\"dropdown-item\" href=\"/shivamms?tab=stars\" data-ga-click=\"Header, go to starred repos, text:your stars\">\\n',\n",
       " '          Your stars\\n',\n",
       " '        </a></li>\\n',\n",
       " '          <li><a class=\"dropdown-item\" href=\"https://gist.github.com/\" data-ga-click=\"Header, your gists, text:your gists\">Your Gists</a></li>\\n',\n",
       " '\\n',\n",
       " '        <li class=\"dropdown-divider\"></li>\\n',\n",
       " '\\n',\n",
       " '        <li><a class=\"dropdown-item\" href=\"https://help.github.com\" data-ga-click=\"Header, go to help, text:help\">\\n',\n",
       " '          Help\\n',\n",
       " '        </a></li>\\n',\n",
       " '\\n',\n",
       " '        <li><a class=\"dropdown-item\" href=\"/settings/profile\" data-ga-click=\"Header, go to settings, icon:settings\">\\n',\n",
       " '          Settings\\n',\n",
       " '        </a></li>\\n',\n",
       " '\\n',\n",
       " '        <li><!-- \\'\"` --><!-- </textarea></xmp> --></option></form><form accept-charset=\"UTF-8\" action=\"/logout\" class=\"logout-form\" method=\"post\"><div style=\"margin:0;padding:0;display:inline\"><input name=\"utf8\" type=\"hidden\" value=\"&#x2713;\" /><input name=\"authenticity_token\" type=\"hidden\" value=\"4XxhQRfSDOaqlx4QkEegzoHFHErrrRQmuSCglRbt+xBMcC3JB9YPQAERf1BrfLAIzldFtOeAusI512gzZUkh/g==\" /></div>\\n',\n",
       " '          <button type=\"submit\" class=\"dropdown-item dropdown-signout\" data-ga-click=\"Header, sign out, icon:logout\">\\n',\n",
       " '            Sign out\\n',\n",
       " '          </button>\\n',\n",
       " '        </form></li>\\n',\n",
       " '      </ul>\\n',\n",
       " '    </details>\\n',\n",
       " '  </li>\\n',\n",
       " '</ul>\\n',\n",
       " '\\n',\n",
       " '\\n',\n",
       " '        <!-- \\'\"` --><!-- </textarea></xmp> --></option></form><form accept-charset=\"UTF-8\" action=\"/logout\" class=\"sr-only right-0\" method=\"post\"><div style=\"margin:0;padding:0;display:inline\"><input name=\"utf8\" type=\"hidden\" value=\"&#x2713;\" /><input name=\"authenticity_token\" type=\"hidden\" value=\"vMAzSoH4+Ovzr5NRWfFQU0YSt+E47ubIhaGTQfyGCJQRzH/Ckfz7TVgp8hGiykCVCYDuHzTDSCwFVlvnjyLSeg==\" /></div>\\n',\n",
       " '          <button type=\"submit\" class=\"dropdown-item dropdown-signout\" data-ga-click=\"Header, sign out, icon:logout\">\\n',\n",
       " '            Sign out\\n',\n",
       " '          </button>\\n',\n",
       " '</form>      </div>\\n',\n",
       " '    </div>\\n',\n",
       " '  </div>\\n',\n",
       " '</header>\\n',\n",
       " '\\n',\n",
       " '\\n',\n",
       " '      \\n',\n",
       " '\\n',\n",
       " '  </div>\\n',\n",
       " '\\n',\n",
       " '  <div id=\"start-of-content\" class=\"show-on-focus\"></div>\\n',\n",
       " '\\n',\n",
       " '    <div id=\"js-flash-container\">\\n',\n",
       " '</div>\\n',\n",
       " '\\n',\n",
       " '\\n',\n",
       " '\\n',\n",
       " '  <div role=\"main\">\\n',\n",
       " '        <div itemscope itemtype=\"http://schema.org/SoftwareSourceCode\">\\n',\n",
       " '    <div id=\"js-repo-pjax-container\" data-pjax-container>\\n',\n",
       " '      \\n',\n",
       " '\\n',\n",
       " '\\n',\n",
       " '\\n',\n",
       " '\\n',\n",
       " '\\n',\n",
       " '  <div class=\"pagehead repohead instapaper_ignore readability-menu experiment-repo-nav \">\\n',\n",
       " '    <div class=\"repohead-details-container clearfix container \">\\n',\n",
       " '\\n',\n",
       " '      <ul class=\"pagehead-actions\">\\n',\n",
       " '  <li>\\n',\n",
       " '        <!-- \\'\"` --><!-- </textarea></xmp> --></option></form><form accept-charset=\"UTF-8\" action=\"/notifications/subscribe\" class=\"js-social-container\" data-autosubmit=\"true\" data-remote=\"true\" method=\"post\"><div style=\"margin:0;padding:0;display:inline\"><input name=\"utf8\" type=\"hidden\" value=\"&#x2713;\" /><input name=\"authenticity_token\" type=\"hidden\" value=\"x0UH6RKeVvAXBGkacmo7OH6pLQuBCJS4DZQFyf+Qxu9Hv1d7QfZEwhL/BPChYSxFcw8XlfMZyBkc0PNvMVY5bg==\" /></div>      <input class=\"form-control\" id=\"repository_id\" name=\"repository_id\" type=\"hidden\" value=\"115369199\" />\\n',\n",
       " '\\n',\n",
       " '        <div class=\"select-menu js-menu-container js-select-menu\">\\n',\n",
       " '          <a href=\"/shivamms/Complete-Python-Bootcamp/subscription\"\\n',\n",
       " '            class=\"btn btn-sm btn-with-count select-menu-button js-menu-target\"\\n',\n",
       " '            role=\"button\"\\n',\n",
       " '            aria-haspopup=\"true\"\\n',\n",
       " '            aria-expanded=\"false\"\\n',\n",
       " '            aria-label=\"Toggle repository notifications menu\"\\n',\n",
       " '            data-ga-click=\"Repository, click Watch settings, action:blob#show\">\\n',\n",
       " '            <span class=\"js-select-button\">\\n',\n",
       " '                <svg aria-hidden=\"true\" class=\"octicon octicon-eye\" height=\"16\" version=\"1.1\" viewBox=\"0 0 16 16\" width=\"16\"><path fill-rule=\"evenodd\" d=\"M8.06 2C3 2 0 8 0 8s3 6 8.06 6C13 14 16 8 16 8s-3-6-7.94-6zM8 12c-2.2 0-4-1.78-4-4 0-2.2 1.8-4 4-4 2.22 0 4 1.8 4 4 0 2.22-1.78 4-4 4zm2-4c0 1.11-.89 2-2 2-1.11 0-2-.89-2-2 0-1.11.89-2 2-2 1.11 0 2 .89 2 2z\"/></svg>\\n',\n",
       " '                Unwatch\\n',\n",
       " '            </span>\\n',\n",
       " '          </a>\\n',\n",
       " '          <a class=\"social-count js-social-count\"\\n',\n",
       " '            href=\"/shivamms/Complete-Python-Bootcamp/watchers\"\\n',\n",
       " '            aria-label=\"1 user is watching this repository\">\\n',\n",
       " '            1\\n',\n",
       " '          </a>\\n',\n",
       " '\\n',\n",
       " '        <div class=\"select-menu-modal-holder\">\\n',\n",
       " '          <div class=\"select-menu-modal subscription-menu-modal js-menu-content\">\\n',\n",
       " '            <div class=\"select-menu-header js-navigation-enable\" tabindex=\"-1\">\\n',\n",
       " '              <svg aria-label=\"Close\" class=\"octicon octicon-x js-menu-close\" height=\"16\" role=\"img\" version=\"1.1\" viewBox=\"0 0 12 16\" width=\"12\"><path fill-rule=\"evenodd\" d=\"M7.48 8l3.75 3.75-1.48 1.48L6 9.48l-3.75 3.75-1.48-1.48L4.52 8 .77 4.25l1.48-1.48L6 6.52l3.75-3.75 1.48 1.48z\"/></svg>\\n',\n",
       " '              <span class=\"select-menu-title\">Notifications</span>\\n',\n",
       " '            </div>\\n',\n",
       " '\\n',\n",
       " '              <div class=\"select-menu-list js-navigation-container\" role=\"menu\">\\n',\n",
       " '\\n',\n",
       " '                <div class=\"select-menu-item js-navigation-item \" role=\"menuitem\" tabindex=\"0\">\\n',\n",
       " '                  <svg aria-hidden=\"true\" class=\"octicon octicon-check select-menu-item-icon\" height=\"16\" version=\"1.1\" viewBox=\"0 0 12 16\" width=\"12\"><path fill-rule=\"evenodd\" d=\"M12 5l-8 8-4-4 1.5-1.5L4 10l6.5-6.5z\"/></svg>\\n',\n",
       " '                  <div class=\"select-menu-item-text\">\\n',\n",
       " '                    <input id=\"do_included\" name=\"do\" type=\"radio\" value=\"included\" />\\n',\n",
       " '                    <span class=\"select-menu-item-heading\">Not watching</span>\\n',\n",
       " '                    <span class=\"description\">Be notified when participating or @mentioned.</span>\\n',\n",
       " '                    <span class=\"js-select-button-text hidden-select-button-text\">\\n',\n",
       " '                      <svg aria-hidden=\"true\" class=\"octicon octicon-eye\" height=\"16\" version=\"1.1\" viewBox=\"0 0 16 16\" width=\"16\"><path fill-rule=\"evenodd\" d=\"M8.06 2C3 2 0 8 0 8s3 6 8.06 6C13 14 16 8 16 8s-3-6-7.94-6zM8 12c-2.2 0-4-1.78-4-4 0-2.2 1.8-4 4-4 2.22 0 4 1.8 4 4 0 2.22-1.78 4-4 4zm2-4c0 1.11-.89 2-2 2-1.11 0-2-.89-2-2 0-1.11.89-2 2-2 1.11 0 2 .89 2 2z\"/></svg>\\n',\n",
       " '                      Watch\\n',\n",
       " '                    </span>\\n',\n",
       " '                  </div>\\n',\n",
       " '                </div>\\n',\n",
       " '\\n',\n",
       " '                <div class=\"select-menu-item js-navigation-item selected\" role=\"menuitem\" tabindex=\"0\">\\n',\n",
       " '                  <svg aria-hidden=\"true\" class=\"octicon octicon-check select-menu-item-icon\" height=\"16\" version=\"1.1\" viewBox=\"0 0 12 16\" width=\"12\"><path fill-rule=\"evenodd\" d=\"M12 5l-8 8-4-4 1.5-1.5L4 10l6.5-6.5z\"/></svg>\\n',\n",
       " '                  <div class=\"select-menu-item-text\">\\n',\n",
       " '                    <input checked=\"checked\" id=\"do_subscribed\" name=\"do\" type=\"radio\" value=\"subscribed\" />\\n',\n",
       " '                    <span class=\"select-menu-item-heading\">Watching</span>\\n',\n",
       " '                    <span class=\"description\">Be notified of all conversations.</span>\\n',\n",
       " '                    <span class=\"js-select-button-text hidden-select-button-text\">\\n',\n",
       " '                      <svg aria-hidden=\"true\" class=\"octicon octicon-eye\" height=\"16\" version=\"1.1\" viewBox=\"0 0 16 16\" width=\"16\"><path fill-rule=\"evenodd\" d=\"M8.06 2C3 2 0 8 0 8s3 6 8.06 6C13 14 16 8 16 8s-3-6-7.94-6zM8 12c-2.2 0-4-1.78-4-4 0-2.2 1.8-4 4-4 2.22 0 4 1.8 4 4 0 2.22-1.78 4-4 4zm2-4c0 1.11-.89 2-2 2-1.11 0-2-.89-2-2 0-1.11.89-2 2-2 1.11 0 2 .89 2 2z\"/></svg>\\n',\n",
       " '                        Unwatch\\n',\n",
       " '                    </span>\\n',\n",
       " '                  </div>\\n',\n",
       " '                </div>\\n',\n",
       " '\\n',\n",
       " '                <div class=\"select-menu-item js-navigation-item \" role=\"menuitem\" tabindex=\"0\">\\n',\n",
       " '                  <svg aria-hidden=\"true\" class=\"octicon octicon-check select-menu-item-icon\" height=\"16\" version=\"1.1\" viewBox=\"0 0 12 16\" width=\"12\"><path fill-rule=\"evenodd\" d=\"M12 5l-8 8-4-4 1.5-1.5L4 10l6.5-6.5z\"/></svg>\\n',\n",
       " '                  <div class=\"select-menu-item-text\">\\n',\n",
       " '                    <input id=\"do_ignore\" name=\"do\" type=\"radio\" value=\"ignore\" />\\n',\n",
       " '                    <span class=\"select-menu-item-heading\">Ignoring</span>\\n',\n",
       " '                    <span class=\"description\">Never be notified.</span>\\n',\n",
       " '                    <span class=\"js-select-button-text hidden-select-button-text\">\\n',\n",
       " '                      <svg aria-hidden=\"true\" class=\"octicon octicon-mute\" height=\"16\" version=\"1.1\" viewBox=\"0 0 16 16\" width=\"16\"><path fill-rule=\"evenodd\" d=\"M8 2.81v10.38c0 .67-.81 1-1.28.53L3 10H1c-.55 0-1-.45-1-1V7c0-.55.45-1 1-1h2l3.72-3.72C7.19 1.81 8 2.14 8 2.81zm7.53 3.22l-1.06-1.06-1.97 1.97-1.97-1.97-1.06 1.06L11.44 8 9.47 9.97l1.06 1.06 1.97-1.97 1.97 1.97 1.06-1.06L13.56 8l1.97-1.97z\"/></svg>\\n',\n",
       " '                        Stop ignoring\\n',\n",
       " '                    </span>\\n',\n",
       " '                  </div>\\n',\n",
       " '                </div>\\n',\n",
       " '\\n',\n",
       " '              </div>\\n',\n",
       " '\\n',\n",
       " '            </div>\\n',\n",
       " '          </div>\\n',\n",
       " '        </div>\\n',\n",
       " '</form>\\n',\n",
       " '  </li>\\n',\n",
       " '\\n',\n",
       " '  <li>\\n',\n",
       " '    \\n',\n",
       " '  <div class=\"js-toggler-container js-social-container starring-container \">\\n',\n",
       " '    <!-- \\'\"` --><!-- </textarea></xmp> --></option></form><form accept-charset=\"UTF-8\" action=\"/shivamms/Complete-Python-Bootcamp/unstar\" class=\"starred js-social-form\" method=\"post\"><div style=\"margin:0;padding:0;display:inline\"><input name=\"utf8\" type=\"hidden\" value=\"&#x2713;\" /><input name=\"authenticity_token\" type=\"hidden\" value=\"MRCPoigRjV1KUcVm70Z4eVXl2ZNbWE6PUQOf6uLdqOz792UnDtMHldwVQ52eDOto1DbIcNoy9hx5u/ep4xOn+A==\" /></div>\\n',\n",
       " '      <input type=\"hidden\" name=\"context\" value=\"repository\"></input>\\n',\n",
       " '      <button\\n',\n",
       " '        type=\"submit\"\\n',\n",
       " '        class=\"btn btn-sm btn-with-count js-toggler-target\"\\n',\n",
       " '        aria-label=\"Unstar this repository\" title=\"Unstar shivamms/Complete-Python-Bootcamp\"\\n',\n",
       " '        data-ga-click=\"Repository, click unstar button, action:blob#show; text:Unstar\">\\n',\n",
       " '        <svg aria-hidden=\"true\" class=\"octicon octicon-star\" height=\"16\" version=\"1.1\" viewBox=\"0 0 14 16\" width=\"14\"><path fill-rule=\"evenodd\" d=\"M14 6l-4.9-.64L7 1 4.9 5.36 0 6l3.6 3.26L2.67 14 7 11.67 11.33 14l-.93-4.74z\"/></svg>\\n',\n",
       " '        Unstar\\n',\n",
       " '      </button>\\n',\n",
       " '        <a class=\"social-count js-social-count\" href=\"/shivamms/Complete-Python-Bootcamp/stargazers\"\\n',\n",
       " '           aria-label=\"0 users starred this repository\">\\n',\n",
       " '          0\\n',\n",
       " '        </a>\\n',\n",
       " '</form>\\n',\n",
       " '    <!-- \\'\"` --><!-- </textarea></xmp> --></option></form><form accept-charset=\"UTF-8\" action=\"/shivamms/Complete-Python-Bootcamp/star\" class=\"unstarred js-social-form\" method=\"post\"><div style=\"margin:0;padding:0;display:inline\"><input name=\"utf8\" type=\"hidden\" value=\"&#x2713;\" /><input name=\"authenticity_token\" type=\"hidden\" value=\"DAt+C/5HreR+cQpXJ/TcZxIhzQr44a2+wpVNVTLQ41o8HjPb1VaBpDJlZxlg2QzSD7C9/2cgFhz895vf2Bka6Q==\" /></div>\\n',\n",
       " '      <input type=\"hidden\" name=\"context\" value=\"repository\"></input>\\n',\n",
       " '      <button\\n',\n",
       " '        type=\"submit\"\\n',\n",
       " '        class=\"btn btn-sm btn-with-count js-toggler-target\"\\n',\n",
       " '        aria-label=\"Star this repository\" title=\"Star shivamms/Complete-Python-Bootcamp\"\\n',\n",
       " '        data-ga-click=\"Repository, click star button, action:blob#show; text:Star\">\\n',\n",
       " '        <svg aria-hidden=\"true\" class=\"octicon octicon-star\" height=\"16\" version=\"1.1\" viewBox=\"0 0 14 16\" width=\"14\"><path fill-rule=\"evenodd\" d=\"M14 6l-4.9-.64L7 1 4.9 5.36 0 6l3.6 3.26L2.67 14 7 11.67 11.33 14l-.93-4.74z\"/></svg>\\n',\n",
       " '        Star\\n',\n",
       " '      </button>\\n',\n",
       " '        <a class=\"social-count js-social-count\" href=\"/shivamms/Complete-Python-Bootcamp/stargazers\"\\n',\n",
       " '           aria-label=\"0 users starred this repository\">\\n',\n",
       " '          0\\n',\n",
       " '        </a>\\n',\n",
       " '</form>  </div>\\n',\n",
       " '\\n',\n",
       " '  </li>\\n',\n",
       " '\\n',\n",
       " '  <li>\\n',\n",
       " '          <!-- \\'\"` --><!-- </textarea></xmp> --></option></form><form accept-charset=\"UTF-8\" action=\"/shivamms/Complete-Python-Bootcamp/fork\" class=\"btn-with-count\" method=\"post\"><div style=\"margin:0;padding:0;display:inline\"><input name=\"utf8\" type=\"hidden\" value=\"&#x2713;\" /><input name=\"authenticity_token\" type=\"hidden\" value=\"ooVIFlZbdU63ef9EdBC5Fu6ffU0DDaCNdk6Jcvsd+2Iwz12JEQBXkP+2Kcf6TEol7Eg9eWJfnGFbEaRhwsxoCA==\" /></div>\\n',\n",
       " '            <button\\n',\n",
       " '                type=\"submit\"\\n',\n",
       " '                class=\"btn btn-sm btn-with-count\"\\n',\n",
       " '                data-ga-click=\"Repository, show fork modal, action:blob#show; text:Fork\"\\n',\n",
       " '                title=\"Fork your own copy of shivamms/Complete-Python-Bootcamp to your account\"\\n',\n",
       " '                aria-label=\"Fork your own copy of shivamms/Complete-Python-Bootcamp to your account\">\\n',\n",
       " '              <svg aria-hidden=\"true\" class=\"octicon octicon-repo-forked\" height=\"16\" version=\"1.1\" viewBox=\"0 0 10 16\" width=\"10\"><path fill-rule=\"evenodd\" d=\"M8 1a1.993 1.993 0 0 0-1 3.72V6L5 8 3 6V4.72A1.993 1.993 0 0 0 2 1a1.993 1.993 0 0 0-1 3.72V6.5l3 3v1.78A1.993 1.993 0 0 0 5 15a1.993 1.993 0 0 0 1-3.72V9.5l3-3V4.72A1.993 1.993 0 0 0 8 1zM2 4.2C1.34 4.2.8 3.65.8 3c0-.65.55-1.2 1.2-1.2.65 0 1.2.55 1.2 1.2 0 .65-.55 1.2-1.2 1.2zm3 10c-.66 0-1.2-.55-1.2-1.2 0-.65.55-1.2 1.2-1.2.65 0 1.2.55 1.2 1.2 0 .65-.55 1.2-1.2 1.2zm3-10c-.66 0-1.2-.55-1.2-1.2 0-.65.55-1.2 1.2-1.2.65 0 1.2.55 1.2 1.2 0 .65-.55 1.2-1.2 1.2z\"/></svg>\\n',\n",
       " '              Fork\\n',\n",
       " '            </button>\\n',\n",
       " '</form>\\n',\n",
       " '    <a href=\"/shivamms/Complete-Python-Bootcamp/network\" class=\"social-count\"\\n',\n",
       " '       aria-label=\"1214 users forked this repository\">\\n',\n",
       " '      1,214\\n',\n",
       " '    </a>\\n',\n",
       " '  </li>\\n',\n",
       " '</ul>\\n',\n",
       " '\\n',\n",
       " '      <h1 class=\"public \">\\n',\n",
       " '  <svg aria-hidden=\"true\" class=\"octicon octicon-repo-forked\" height=\"16\" version=\"1.1\" viewBox=\"0 0 10 16\" width=\"10\"><path fill-rule=\"evenodd\" d=\"M8 1a1.993 1.993 0 0 0-1 3.72V6L5 8 3 6V4.72A1.993 1.993 0 0 0 2 1a1.993 1.993 0 0 0-1 3.72V6.5l3 3v1.78A1.993 1.993 0 0 0 5 15a1.993 1.993 0 0 0 1-3.72V9.5l3-3V4.72A1.993 1.993 0 0 0 8 1zM2 4.2C1.34 4.2.8 3.65.8 3c0-.65.55-1.2 1.2-1.2.65 0 1.2.55 1.2 1.2 0 .65-.55 1.2-1.2 1.2zm3 10c-.66 0-1.2-.55-1.2-1.2 0-.65.55-1.2 1.2-1.2.65 0 1.2.55 1.2 1.2 0 .65-.55 1.2-1.2 1.2zm3-10c-.66 0-1.2-.55-1.2-1.2 0-.65.55-1.2 1.2-1.2.65 0 1.2.55 1.2 1.2 0 .65-.55 1.2-1.2 1.2z\"/></svg>\\n',\n",
       " '  <span class=\"author\" itemprop=\"author\"><a href=\"/shivamms\" class=\"url fn\" rel=\"author\">shivamms</a></span><!--\\n',\n",
       " '--><span class=\"path-divider\">/</span><!--\\n',\n",
       " '--><strong itemprop=\"name\"><a href=\"/shivamms/Complete-Python-Bootcamp\" data-pjax=\"#js-repo-pjax-container\">Complete-Python-Bootcamp</a></strong>\\n',\n",
       " '\\n',\n",
       " '    <span class=\"fork-flag\">\\n',\n",
       " '      <span class=\"text\">forked from <a href=\"/jmportilla/Complete-Python-Bootcamp\">jmportilla/Complete-Python-Bootcamp</a></span>\\n',\n",
       " '    </span>\\n',\n",
       " '</h1>\\n',\n",
       " '\\n',\n",
       " '    </div>\\n',\n",
       " '    \\n',\n",
       " '<nav class=\"reponav js-repo-nav js-sidenav-container-pjax container\"\\n',\n",
       " '     itemscope\\n',\n",
       " '     itemtype=\"http://schema.org/BreadcrumbList\"\\n',\n",
       " '     role=\"navigation\"\\n',\n",
       " '     data-pjax=\"#js-repo-pjax-container\">\\n',\n",
       " '\\n',\n",
       " '  <span itemscope itemtype=\"http://schema.org/ListItem\" itemprop=\"itemListElement\">\\n',\n",
       " '    <a href=\"/shivamms/Complete-Python-Bootcamp\" class=\"js-selected-navigation-item selected reponav-item\" data-hotkey=\"g c\" data-selected-links=\"repo_source repo_downloads repo_commits repo_releases repo_tags repo_branches repo_packages /shivamms/Complete-Python-Bootcamp\" itemprop=\"url\">\\n',\n",
       " '      <svg aria-hidden=\"true\" class=\"octicon octicon-code\" height=\"16\" version=\"1.1\" viewBox=\"0 0 14 16\" width=\"14\"><path fill-rule=\"evenodd\" d=\"M9.5 3L8 4.5 11.5 8 8 11.5 9.5 13 14 8 9.5 3zm-5 0L0 8l4.5 5L6 11.5 2.5 8 6 4.5 4.5 3z\"/></svg>\\n',\n",
       " '      <span itemprop=\"name\">Code</span>\\n',\n",
       " '      <meta itemprop=\"position\" content=\"1\">\\n',\n",
       " '</a>  </span>\\n',\n",
       " '\\n',\n",
       " '\\n',\n",
       " '  <span itemscope itemtype=\"http://schema.org/ListItem\" itemprop=\"itemListElement\">\\n',\n",
       " '    <a href=\"/shivamms/Complete-Python-Bootcamp/pulls\" class=\"js-selected-navigation-item reponav-item\" data-hotkey=\"g p\" data-selected-links=\"repo_pulls /shivamms/Complete-Python-Bootcamp/pulls\" itemprop=\"url\">\\n',\n",
       " '      <svg aria-hidden=\"true\" class=\"octicon octicon-git-pull-request\" height=\"16\" version=\"1.1\" viewBox=\"0 0 12 16\" width=\"12\"><path fill-rule=\"evenodd\" d=\"M11 11.28V5c-.03-.78-.34-1.47-.94-2.06C9.46 2.35 8.78 2.03 8 2H7V0L4 3l3 3V4h1c.27.02.48.11.69.31.21.2.3.42.31.69v6.28A1.993 1.993 0 0 0 10 15a1.993 1.993 0 0 0 1-3.72zm-1 2.92c-.66 0-1.2-.55-1.2-1.2 0-.65.55-1.2 1.2-1.2.65 0 1.2.55 1.2 1.2 0 .65-.55 1.2-1.2 1.2zM4 3c0-1.11-.89-2-2-2a1.993 1.993 0 0 0-1 3.72v6.56A1.993 1.993 0 0 0 2 15a1.993 1.993 0 0 0 1-3.72V4.72c.59-.34 1-.98 1-1.72zm-.8 10c0 .66-.55 1.2-1.2 1.2-.65 0-1.2-.55-1.2-1.2 0-.65.55-1.2 1.2-1.2.65 0 1.2.55 1.2 1.2zM2 4.2C1.34 4.2.8 3.65.8 3c0-.65.55-1.2 1.2-1.2.65 0 1.2.55 1.2 1.2 0 .65-.55 1.2-1.2 1.2z\"/></svg>\\n',\n",
       " '      <span itemprop=\"name\">Pull requests</span>\\n',\n",
       " '      <span class=\"Counter\">0</span>\\n',\n",
       " '      <meta itemprop=\"position\" content=\"3\">\\n',\n",
       " '</a>  </span>\\n',\n",
       " '\\n',\n",
       " '    <a href=\"/shivamms/Complete-Python-Bootcamp/projects\" class=\"js-selected-navigation-item reponav-item\" data-hotkey=\"g b\" data-selected-links=\"repo_projects new_repo_project repo_project /shivamms/Complete-Python-Bootcamp/projects\">\\n',\n",
       " '      <svg aria-hidden=\"true\" class=\"octicon octicon-project\" height=\"16\" version=\"1.1\" viewBox=\"0 0 15 16\" width=\"15\"><path fill-rule=\"evenodd\" d=\"M10 12h3V2h-3v10zm-4-2h3V2H6v8zm-4 4h3V2H2v12zm-1 1h13V1H1v14zM14 0H1a1 1 0 0 0-1 1v14a1 1 0 0 0 1 1h13a1 1 0 0 0 1-1V1a1 1 0 0 0-1-1z\"/></svg>\\n',\n",
       " '      Projects\\n',\n",
       " '      <span class=\"Counter\" >0</span>\\n',\n",
       " '</a>\\n',\n",
       " '    <a href=\"/shivamms/Complete-Python-Bootcamp/wiki\" class=\"js-selected-navigation-item reponav-item\" data-hotkey=\"g w\" data-selected-links=\"repo_wiki /shivamms/Complete-Python-Bootcamp/wiki\">\\n',\n",
       " '      <svg aria-hidden=\"true\" class=\"octicon octicon-book\" height=\"16\" version=\"1.1\" viewBox=\"0 0 16 16\" width=\"16\"><path fill-rule=\"evenodd\" d=\"M3 5h4v1H3V5zm0 3h4V7H3v1zm0 2h4V9H3v1zm11-5h-4v1h4V5zm0 2h-4v1h4V7zm0 2h-4v1h4V9zm2-6v9c0 .55-.45 1-1 1H9.5l-1 1-1-1H2c-.55 0-1-.45-1-1V3c0-.55.45-1 1-1h5.5l1 1 1-1H15c.55 0 1 .45 1 1zm-8 .5L7.5 3H2v9h6V3.5zm7-.5H9.5l-.5.5V12h6V3z\"/></svg>\\n',\n",
       " '      Wiki\\n',\n",
       " '</a>\\n',\n",
       " '\\n',\n",
       " '  <a href=\"/shivamms/Complete-Python-Bootcamp/pulse\" class=\"js-selected-navigation-item reponav-item\" data-selected-links=\"repo_graphs repo_contributors dependency_graph pulse /shivamms/Complete-Python-Bootcamp/pulse\">\\n',\n",
       " '    <svg aria-hidden=\"true\" class=\"octicon octicon-graph\" height=\"16\" version=\"1.1\" viewBox=\"0 0 16 16\" width=\"16\"><path fill-rule=\"evenodd\" d=\"M16 14v1H0V0h1v14h15zM5 13H3V8h2v5zm4 0H7V3h2v10zm4 0h-2V6h2v7z\"/></svg>\\n',\n",
       " '    Insights\\n',\n",
       " '</a>\\n',\n",
       " '    <a href=\"/shivamms/Complete-Python-Bootcamp/settings\" class=\"js-selected-navigation-item reponav-item\" data-selected-links=\"repo_settings repo_branch_settings hooks integration_installations repo_keys_settings /shivamms/Complete-Python-Bootcamp/settings\">\\n',\n",
       " '      <svg aria-hidden=\"true\" class=\"octicon octicon-gear\" height=\"16\" version=\"1.1\" viewBox=\"0 0 14 16\" width=\"14\"><path fill-rule=\"evenodd\" d=\"M14 8.77v-1.6l-1.94-.64-.45-1.09.88-1.84-1.13-1.13-1.81.91-1.09-.45-.69-1.92h-1.6l-.63 1.94-1.11.45-1.84-.88-1.13 1.13.91 1.81-.45 1.09L0 7.23v1.59l1.94.64.45 1.09-.88 1.84 1.13 1.13 1.81-.91 1.09.45.69 1.92h1.59l.63-1.94 1.11-.45 1.84.88 1.13-1.13-.92-1.81.47-1.09L14 8.75v.02zM7 11c-1.66 0-3-1.34-3-3s1.34-3 3-3 3 1.34 3 3-1.34 3-3 3z\"/></svg>\\n',\n",
       " '      Settings\\n',\n",
       " '</a>\\n',\n",
       " '</nav>\\n',\n",
       " '\\n',\n",
       " '\\n',\n",
       " '  </div>\\n',\n",
       " '\\n',\n",
       " '<div class=\"container new-discussion-timeline experiment-repo-nav\">\\n',\n",
       " '  <div class=\"repository-content\">\\n',\n",
       " '\\n',\n",
       " '    \\n',\n",
       " '  <a href=\"/shivamms/Complete-Python-Bootcamp/blob/6b5531e8087439a5e3739adabe2ea637d71f0551/test.txt\" class=\"d-none js-permalink-shortcut\" data-hotkey=\"y\">Permalink</a>\\n',\n",
       " '\\n',\n",
       " '  <!-- blob contrib key: blob_contributors:v21:a8a9a2e40f0ef3faf440d4e7a57d4c36 -->\\n',\n",
       " '\\n',\n",
       " '  <div class=\"file-navigation js-zeroclipboard-container\">\\n',\n",
       " '    \\n',\n",
       " '<div class=\"select-menu branch-select-menu js-menu-container js-select-menu float-left\">\\n',\n",
       " '  <button class=\" btn btn-sm select-menu-button js-menu-target css-truncate\" data-hotkey=\"w\"\\n',\n",
       " '    \\n',\n",
       " '    type=\"button\" aria-label=\"Switch branches or tags\" aria-expanded=\"false\" aria-haspopup=\"true\">\\n',\n",
       " '      <i>Branch:</i>\\n',\n",
       " '      <span class=\"js-select-button css-truncate-target\">master</span>\\n',\n",
       " '  </button>\\n',\n",
       " '\\n',\n",
       " '  <div class=\"select-menu-modal-holder js-menu-content js-navigation-container\" data-pjax>\\n',\n",
       " '\\n',\n",
       " '    <div class=\"select-menu-modal\">\\n',\n",
       " '      <div class=\"select-menu-header\">\\n',\n",
       " '        <svg aria-label=\"Close\" class=\"octicon octicon-x js-menu-close\" height=\"16\" role=\"img\" version=\"1.1\" viewBox=\"0 0 12 16\" width=\"12\"><path fill-rule=\"evenodd\" d=\"M7.48 8l3.75 3.75-1.48 1.48L6 9.48l-3.75 3.75-1.48-1.48L4.52 8 .77 4.25l1.48-1.48L6 6.52l3.75-3.75 1.48 1.48z\"/></svg>\\n',\n",
       " '        <span class=\"select-menu-title\">Switch branches/tags</span>\\n',\n",
       " '      </div>\\n',\n",
       " '\\n',\n",
       " '      <div class=\"select-menu-filters\">\\n',\n",
       " '        <div class=\"select-menu-text-filter\">\\n',\n",
       " '          <input type=\"text\" aria-label=\"Find or create a branch…\" id=\"context-commitish-filter-field\" class=\"form-control js-filterable-field js-navigation-enable\" placeholder=\"Find or create a branch…\">\\n',\n",
       " '        </div>\\n',\n",
       " '        <div class=\"select-menu-tabs\">\\n',\n",
       " '          <ul>\\n',\n",
       " '            <li class=\"select-menu-tab\">\\n',\n",
       " '              <a href=\"#\" data-tab-filter=\"branches\" data-filter-placeholder=\"Find or create a branch…\" class=\"js-select-menu-tab\" role=\"tab\">Branches</a>\\n',\n",
       " '            </li>\\n',\n",
       " '            <li class=\"select-menu-tab\">\\n',\n",
       " '              <a href=\"#\" data-tab-filter=\"tags\" data-filter-placeholder=\"Find a tag…\" class=\"js-select-menu-tab\" role=\"tab\">Tags</a>\\n',\n",
       " '            </li>\\n',\n",
       " '          </ul>\\n',\n",
       " '        </div>\\n',\n",
       " '      </div>\\n',\n",
       " '\\n',\n",
       " '      <div class=\"select-menu-list select-menu-tab-bucket js-select-menu-tab-bucket\" data-tab-filter=\"branches\" role=\"menu\">\\n',\n",
       " '\\n',\n",
       " '        <div data-filterable-for=\"context-commitish-filter-field\" data-filterable-type=\"substring\">\\n',\n",
       " '\\n',\n",
       " '\\n',\n",
       " '            <a class=\"select-menu-item js-navigation-item js-navigation-open selected\"\\n',\n",
       " '               href=\"/shivamms/Complete-Python-Bootcamp/blob/master/test.txt\"\\n',\n",
       " '               data-name=\"master\"\\n',\n",
       " '               data-skip-pjax=\"true\"\\n',\n",
       " '               rel=\"nofollow\">\\n',\n",
       " '              <svg aria-hidden=\"true\" class=\"octicon octicon-check select-menu-item-icon\" height=\"16\" version=\"1.1\" viewBox=\"0 0 12 16\" width=\"12\"><path fill-rule=\"evenodd\" d=\"M12 5l-8 8-4-4 1.5-1.5L4 10l6.5-6.5z\"/></svg>\\n',\n",
       " '              <span class=\"select-menu-item-text css-truncate-target js-select-menu-filter-text\">\\n',\n",
       " '                master\\n',\n",
       " '              </span>\\n',\n",
       " '            </a>\\n',\n",
       " '        </div>\\n',\n",
       " '\\n',\n",
       " '          <!-- \\'\"` --><!-- </textarea></xmp> --></option></form><form accept-charset=\"UTF-8\" action=\"/shivamms/Complete-Python-Bootcamp/branches\" class=\"js-create-branch select-menu-item select-menu-new-item-form js-navigation-item js-new-item-form\" method=\"post\"><div style=\"margin:0;padding:0;display:inline\"><input name=\"utf8\" type=\"hidden\" value=\"&#x2713;\" /><input name=\"authenticity_token\" type=\"hidden\" value=\"v7gUfBR42hLaPUwbFgwUZetjxGh4+pWp1kh/BtzOWElN1Xm8Pp3n0Y0EhnxiLVp5eAtP7Dc8ttudekg91akNSg==\" /></div>\\n',\n",
       " '          <svg aria-hidden=\"true\" class=\"octicon octicon-git-branch select-menu-item-icon\" height=\"16\" version=\"1.1\" viewBox=\"0 0 10 16\" width=\"10\"><path fill-rule=\"evenodd\" d=\"M10 5c0-1.11-.89-2-2-2a1.993 1.993 0 0 0-1 3.72v.3c-.02.52-.23.98-.63 1.38-.4.4-.86.61-1.38.63-.83.02-1.48.16-2 .45V4.72a1.993 1.993 0 0 0-1-3.72C.88 1 0 1.89 0 3a2 2 0 0 0 1 1.72v6.56c-.59.35-1 .99-1 1.72 0 1.11.89 2 2 2 1.11 0 2-.89 2-2 0-.53-.2-1-.53-1.36.09-.06.48-.41.59-.47.25-.11.56-.17.94-.17 1.05-.05 1.95-.45 2.75-1.25S8.95 7.77 9 6.73h-.02C9.59 6.37 10 5.73 10 5zM2 1.8c.66 0 1.2.55 1.2 1.2 0 .65-.55 1.2-1.2 1.2C1.35 4.2.8 3.65.8 3c0-.65.55-1.2 1.2-1.2zm0 12.41c-.66 0-1.2-.55-1.2-1.2 0-.65.55-1.2 1.2-1.2.65 0 1.2.55 1.2 1.2 0 .65-.55 1.2-1.2 1.2zm6-8c-.66 0-1.2-.55-1.2-1.2 0-.65.55-1.2 1.2-1.2.65 0 1.2.55 1.2 1.2 0 .65-.55 1.2-1.2 1.2z\"/></svg>\\n',\n",
       " '            <div class=\"select-menu-item-text\">\\n',\n",
       " '              <span class=\"select-menu-item-heading\">Create branch: <span class=\"js-new-item-name\"></span></span>\\n',\n",
       " '              <span class=\"description\">from ‘master’</span>\\n',\n",
       " '            </div>\\n',\n",
       " '            <input type=\"hidden\" name=\"name\" id=\"name\" class=\"js-new-item-value\">\\n',\n",
       " '            <input type=\"hidden\" name=\"branch\" id=\"branch\" value=\"master\">\\n',\n",
       " '            <input type=\"hidden\" name=\"path\" id=\"path\" value=\"test.txt\">\\n',\n",
       " '</form>\\n',\n",
       " '      </div>\\n',\n",
       " '\\n',\n",
       " '      <div class=\"select-menu-list select-menu-tab-bucket js-select-menu-tab-bucket\" data-tab-filter=\"tags\">\\n',\n",
       " '        <div data-filterable-for=\"context-commitish-filter-field\" data-filterable-type=\"substring\">\\n',\n",
       " '\\n',\n",
       " '\\n',\n",
       " '        </div>\\n',\n",
       " '\\n',\n",
       " '        <div class=\"select-menu-no-results\">Nothing to show</div>\\n',\n",
       " '      </div>\\n',\n",
       " '\\n',\n",
       " '    </div>\\n',\n",
       " '  </div>\\n',\n",
       " '</div>\\n',\n",
       " '\\n',\n",
       " '    <div class=\"BtnGroup float-right\">\\n',\n",
       " '      <a href=\"/shivamms/Complete-Python-Bootcamp/find/master\"\\n',\n",
       " '            class=\"js-pjax-capture-input btn btn-sm BtnGroup-item\"\\n',\n",
       " '            data-pjax\\n',\n",
       " '            data-hotkey=\"t\">\\n',\n",
       " '        Find file\\n',\n",
       " '      </a>\\n',\n",
       " '      <button aria-label=\"Copy file path to clipboard\" class=\"js-zeroclipboard btn btn-sm BtnGroup-item tooltipped tooltipped-s\" data-copied-hint=\"Copied!\" type=\"button\">Copy path</button>\\n',\n",
       " '    </div>\\n',\n",
       " '    <div class=\"breadcrumb js-zeroclipboard-target\">\\n',\n",
       " '      <span class=\"repo-root js-repo-root\"><span class=\"js-path-segment\"><a href=\"/shivamms/Complete-Python-Bootcamp\"><span>Complete-Python-Bootcamp</span></a></span></span><span class=\"separator\">/</span><strong class=\"final-path\">test.txt</strong>\\n',\n",
       " '    </div>\\n',\n",
       " '  </div>\\n',\n",
       " '\\n',\n",
       " '\\n',\n",
       " '  \\n',\n",
       " '  <div class=\"commit-tease\">\\n',\n",
       " '      <span class=\"float-right\">\\n',\n",
       " '        <a class=\"commit-tease-sha\" href=\"/shivamms/Complete-Python-Bootcamp/commit/43df8ea435fb00ee6580deaa7da0f1cad0d9ffde\" data-pjax>\\n',\n",
       " '          43df8ea\\n',\n",
       " '        </a>\\n',\n",
       " '        <relative-time datetime=\"2015-09-08T16:01:01Z\">Sep 8, 2015</relative-time>\\n',\n",
       " '      </span>\\n',\n",
       " '      <div>\\n',\n",
       " '        <img alt=\"@jmportilla\" class=\"avatar\" height=\"20\" src=\"https://avatars0.githubusercontent.com/u/8271660?s=40&amp;v=4\" width=\"20\" />\\n',\n",
       " '        <a href=\"/jmportilla\" class=\"user-mention\" rel=\"contributor\">jmportilla</a>\\n',\n",
       " '          <a href=\"/shivamms/Complete-Python-Bootcamp/commit/43df8ea435fb00ee6580deaa7da0f1cad0d9ffde\" class=\"message\" data-pjax=\"true\" title=\"updtae\">updtae</a>\\n',\n",
       " '      </div>\\n',\n",
       " '\\n',\n",
       " '    <div class=\"commit-tease-contributors\">\\n',\n",
       " '      <button type=\"button\" class=\"btn-link muted-link contributors-toggle\" data-facebox=\"#blob_contributors_box\">\\n',\n",
       " '        <strong>1</strong>\\n',\n",
       " '         contributor\\n',\n",
       " '      </button>\\n',\n",
       " '      \\n',\n",
       " '    </div>\\n',\n",
       " '\\n',\n",
       " '    <div id=\"blob_contributors_box\" style=\"display:none\">\\n',\n",
       " '      <h2 class=\"facebox-header\" data-facebox-id=\"facebox-header\">Users who have contributed to this file</h2>\\n',\n",
       " '      <ul class=\"facebox-user-list\" data-facebox-id=\"facebox-description\">\\n',\n",
       " '          <li class=\"facebox-user-list-item\">\\n',\n",
       " '            <img alt=\"@jmportilla\" height=\"24\" src=\"https://avatars1.githubusercontent.com/u/8271660?s=48&amp;v=4\" width=\"24\" />\\n',\n",
       " '            <a href=\"/jmportilla\">jmportilla</a>\\n',\n",
       " '          </li>\\n',\n",
       " '      </ul>\\n',\n",
       " '    </div>\\n',\n",
       " '  </div>\\n',\n",
       " '\\n',\n",
       " '\\n',\n",
       " '  <div class=\"file\">\\n',\n",
       " '    <div class=\"file-header\">\\n',\n",
       " '  <div class=\"file-actions\">\\n',\n",
       " '\\n',\n",
       " '    <div class=\"BtnGroup\">\\n',\n",
       " '      <a href=\"/shivamms/Complete-Python-Bootcamp/raw/master/test.txt\" class=\"btn btn-sm BtnGroup-item\" id=\"raw-url\">Raw</a>\\n',\n",
       " '        <a href=\"/shivamms/Complete-Python-Bootcamp/blame/master/test.txt\" class=\"btn btn-sm js-update-url-with-hash BtnGroup-item\" data-hotkey=\"b\">Blame</a>\\n',\n",
       " '      <a href=\"/shivamms/Complete-Python-Bootcamp/commits/master/test.txt\" class=\"btn btn-sm BtnGroup-item\" rel=\"nofollow\">History</a>\\n',\n",
       " '    </div>\\n',\n",
       " '\\n',\n",
       " '\\n',\n",
       " '        <!-- \\'\"` --><!-- </textarea></xmp> --></option></form><form accept-charset=\"UTF-8\" action=\"/shivamms/Complete-Python-Bootcamp/edit/master/test.txt\" class=\"inline-form js-update-url-with-hash\" method=\"post\"><div style=\"margin:0;padding:0;display:inline\"><input name=\"utf8\" type=\"hidden\" value=\"&#x2713;\" /><input name=\"authenticity_token\" type=\"hidden\" value=\"SCtCqrbpTo17MD0q9z4nosbNpHreyMyb8i8fjcj7XGhakKSzmACEyJ04ojijj9U+PU2InXuVzFtu9jnKFfmsgQ==\" /></div>\\n',\n",
       " '          <button class=\"btn-octicon tooltipped tooltipped-nw\" type=\"submit\"\\n',\n",
       " '            aria-label=\"Edit this file\" data-hotkey=\"e\" data-disable-with>\\n',\n",
       " '            <svg aria-hidden=\"true\" class=\"octicon octicon-pencil\" height=\"16\" version=\"1.1\" viewBox=\"0 0 14 16\" width=\"14\"><path fill-rule=\"evenodd\" d=\"M0 12v3h3l8-8-3-3-8 8zm3 2H1v-2h1v1h1v1zm10.3-9.3L12 6 9 3l1.3-1.3a.996.996 0 0 1 1.41 0l1.59 1.59c.39.39.39 1.02 0 1.41z\"/></svg>\\n',\n",
       " '          </button>\\n',\n",
       " '</form>        <!-- \\'\"` --><!-- </textarea></xmp> --></option></form><form accept-charset=\"UTF-8\" action=\"/shivamms/Complete-Python-Bootcamp/delete/master/test.txt\" class=\"inline-form\" method=\"post\"><div style=\"margin:0;padding:0;display:inline\"><input name=\"utf8\" type=\"hidden\" value=\"&#x2713;\" /><input name=\"authenticity_token\" type=\"hidden\" value=\"AlF91i6s0ENc69hRt54EEU2wxhC6Pa5TjIp8d18Wt2f4hIvlhVrC+oovW87e9PhqO9Emrpa2DYffpqnAhM3d9A==\" /></div>\\n',\n",
       " '          <button class=\"btn-octicon btn-octicon-danger tooltipped tooltipped-nw\" type=\"submit\"\\n',\n",
       " '            aria-label=\"Delete this file\" data-disable-with>\\n',\n",
       " '            <svg aria-hidden=\"true\" class=\"octicon octicon-trashcan\" height=\"16\" version=\"1.1\" viewBox=\"0 0 12 16\" width=\"12\"><path fill-rule=\"evenodd\" d=\"M11 2H9c0-.55-.45-1-1-1H5c-.55 0-1 .45-1 1H2c-.55 0-1 .45-1 1v1c0 .55.45 1 1 1v9c0 .55.45 1 1 1h7c.55 0 1-.45 1-1V5c.55 0 1-.45 1-1V3c0-.55-.45-1-1-1zm-1 12H3V5h1v8h1V5h1v8h1V5h1v8h1V5h1v9zm1-10H2V3h9v1z\"/></svg>\\n',\n",
       " '          </button>\\n',\n",
       " '</form>  </div>\\n',\n",
       " '\\n',\n",
       " '  <div class=\"file-info\">\\n',\n",
       " '      1 lines (1 sloc)\\n',\n",
       " '      <span class=\"file-info-divider\"></span>\\n',\n",
       " '    22 Bytes\\n',\n",
       " '  </div>\\n',\n",
       " '</div>\\n',\n",
       " '\\n',\n",
       " '    \\n',\n",
       " '\\n',\n",
       " '  <div itemprop=\"text\" class=\"blob-wrapper data type-text\">\\n',\n",
       " '      <table class=\"highlight tab-size js-file-line-container\" data-tab-size=\"8\">\\n',\n",
       " '      <tr>\\n',\n",
       " '        <td id=\"L1\" class=\"blob-num js-line-number\" data-line-number=\"1\"></td>\\n',\n",
       " '        <td id=\"LC1\" class=\"blob-code blob-code-inner js-file-line\">This is a new lineLine</td>\\n',\n",
       " '      </tr>\\n',\n",
       " '</table>\\n',\n",
       " '\\n',\n",
       " '  <div class=\"BlobToolbar position-absolute js-file-line-actions dropdown js-menu-container js-select-menu d-none\" aria-hidden=\"true\">\\n',\n",
       " '    <button class=\"btn-octicon ml-0 px-2 p-0 bg-white border border-gray-dark rounded-1 dropdown-toggle js-menu-target\" id=\"js-file-line-action-button\" type=\"button\" aria-expanded=\"false\" aria-haspopup=\"true\" aria-label=\"Inline file action toolbar\" aria-controls=\"inline-file-actions\">\\n',\n",
       " '      <svg aria-hidden=\"true\" class=\"octicon octicon-kebab-horizontal\" height=\"16\" version=\"1.1\" viewBox=\"0 0 13 16\" width=\"13\"><path fill-rule=\"evenodd\" d=\"M1.5 9a1.5 1.5 0 1 1 0-3 1.5 1.5 0 0 1 0 3zm5 0a1.5 1.5 0 1 1 0-3 1.5 1.5 0 0 1 0 3zm5 0a1.5 1.5 0 1 1 0-3 1.5 1.5 0 0 1 0 3z\"/></svg>\\n',\n",
       " '    </button>\\n',\n",
       " '    <div class=\"dropdown-menu-content js-menu-content\" id=\"inline-file-actions\">\\n',\n",
       " '      <ul class=\"BlobToolbar-dropdown dropdown-menu dropdown-menu-se mt-2\">\\n',\n",
       " '        <li><a class=\"js-zeroclipboard dropdown-item\" style=\"cursor:pointer;\" id=\"js-copy-lines\" data-original-text=\"Copy lines\">Copy lines</a></li>\\n',\n",
       " '        <li><a class=\"js-zeroclipboard dropdown-item\" id= \"js-copy-permalink\" style=\"cursor:pointer;\" data-original-text=\"Copy permalink\">Copy permalink</a></li>\\n',\n",
       " '        <li><a href=\"/shivamms/Complete-Python-Bootcamp/blame/6b5531e8087439a5e3739adabe2ea637d71f0551/test.txt\" class=\"dropdown-item js-update-url-with-hash\" id=\"js-view-git-blame\">View git blame</a></li>\\n',\n",
       " '      </ul>\\n',\n",
       " '    </div>\\n',\n",
       " '  </div>\\n',\n",
       " '\\n',\n",
       " '  </div>\\n',\n",
       " '\\n',\n",
       " '  </div>\\n',\n",
       " '\\n',\n",
       " '  <button type=\"button\" data-facebox=\"#jump-to-line\" data-facebox-class=\"linejump\" data-hotkey=\"l\" class=\"d-none\">Jump to Line</button>\\n',\n",
       " '  <div id=\"jump-to-line\" style=\"display:none\">\\n',\n",
       " '    <!-- \\'\"` --><!-- </textarea></xmp> --></option></form><form accept-charset=\"UTF-8\" action=\"\" class=\"js-jump-to-line-form\" method=\"get\"><div style=\"margin:0;padding:0;display:inline\"><input name=\"utf8\" type=\"hidden\" value=\"&#x2713;\" /></div>\\n',\n",
       " '      <input class=\"form-control linejump-input js-jump-to-line-field\" type=\"text\" placeholder=\"Jump to line&hellip;\" aria-label=\"Jump to line\" autofocus>\\n',\n",
       " '      <button type=\"submit\" class=\"btn\">Go</button>\\n',\n",
       " '</form>  </div>\\n',\n",
       " '\\n',\n",
       " '\\n',\n",
       " '  </div>\\n',\n",
       " '  <div class=\"modal-backdrop js-touch-events\"></div>\\n',\n",
       " '</div>\\n',\n",
       " '\\n',\n",
       " '    </div>\\n',\n",
       " '  </div>\\n',\n",
       " '\\n',\n",
       " '  </div>\\n',\n",
       " '\\n',\n",
       " '      \\n',\n",
       " '<div class=\"footer container-lg px-3\" role=\"contentinfo\">\\n',\n",
       " '  <div class=\"position-relative d-flex flex-justify-between py-6 mt-6 f6 text-gray border-top border-gray-light \">\\n',\n",
       " '    <ul class=\"list-style-none d-flex flex-wrap \">\\n',\n",
       " '      <li class=\"mr-3\">&copy; 2017 <span title=\"0.13357s from unicorn-2720407843-9hbns\">GitHub</span>, Inc.</li>\\n',\n",
       " '        <li class=\"mr-3\"><a href=\"https://github.com/site/terms\" data-ga-click=\"Footer, go to terms, text:terms\">Terms</a></li>\\n',\n",
       " '        <li class=\"mr-3\"><a href=\"https://github.com/site/privacy\" data-ga-click=\"Footer, go to privacy, text:privacy\">Privacy</a></li>\\n',\n",
       " '        <li class=\"mr-3\"><a href=\"https://github.com/security\" data-ga-click=\"Footer, go to security, text:security\">Security</a></li>\\n',\n",
       " '        <li class=\"mr-3\"><a href=\"https://status.github.com/\" data-ga-click=\"Footer, go to status, text:status\">Status</a></li>\\n',\n",
       " '        <li><a href=\"https://help.github.com\" data-ga-click=\"Footer, go to help, text:help\">Help</a></li>\\n',\n",
       " '    </ul>\\n',\n",
       " '\\n',\n",
       " '    <a href=\"https://github.com\" aria-label=\"Homepage\" class=\"footer-octicon\" title=\"GitHub\">\\n',\n",
       " '      <svg aria-hidden=\"true\" class=\"octicon octicon-mark-github\" height=\"24\" version=\"1.1\" viewBox=\"0 0 16 16\" width=\"24\"><path fill-rule=\"evenodd\" d=\"M8 0C3.58 0 0 3.58 0 8c0 3.54 2.29 6.53 5.47 7.59.4.07.55-.17.55-.38 0-.19-.01-.82-.01-1.49-2.01.37-2.53-.49-2.69-.94-.09-.23-.48-.94-.82-1.13-.28-.15-.68-.52-.01-.53.63-.01 1.08.58 1.23.82.72 1.21 1.87.87 2.33.66.07-.52.28-.87.51-1.07-1.78-.2-3.64-.89-3.64-3.95 0-.87.31-1.59.82-2.15-.08-.2-.36-1.02.08-2.12 0 0 .67-.21 2.2.82.64-.18 1.32-.27 2-.27.68 0 1.36.09 2 .27 1.53-1.04 2.2-.82 2.2-.82.44 1.1.16 1.92.08 2.12.51.56.82 1.27.82 2.15 0 3.07-1.87 3.75-3.65 3.95.29.25.54.73.54 1.48 0 1.07-.01 1.93-.01 2.2 0 .21.15.46.55.38A8.013 8.013 0 0 0 16 8c0-4.42-3.58-8-8-8z\"/></svg>\\n',\n",
       " '</a>\\n',\n",
       " '    <ul class=\"list-style-none d-flex flex-wrap \">\\n',\n",
       " '        <li class=\"mr-3\"><a href=\"https://github.com/contact\" data-ga-click=\"Footer, go to contact, text:contact\">Contact GitHub</a></li>\\n',\n",
       " '      <li class=\"mr-3\"><a href=\"https://developer.github.com\" data-ga-click=\"Footer, go to api, text:api\">API</a></li>\\n',\n",
       " '      <li class=\"mr-3\"><a href=\"https://training.github.com\" data-ga-click=\"Footer, go to training, text:training\">Training</a></li>\\n',\n",
       " '      <li class=\"mr-3\"><a href=\"https://shop.github.com\" data-ga-click=\"Footer, go to shop, text:shop\">Shop</a></li>\\n',\n",
       " '        <li class=\"mr-3\"><a href=\"https://github.com/blog\" data-ga-click=\"Footer, go to blog, text:blog\">Blog</a></li>\\n',\n",
       " '        <li><a href=\"https://github.com/about\" data-ga-click=\"Footer, go to about, text:about\">About</a></li>\\n',\n",
       " '\\n',\n",
       " '    </ul>\\n',\n",
       " '  </div>\\n',\n",
       " '</div>\\n',\n",
       " '\\n',\n",
       " '\\n',\n",
       " '\\n',\n",
       " '  <div id=\"ajax-error-message\" class=\"ajax-error-message flash flash-error\">\\n',\n",
       " '    <svg aria-hidden=\"true\" class=\"octicon octicon-alert\" height=\"16\" version=\"1.1\" viewBox=\"0 0 16 16\" width=\"16\"><path fill-rule=\"evenodd\" d=\"M8.865 1.52c-.18-.31-.51-.5-.87-.5s-.69.19-.87.5L.275 13.5c-.18.31-.18.69 0 1 .19.31.52.5.87.5h13.7c.36 0 .69-.19.86-.5.17-.31.18-.69.01-1L8.865 1.52zM8.995 13h-2v-2h2v2zm0-3h-2V6h2v4z\"/></svg>\\n',\n",
       " '    <button type=\"button\" class=\"flash-close js-ajax-error-dismiss\" aria-label=\"Dismiss error\">\\n',\n",
       " '      <svg aria-hidden=\"true\" class=\"octicon octicon-x\" height=\"16\" version=\"1.1\" viewBox=\"0 0 12 16\" width=\"12\"><path fill-rule=\"evenodd\" d=\"M7.48 8l3.75 3.75-1.48 1.48L6 9.48l-3.75 3.75-1.48-1.48L4.52 8 .77 4.25l1.48-1.48L6 6.52l3.75-3.75 1.48 1.48z\"/></svg>\\n',\n",
       " '    </button>\\n',\n",
       " \"    You can't perform that action at this time.\\n\",\n",
       " '  </div>\\n',\n",
       " '\\n',\n",
       " '\\n',\n",
       " '    \\n',\n",
       " '    <script crossorigin=\"anonymous\" integrity=\"sha256-OQfZqtgSuMlBR8iBZctKlpPFfPmfDo4BBT/Hneep2RE=\" src=\"https://assets-cdn.github.com/assets/frameworks-3907d9aad812b8c94147c88165cb4a9693c57cf99f0e8e01053fc79de7a9d911.js\"></script>\\n',\n",
       " '    \\n',\n",
       " '    <script async=\"async\" crossorigin=\"anonymous\" integrity=\"sha256-wbENoh8ZMqQXP8+2BnbirTLlFfeud1Y922WPBM0mNo0=\" src=\"https://assets-cdn.github.com/assets/github-c1b10da21f1932a4173fcfb60676e2ad32e515f7ae77563ddb658f04cd26368d.js\"></script>\\n',\n",
       " '    \\n',\n",
       " '    \\n',\n",
       " '    \\n',\n",
       " '    \\n',\n",
       " '  <div class=\"js-stale-session-flash stale-session-flash flash flash-warn flash-banner d-none\">\\n',\n",
       " '    <svg aria-hidden=\"true\" class=\"octicon octicon-alert\" height=\"16\" version=\"1.1\" viewBox=\"0 0 16 16\" width=\"16\"><path fill-rule=\"evenodd\" d=\"M8.865 1.52c-.18-.31-.51-.5-.87-.5s-.69.19-.87.5L.275 13.5c-.18.31-.18.69 0 1 .19.31.52.5.87.5h13.7c.36 0 .69-.19.86-.5.17-.31.18-.69.01-1L8.865 1.52zM8.995 13h-2v-2h2v2zm0-3h-2V6h2v4z\"/></svg>\\n',\n",
       " '    <span class=\"signed-in-tab-flash\">You signed in with another tab or window. <a href=\"\">Reload</a> to refresh your session.</span>\\n',\n",
       " '    <span class=\"signed-out-tab-flash\">You signed out in another tab or window. <a href=\"\">Reload</a> to refresh your session.</span>\\n',\n",
       " '  </div>\\n',\n",
       " '  <div class=\"facebox\" id=\"facebox\" style=\"display:none;\">\\n',\n",
       " '  <div class=\"facebox-popup\">\\n',\n",
       " '    <div class=\"facebox-content\" role=\"dialog\" aria-labelledby=\"facebox-header\" aria-describedby=\"facebox-description\">\\n',\n",
       " '    </div>\\n',\n",
       " '    <button type=\"button\" class=\"facebox-close js-facebox-close\" aria-label=\"Close modal\">\\n',\n",
       " '      <svg aria-hidden=\"true\" class=\"octicon octicon-x\" height=\"16\" version=\"1.1\" viewBox=\"0 0 12 16\" width=\"12\"><path fill-rule=\"evenodd\" d=\"M7.48 8l3.75 3.75-1.48 1.48L6 9.48l-3.75 3.75-1.48-1.48L4.52 8 .77 4.25l1.48-1.48L6 6.52l3.75-3.75 1.48 1.48z\"/></svg>\\n',\n",
       " '    </button>\\n',\n",
       " '  </div>\\n',\n",
       " '</div>\\n',\n",
       " '\\n',\n",
       " '\\n',\n",
       " '  </body>\\n',\n",
       " '</html>\\n',\n",
       " '\\n']"
      ]
     },
     "execution_count": 113,
     "metadata": {},
     "output_type": "execute_result"
    }
   ],
   "source": [
    "f.readlines()"
   ]
  },
  {
   "cell_type": "code",
   "execution_count": 114,
   "metadata": {},
   "outputs": [
    {
     "data": {
      "text/plain": [
       "''"
      ]
     },
     "execution_count": 114,
     "metadata": {},
     "output_type": "execute_result"
    }
   ],
   "source": [
    "f.read()"
   ]
  },
  {
   "cell_type": "code",
   "execution_count": 115,
   "metadata": {},
   "outputs": [
    {
     "data": {
      "text/plain": [
       "0"
      ]
     },
     "execution_count": 115,
     "metadata": {},
     "output_type": "execute_result"
    }
   ],
   "source": [
    "f.seek(0)"
   ]
  },
  {
   "cell_type": "code",
   "execution_count": 117,
   "metadata": {},
   "outputs": [
    {
     "name": "stdout",
     "output_type": "stream",
     "text": [
      "\n",
      "\n",
      "\n",
      "\n",
      "\n",
      "\n",
      "\n",
      "\n",
      "\n",
      "\n",
      "\n",
      "\n",
      "<!DOCTYPE html>\n",
      "\n",
      "<html lang=\"en\">\n",
      "\n",
      "  <head>\n",
      "\n",
      "    <meta charset=\"utf-8\">\n",
      "\n",
      "  <link rel=\"dns-prefetch\" href=\"https://assets-cdn.github.com\">\n",
      "\n",
      "  <link rel=\"dns-prefetch\" href=\"https://avatars0.githubusercontent.com\">\n",
      "\n",
      "  <link rel=\"dns-prefetch\" href=\"https://avatars1.githubusercontent.com\">\n",
      "\n",
      "  <link rel=\"dns-prefetch\" href=\"https://avatars2.githubusercontent.com\">\n",
      "\n",
      "  <link rel=\"dns-prefetch\" href=\"https://avatars3.githubusercontent.com\">\n",
      "\n",
      "  <link rel=\"dns-prefetch\" href=\"https://github-cloud.s3.amazonaws.com\">\n",
      "\n",
      "  <link rel=\"dns-prefetch\" href=\"https://user-images.githubusercontent.com/\">\n",
      "\n",
      "\n",
      "\n",
      "\n",
      "\n",
      "\n",
      "\n",
      "  <link crossorigin=\"anonymous\" href=\"https://assets-cdn.github.com/assets/frameworks-1c2c316b7a17f15536c6a26ed744654fc228a24658a7ae395cdcbf8329c8406b.css\" integrity=\"sha256-HCwxa3oX8VU2xqJu10RlT8IookZYp645XNy/gynIQGs=\" media=\"all\" rel=\"stylesheet\" />\n",
      "\n",
      "  <link crossorigin=\"anonymous\" href=\"https://assets-cdn.github.com/assets/github-8100b9bf1eb6ed8b38eaad2fe7ba51d1895aa0602aafe4a87068d444e07e8c5c.css\" integrity=\"sha256-gQC5vx627Ys46q0v57pR0YlaoGAqr+SocGjUROB+jFw=\" media=\"all\" rel=\"stylesheet\" />\n",
      "\n",
      "  \n",
      "\n",
      "  \n",
      "\n",
      "  \n",
      "\n",
      "  \n",
      "\n",
      "\n",
      "\n",
      "  <meta name=\"viewport\" content=\"width=device-width\">\n",
      "\n",
      "  \n",
      "\n",
      "  <title>Complete-Python-Bootcamp/test.txt at master · shivamms/Complete-Python-Bootcamp</title>\n",
      "\n",
      "  <link rel=\"search\" type=\"application/opensearchdescription+xml\" href=\"/opensearch.xml\" title=\"GitHub\">\n",
      "\n",
      "  <link rel=\"fluid-icon\" href=\"https://github.com/fluidicon.png\" title=\"GitHub\">\n",
      "\n",
      "  <meta property=\"fb:app_id\" content=\"1401488693436528\">\n",
      "\n",
      "\n",
      "\n",
      "    \n",
      "\n",
      "    <meta content=\"https://avatars3.githubusercontent.com/u/8627753?s=400&amp;v=4\" property=\"og:image\" /><meta content=\"GitHub\" property=\"og:site_name\" /><meta content=\"object\" property=\"og:type\" /><meta content=\"shivamms/Complete-Python-Bootcamp\" property=\"og:title\" /><meta content=\"https://github.com/shivamms/Complete-Python-Bootcamp\" property=\"og:url\" /><meta content=\"Complete-Python-Bootcamp - Lectures for Udemy - Complete Python Bootcamp Course\" property=\"og:description\" />\n",
      "\n",
      "\n",
      "\n",
      "  <link rel=\"assets\" href=\"https://assets-cdn.github.com/\">\n",
      "\n",
      "  <link rel=\"web-socket\" href=\"wss://live.github.com/_sockets/VjI6MjMzODM5OTk3OjBiNWRhMWVjMzBhYTEyMjM0NmU0YjAyNDAxY2ViMWU4MGM5MmQxMjIyOTM4YjQzMzUzYWZlYjQzNmVjZTE5MTk=--b75098f4fd235c7f54580f05bc78646fdac11bdb\">\n",
      "\n",
      "  <meta name=\"pjax-timeout\" content=\"1000\">\n",
      "\n",
      "  <link rel=\"sudo-modal\" href=\"/sessions/sudo_modal\">\n",
      "\n",
      "  <meta name=\"request-id\" content=\"C88A:7EEC:1A7EC:103E3A:5A418F42\" data-pjax-transient>\n",
      "\n",
      "  \n",
      "\n",
      "\n",
      "\n",
      "  <meta name=\"selected-link\" value=\"repo_source\" data-pjax-transient>\n",
      "\n",
      "\n",
      "\n",
      "    <meta name=\"google-site-verification\" content=\"KT5gs8h0wvaagLKAVWq8bbeNwnZZK1r1XQysX3xurLU\">\n",
      "\n",
      "  <meta name=\"google-site-verification\" content=\"ZzhVyEFwb7w3e0-uOTltm8Jsck2F5StVihD0exw2fsA\">\n",
      "\n",
      "  <meta name=\"google-site-verification\" content=\"GXs5KoUUkNCoaAZn7wPN-t01Pywp9M3sEjnt_3_ZWPc\">\n",
      "\n",
      "    <meta name=\"google-analytics\" content=\"UA-3769691-2\">\n",
      "\n",
      "\n",
      "\n",
      "<meta content=\"collector.githubapp.com\" name=\"octolytics-host\" /><meta content=\"github\" name=\"octolytics-app-id\" /><meta content=\"https://collector.githubapp.com/github-external/browser_event\" name=\"octolytics-event-url\" /><meta content=\"C88A:7EEC:1A7EC:103E3A:5A418F42\" name=\"octolytics-dimension-request_id\" /><meta content=\"iad\" name=\"octolytics-dimension-region_edge\" /><meta content=\"iad\" name=\"octolytics-dimension-region_render\" /><meta content=\"8627753\" name=\"octolytics-actor-id\" /><meta content=\"shivamms\" name=\"octolytics-actor-login\" /><meta content=\"d635962351c23dae19499c640066fa9e96fc5f32479a1337c44d8d35f4bbba4e\" name=\"octolytics-actor-hash\" />\n",
      "\n",
      "<meta content=\"/&lt;user-name&gt;/&lt;repo-name&gt;/blob/show\" data-pjax-transient=\"true\" name=\"analytics-location\" />\n",
      "\n",
      "\n",
      "\n",
      "\n",
      "\n",
      "\n",
      "\n",
      "\n",
      "\n",
      "  <meta class=\"js-ga-set\" name=\"dimension1\" content=\"Logged In\">\n",
      "\n",
      "\n",
      "\n",
      "\n",
      "\n",
      "  \n",
      "\n",
      "\n",
      "\n",
      "      <meta name=\"hostname\" content=\"github.com\">\n",
      "\n",
      "  <meta name=\"user-login\" content=\"shivamms\">\n",
      "\n",
      "\n",
      "\n",
      "      <meta name=\"expected-hostname\" content=\"github.com\">\n",
      "\n",
      "    <meta name=\"js-proxy-site-detection-payload\" content=\"NWNkNTc1YWQ3NjhiMTNlNTlkZmE5ZmY3MjI4YTQ3YmQ5MTFhMzFiMGE1NDE1NTQ4NzYzNzMzYzYxYWJhOGYzMHx7InJlbW90ZV9hZGRyZXNzIjoiNzMuMTk0LjguMTgwIiwicmVxdWVzdF9pZCI6IkM4OEE6N0VFQzoxQTdFQzoxMDNFM0E6NUE0MThGNDIiLCJ0aW1lc3RhbXAiOjE1MTQyNDU5NTQsImhvc3QiOiJnaXRodWIuY29tIn0=\">\n",
      "\n",
      "\n",
      "\n",
      "    <meta name=\"enabled-features\" content=\"UNIVERSE_BANNER,FREE_TRIALS\">\n",
      "\n",
      "\n",
      "\n",
      "  <meta name=\"html-safe-nonce\" content=\"5f0738018e38ec8e028bab2686ad737090188220\">\n",
      "\n",
      "\n",
      "\n",
      "  <meta http-equiv=\"x-pjax-version\" content=\"e6dbf537b2eb3990c0cae54500f32daf\">\n",
      "\n",
      "  \n",
      "\n",
      "\n",
      "\n",
      "      <link href=\"https://github.com/shivamms/Complete-Python-Bootcamp/commits/master.atom\" rel=\"alternate\" title=\"Recent Commits to Complete-Python-Bootcamp:master\" type=\"application/atom+xml\">\n",
      "\n",
      "\n",
      "\n",
      "  <meta name=\"description\" content=\"Complete-Python-Bootcamp - Lectures for Udemy - Complete Python Bootcamp Course\">\n",
      "\n",
      "  <meta name=\"go-import\" content=\"github.com/shivamms/Complete-Python-Bootcamp git https://github.com/shivamms/Complete-Python-Bootcamp.git\">\n",
      "\n",
      "\n",
      "\n",
      "  <meta content=\"8627753\" name=\"octolytics-dimension-user_id\" /><meta content=\"shivamms\" name=\"octolytics-dimension-user_login\" /><meta content=\"115369199\" name=\"octolytics-dimension-repository_id\" /><meta content=\"shivamms/Complete-Python-Bootcamp\" name=\"octolytics-dimension-repository_nwo\" /><meta content=\"true\" name=\"octolytics-dimension-repository_public\" /><meta content=\"true\" name=\"octolytics-dimension-repository_is_fork\" /><meta content=\"42013588\" name=\"octolytics-dimension-repository_parent_id\" /><meta content=\"jmportilla/Complete-Python-Bootcamp\" name=\"octolytics-dimension-repository_parent_nwo\" /><meta content=\"42013588\" name=\"octolytics-dimension-repository_network_root_id\" /><meta content=\"jmportilla/Complete-Python-Bootcamp\" name=\"octolytics-dimension-repository_network_root_nwo\" /><meta content=\"true\" name=\"octolytics-dimension-repository_explore_github_marketplace_ci_cta_shown\" />\n",
      "\n",
      "\n",
      "\n",
      "\n",
      "\n",
      "    <link rel=\"canonical\" href=\"https://github.com/shivamms/Complete-Python-Bootcamp/blob/master/test.txt\" data-pjax-transient>\n",
      "\n",
      "\n",
      "\n",
      "\n",
      "\n",
      "  <meta name=\"browser-stats-url\" content=\"https://api.github.com/_private/browser/stats\">\n",
      "\n",
      "\n",
      "\n",
      "  <meta name=\"browser-errors-url\" content=\"https://api.github.com/_private/browser/errors\">\n",
      "\n",
      "\n",
      "\n",
      "  <link rel=\"mask-icon\" href=\"https://assets-cdn.github.com/pinned-octocat.svg\" color=\"#000000\">\n",
      "\n",
      "  <link rel=\"icon\" type=\"image/x-icon\" class=\"js-site-favicon\" href=\"https://assets-cdn.github.com/favicon.ico\">\n",
      "\n",
      "\n",
      "\n",
      "<meta name=\"theme-color\" content=\"#1e2327\">\n",
      "\n",
      "\n",
      "\n",
      "\n",
      "\n",
      "  <meta name=\"u2f-support\" content=\"true\">\n",
      "\n",
      "\n",
      "\n",
      "  </head>\n",
      "\n",
      "\n",
      "\n",
      "  <body class=\"logged-in env-production page-blob\">\n",
      "\n",
      "    \n",
      "\n",
      "\n",
      "\n",
      "  <div class=\"position-relative js-header-wrapper \">\n",
      "\n",
      "    <a href=\"#start-of-content\" tabindex=\"1\" class=\"bg-black text-white p-3 show-on-focus js-skip-to-content\">Skip to content</a>\n",
      "\n",
      "    <div id=\"js-pjax-loader-bar\" class=\"pjax-loader-bar\"><div class=\"progress\"></div></div>\n",
      "\n",
      "\n",
      "\n",
      "    \n",
      "\n",
      "    \n",
      "\n",
      "    \n",
      "\n",
      "      \n",
      "\n",
      "\n",
      "\n",
      "\n",
      "\n",
      "\n",
      "\n",
      "        \n",
      "\n",
      "<header class=\"Header  f5\" role=\"banner\">\n",
      "\n",
      "  <div class=\"d-flex px-3 flex-justify-between container-lg\">\n",
      "\n",
      "    <div class=\"d-flex flex-justify-between\">\n",
      "\n",
      "      <a class=\"header-logo-invertocat\" href=\"https://github.com/\" data-hotkey=\"g d\" aria-label=\"Homepage\" data-ga-click=\"Header, go to dashboard, icon:logo\">\n",
      "\n",
      "  <svg aria-hidden=\"true\" class=\"octicon octicon-mark-github\" height=\"32\" version=\"1.1\" viewBox=\"0 0 16 16\" width=\"32\"><path fill-rule=\"evenodd\" d=\"M8 0C3.58 0 0 3.58 0 8c0 3.54 2.29 6.53 5.47 7.59.4.07.55-.17.55-.38 0-.19-.01-.82-.01-1.49-2.01.37-2.53-.49-2.69-.94-.09-.23-.48-.94-.82-1.13-.28-.15-.68-.52-.01-.53.63-.01 1.08.58 1.23.82.72 1.21 1.87.87 2.33.66.07-.52.28-.87.51-1.07-1.78-.2-3.64-.89-3.64-3.95 0-.87.31-1.59.82-2.15-.08-.2-.36-1.02.08-2.12 0 0 .67-.21 2.2.82.64-.18 1.32-.27 2-.27.68 0 1.36.09 2 .27 1.53-1.04 2.2-.82 2.2-.82.44 1.1.16 1.92.08 2.12.51.56.82 1.27.82 2.15 0 3.07-1.87 3.75-3.65 3.95.29.25.54.73.54 1.48 0 1.07-.01 1.93-.01 2.2 0 .21.15.46.55.38A8.013 8.013 0 0 0 16 8c0-4.42-3.58-8-8-8z\"/></svg>\n",
      "\n",
      "</a>\n",
      "\n",
      "\n",
      "\n",
      "\n",
      "\n",
      "    </div>\n",
      "\n",
      "\n",
      "\n",
      "    <div class=\"HeaderMenu d-flex flex-justify-between flex-auto\">\n",
      "\n",
      "      <div class=\"d-flex\">\n",
      "\n",
      "            <div class=\"\">\n",
      "\n",
      "              <div class=\"header-search scoped-search site-scoped-search js-site-search\" role=\"search\">\n",
      "\n",
      "  <!-- '\"` --><!-- </textarea></xmp> --></option></form><form accept-charset=\"UTF-8\" action=\"/shivamms/Complete-Python-Bootcamp/search\" class=\"js-site-search-form\" data-scoped-search-url=\"/shivamms/Complete-Python-Bootcamp/search\" data-unscoped-search-url=\"/search\" method=\"get\"><div style=\"margin:0;padding:0;display:inline\"><input name=\"utf8\" type=\"hidden\" value=\"&#x2713;\" /></div>\n",
      "\n",
      "    <label class=\"form-control header-search-wrapper js-chromeless-input-container\">\n",
      "\n",
      "        <a href=\"/shivamms/Complete-Python-Bootcamp/blob/master/test.txt\" class=\"header-search-scope no-underline\">This repository</a>\n",
      "\n",
      "      <input type=\"text\"\n",
      "\n",
      "        class=\"form-control header-search-input js-site-search-focus js-site-search-field is-clearable\"\n",
      "\n",
      "        data-hotkey=\"s\"\n",
      "\n",
      "        name=\"q\"\n",
      "\n",
      "        value=\"\"\n",
      "\n",
      "        placeholder=\"Search\"\n",
      "\n",
      "        aria-label=\"Search this repository\"\n",
      "\n",
      "        data-unscoped-placeholder=\"Search GitHub\"\n",
      "\n",
      "        data-scoped-placeholder=\"Search\"\n",
      "\n",
      "        autocapitalize=\"off\">\n",
      "\n",
      "        <input type=\"hidden\" class=\"js-site-search-type-field\" name=\"type\" >\n",
      "\n",
      "    </label>\n",
      "\n",
      "</form></div>\n",
      "\n",
      "\n",
      "\n",
      "            </div>\n",
      "\n",
      "\n",
      "\n",
      "          <ul class=\"d-flex pl-2 flex-items-center text-bold list-style-none\" role=\"navigation\">\n",
      "\n",
      "            <li>\n",
      "\n",
      "              <a href=\"/pulls\" aria-label=\"Pull requests you created\" class=\"js-selected-navigation-item HeaderNavlink px-2\" data-ga-click=\"Header, click, Nav menu - item:pulls context:user\" data-hotkey=\"g p\" data-selected-links=\"/pulls /pulls/assigned /pulls/mentioned /pulls\">\n",
      "\n",
      "                Pull requests\n",
      "\n",
      "</a>            </li>\n",
      "\n",
      "            <li>\n",
      "\n",
      "              <a href=\"/issues\" aria-label=\"Issues you created\" class=\"js-selected-navigation-item HeaderNavlink px-2\" data-ga-click=\"Header, click, Nav menu - item:issues context:user\" data-hotkey=\"g i\" data-selected-links=\"/issues /issues/assigned /issues/mentioned /issues\">\n",
      "\n",
      "                Issues\n",
      "\n",
      "</a>            </li>\n",
      "\n",
      "                <li>\n",
      "\n",
      "                  <a href=\"/marketplace\" class=\"js-selected-navigation-item HeaderNavlink px-2\" data-ga-click=\"Header, click, Nav menu - item:marketplace context:user\" data-selected-links=\" /marketplace\">\n",
      "\n",
      "                    Marketplace\n",
      "\n",
      "</a>                </li>\n",
      "\n",
      "            <li>\n",
      "\n",
      "              <a href=\"/explore\" class=\"js-selected-navigation-item HeaderNavlink px-2\" data-ga-click=\"Header, click, Nav menu - item:explore\" data-selected-links=\"/explore /trending /trending/developers /integrations /integrations/feature/code /integrations/feature/collaborate /integrations/feature/ship showcases showcases_search showcases_landing /explore\">\n",
      "\n",
      "                Explore\n",
      "\n",
      "</a>            </li>\n",
      "\n",
      "          </ul>\n",
      "\n",
      "      </div>\n",
      "\n",
      "\n",
      "\n",
      "      <div class=\"d-flex\">\n",
      "\n",
      "        \n",
      "\n",
      "<ul class=\"user-nav d-flex flex-items-center list-style-none\" id=\"user-links\">\n",
      "\n",
      "  <li class=\"dropdown js-menu-container\">\n",
      "\n",
      "    <span class=\"d-inline-block  px-2\">\n",
      "\n",
      "      \n",
      "\n",
      "    <a href=\"/notifications\" aria-label=\"You have no unread notifications\" class=\"notification-indicator tooltipped tooltipped-s  js-socket-channel js-notification-indicator\" data-channel=\"notification-changed:8627753\" data-ga-click=\"Header, go to notifications, icon:read\" data-hotkey=\"g n\">\n",
      "\n",
      "        <span class=\"mail-status \"></span>\n",
      "\n",
      "        <svg aria-hidden=\"true\" class=\"octicon octicon-bell\" height=\"16\" version=\"1.1\" viewBox=\"0 0 14 16\" width=\"14\"><path fill-rule=\"evenodd\" d=\"M14 12v1H0v-1l.73-.58c.77-.77.81-2.55 1.19-4.42C2.69 3.23 6 2 6 2c0-.55.45-1 1-1s1 .45 1 1c0 0 3.39 1.23 4.16 5 .38 1.88.42 3.66 1.19 4.42l.66.58H14zm-7 4c1.11 0 2-.89 2-2H5c0 1.11.89 2 2 2z\"/></svg>\n",
      "\n",
      "</a>\n",
      "\n",
      "    </span>\n",
      "\n",
      "  </li>\n",
      "\n",
      "\n",
      "\n",
      "  <li class=\"dropdown js-menu-container\">\n",
      "\n",
      "    <details class=\"dropdown-details details-reset js-dropdown-details d-flex px-2 flex-items-center\">\n",
      "\n",
      "      <summary class=\"HeaderNavlink\"\n",
      "\n",
      "         aria-label=\"Create new…\"\n",
      "\n",
      "         data-ga-click=\"Header, create new, icon:add\">\n",
      "\n",
      "        <svg aria-hidden=\"true\" class=\"octicon octicon-plus float-left mr-1 mt-1\" height=\"16\" version=\"1.1\" viewBox=\"0 0 12 16\" width=\"12\"><path fill-rule=\"evenodd\" d=\"M12 9H7v5H5V9H0V7h5V2h2v5h5z\"/></svg>\n",
      "\n",
      "        <span class=\"dropdown-caret mt-1\"></span>\n",
      "\n",
      "      </summary>\n",
      "\n",
      "\n",
      "\n",
      "      <ul class=\"dropdown-menu dropdown-menu-sw\">\n",
      "\n",
      "        \n",
      "\n",
      "<a class=\"dropdown-item\" href=\"/new\" data-ga-click=\"Header, create new repository\">\n",
      "\n",
      "  New repository\n",
      "\n",
      "</a>\n",
      "\n",
      "\n",
      "\n",
      "  <a class=\"dropdown-item\" href=\"/new/import\" data-ga-click=\"Header, import a repository\">\n",
      "\n",
      "    Import repository\n",
      "\n",
      "  </a>\n",
      "\n",
      "\n",
      "\n",
      "<a class=\"dropdown-item\" href=\"https://gist.github.com/\" data-ga-click=\"Header, create new gist\">\n",
      "\n",
      "  New gist\n",
      "\n",
      "</a>\n",
      "\n",
      "\n",
      "\n",
      "  <a class=\"dropdown-item\" href=\"/organizations/new\" data-ga-click=\"Header, create new organization\">\n",
      "\n",
      "    New organization\n",
      "\n",
      "  </a>\n",
      "\n",
      "\n",
      "\n",
      "\n",
      "\n",
      "\n",
      "\n",
      "\n",
      "\n",
      "      </ul>\n",
      "\n",
      "    </details>\n",
      "\n",
      "  </li>\n",
      "\n",
      "\n",
      "\n",
      "  <li class=\"dropdown js-menu-container\">\n",
      "\n",
      "\n",
      "\n",
      "    <details class=\"dropdown-details details-reset js-dropdown-details d-flex pl-2 flex-items-center\">\n",
      "\n",
      "      <summary class=\"HeaderNavlink name mt-1\"\n",
      "\n",
      "        aria-label=\"View profile and more\"\n",
      "\n",
      "        data-ga-click=\"Header, show menu, icon:avatar\">\n",
      "\n",
      "        <img alt=\"@shivamms\" class=\"avatar float-left mr-1\" src=\"https://avatars2.githubusercontent.com/u/8627753?s=40&amp;v=4\" height=\"20\" width=\"20\">\n",
      "\n",
      "        <span class=\"dropdown-caret\"></span>\n",
      "\n",
      "      </summary>\n",
      "\n",
      "\n",
      "\n",
      "      <ul class=\"dropdown-menu dropdown-menu-sw\">\n",
      "\n",
      "        <li class=\"dropdown-header header-nav-current-user css-truncate\">\n",
      "\n",
      "          Signed in as <strong class=\"css-truncate-target\">shivamms</strong>\n",
      "\n",
      "        </li>\n",
      "\n",
      "\n",
      "\n",
      "        <li class=\"dropdown-divider\"></li>\n",
      "\n",
      "\n",
      "\n",
      "        <li><a class=\"dropdown-item\" href=\"/shivamms\" data-ga-click=\"Header, go to profile, text:your profile\">\n",
      "\n",
      "          Your profile\n",
      "\n",
      "        </a></li>\n",
      "\n",
      "        <li><a class=\"dropdown-item\" href=\"/shivamms?tab=stars\" data-ga-click=\"Header, go to starred repos, text:your stars\">\n",
      "\n",
      "          Your stars\n",
      "\n",
      "        </a></li>\n",
      "\n",
      "          <li><a class=\"dropdown-item\" href=\"https://gist.github.com/\" data-ga-click=\"Header, your gists, text:your gists\">Your Gists</a></li>\n",
      "\n",
      "\n",
      "\n",
      "        <li class=\"dropdown-divider\"></li>\n",
      "\n",
      "\n",
      "\n",
      "        <li><a class=\"dropdown-item\" href=\"https://help.github.com\" data-ga-click=\"Header, go to help, text:help\">\n",
      "\n",
      "          Help\n",
      "\n",
      "        </a></li>\n",
      "\n",
      "\n",
      "\n",
      "        <li><a class=\"dropdown-item\" href=\"/settings/profile\" data-ga-click=\"Header, go to settings, icon:settings\">\n",
      "\n",
      "          Settings\n",
      "\n",
      "        </a></li>\n",
      "\n",
      "\n",
      "\n",
      "        <li><!-- '\"` --><!-- </textarea></xmp> --></option></form><form accept-charset=\"UTF-8\" action=\"/logout\" class=\"logout-form\" method=\"post\"><div style=\"margin:0;padding:0;display:inline\"><input name=\"utf8\" type=\"hidden\" value=\"&#x2713;\" /><input name=\"authenticity_token\" type=\"hidden\" value=\"4XxhQRfSDOaqlx4QkEegzoHFHErrrRQmuSCglRbt+xBMcC3JB9YPQAERf1BrfLAIzldFtOeAusI512gzZUkh/g==\" /></div>\n",
      "\n",
      "          <button type=\"submit\" class=\"dropdown-item dropdown-signout\" data-ga-click=\"Header, sign out, icon:logout\">\n",
      "\n",
      "            Sign out\n",
      "\n",
      "          </button>\n",
      "\n",
      "        </form></li>\n",
      "\n",
      "      </ul>\n",
      "\n",
      "    </details>\n",
      "\n",
      "  </li>\n",
      "\n",
      "</ul>\n",
      "\n",
      "\n",
      "\n",
      "\n",
      "\n",
      "        <!-- '\"` --><!-- </textarea></xmp> --></option></form><form accept-charset=\"UTF-8\" action=\"/logout\" class=\"sr-only right-0\" method=\"post\"><div style=\"margin:0;padding:0;display:inline\"><input name=\"utf8\" type=\"hidden\" value=\"&#x2713;\" /><input name=\"authenticity_token\" type=\"hidden\" value=\"vMAzSoH4+Ovzr5NRWfFQU0YSt+E47ubIhaGTQfyGCJQRzH/Ckfz7TVgp8hGiykCVCYDuHzTDSCwFVlvnjyLSeg==\" /></div>\n",
      "\n",
      "          <button type=\"submit\" class=\"dropdown-item dropdown-signout\" data-ga-click=\"Header, sign out, icon:logout\">\n",
      "\n",
      "            Sign out\n",
      "\n",
      "          </button>\n",
      "\n",
      "</form>      </div>\n",
      "\n",
      "    </div>\n",
      "\n",
      "  </div>\n",
      "\n",
      "</header>\n",
      "\n",
      "\n",
      "\n",
      "\n",
      "\n",
      "      \n",
      "\n",
      "\n",
      "\n",
      "  </div>\n",
      "\n",
      "\n",
      "\n",
      "  <div id=\"start-of-content\" class=\"show-on-focus\"></div>\n",
      "\n",
      "\n",
      "\n",
      "    <div id=\"js-flash-container\">\n",
      "\n",
      "</div>\n",
      "\n",
      "\n",
      "\n",
      "\n",
      "\n",
      "\n",
      "\n",
      "  <div role=\"main\">\n",
      "\n",
      "        <div itemscope itemtype=\"http://schema.org/SoftwareSourceCode\">\n",
      "\n",
      "    <div id=\"js-repo-pjax-container\" data-pjax-container>\n",
      "\n",
      "      \n",
      "\n",
      "\n",
      "\n",
      "\n",
      "\n",
      "\n",
      "\n",
      "\n",
      "\n",
      "\n",
      "\n",
      "  <div class=\"pagehead repohead instapaper_ignore readability-menu experiment-repo-nav \">\n",
      "\n",
      "    <div class=\"repohead-details-container clearfix container \">\n",
      "\n",
      "\n",
      "\n",
      "      <ul class=\"pagehead-actions\">\n",
      "\n",
      "  <li>\n",
      "\n",
      "        <!-- '\"` --><!-- </textarea></xmp> --></option></form><form accept-charset=\"UTF-8\" action=\"/notifications/subscribe\" class=\"js-social-container\" data-autosubmit=\"true\" data-remote=\"true\" method=\"post\"><div style=\"margin:0;padding:0;display:inline\"><input name=\"utf8\" type=\"hidden\" value=\"&#x2713;\" /><input name=\"authenticity_token\" type=\"hidden\" value=\"x0UH6RKeVvAXBGkacmo7OH6pLQuBCJS4DZQFyf+Qxu9Hv1d7QfZEwhL/BPChYSxFcw8XlfMZyBkc0PNvMVY5bg==\" /></div>      <input class=\"form-control\" id=\"repository_id\" name=\"repository_id\" type=\"hidden\" value=\"115369199\" />\n",
      "\n",
      "\n",
      "\n",
      "        <div class=\"select-menu js-menu-container js-select-menu\">\n",
      "\n",
      "          <a href=\"/shivamms/Complete-Python-Bootcamp/subscription\"\n",
      "\n",
      "            class=\"btn btn-sm btn-with-count select-menu-button js-menu-target\"\n",
      "\n",
      "            role=\"button\"\n",
      "\n",
      "            aria-haspopup=\"true\"\n",
      "\n",
      "            aria-expanded=\"false\"\n",
      "\n",
      "            aria-label=\"Toggle repository notifications menu\"\n",
      "\n",
      "            data-ga-click=\"Repository, click Watch settings, action:blob#show\">\n",
      "\n",
      "            <span class=\"js-select-button\">\n",
      "\n",
      "                <svg aria-hidden=\"true\" class=\"octicon octicon-eye\" height=\"16\" version=\"1.1\" viewBox=\"0 0 16 16\" width=\"16\"><path fill-rule=\"evenodd\" d=\"M8.06 2C3 2 0 8 0 8s3 6 8.06 6C13 14 16 8 16 8s-3-6-7.94-6zM8 12c-2.2 0-4-1.78-4-4 0-2.2 1.8-4 4-4 2.22 0 4 1.8 4 4 0 2.22-1.78 4-4 4zm2-4c0 1.11-.89 2-2 2-1.11 0-2-.89-2-2 0-1.11.89-2 2-2 1.11 0 2 .89 2 2z\"/></svg>\n",
      "\n",
      "                Unwatch\n",
      "\n",
      "            </span>\n",
      "\n",
      "          </a>\n",
      "\n",
      "          <a class=\"social-count js-social-count\"\n",
      "\n",
      "            href=\"/shivamms/Complete-Python-Bootcamp/watchers\"\n",
      "\n",
      "            aria-label=\"1 user is watching this repository\">\n",
      "\n",
      "            1\n",
      "\n",
      "          </a>\n",
      "\n",
      "\n",
      "\n",
      "        <div class=\"select-menu-modal-holder\">\n",
      "\n",
      "          <div class=\"select-menu-modal subscription-menu-modal js-menu-content\">\n",
      "\n",
      "            <div class=\"select-menu-header js-navigation-enable\" tabindex=\"-1\">\n",
      "\n",
      "              <svg aria-label=\"Close\" class=\"octicon octicon-x js-menu-close\" height=\"16\" role=\"img\" version=\"1.1\" viewBox=\"0 0 12 16\" width=\"12\"><path fill-rule=\"evenodd\" d=\"M7.48 8l3.75 3.75-1.48 1.48L6 9.48l-3.75 3.75-1.48-1.48L4.52 8 .77 4.25l1.48-1.48L6 6.52l3.75-3.75 1.48 1.48z\"/></svg>\n",
      "\n",
      "              <span class=\"select-menu-title\">Notifications</span>\n",
      "\n",
      "            </div>\n",
      "\n",
      "\n",
      "\n",
      "              <div class=\"select-menu-list js-navigation-container\" role=\"menu\">\n",
      "\n",
      "\n",
      "\n",
      "                <div class=\"select-menu-item js-navigation-item \" role=\"menuitem\" tabindex=\"0\">\n",
      "\n",
      "                  <svg aria-hidden=\"true\" class=\"octicon octicon-check select-menu-item-icon\" height=\"16\" version=\"1.1\" viewBox=\"0 0 12 16\" width=\"12\"><path fill-rule=\"evenodd\" d=\"M12 5l-8 8-4-4 1.5-1.5L4 10l6.5-6.5z\"/></svg>\n",
      "\n",
      "                  <div class=\"select-menu-item-text\">\n",
      "\n",
      "                    <input id=\"do_included\" name=\"do\" type=\"radio\" value=\"included\" />\n",
      "\n",
      "                    <span class=\"select-menu-item-heading\">Not watching</span>\n",
      "\n",
      "                    <span class=\"description\">Be notified when participating or @mentioned.</span>\n",
      "\n",
      "                    <span class=\"js-select-button-text hidden-select-button-text\">\n",
      "\n",
      "                      <svg aria-hidden=\"true\" class=\"octicon octicon-eye\" height=\"16\" version=\"1.1\" viewBox=\"0 0 16 16\" width=\"16\"><path fill-rule=\"evenodd\" d=\"M8.06 2C3 2 0 8 0 8s3 6 8.06 6C13 14 16 8 16 8s-3-6-7.94-6zM8 12c-2.2 0-4-1.78-4-4 0-2.2 1.8-4 4-4 2.22 0 4 1.8 4 4 0 2.22-1.78 4-4 4zm2-4c0 1.11-.89 2-2 2-1.11 0-2-.89-2-2 0-1.11.89-2 2-2 1.11 0 2 .89 2 2z\"/></svg>\n",
      "\n",
      "                      Watch\n",
      "\n",
      "                    </span>\n",
      "\n",
      "                  </div>\n",
      "\n",
      "                </div>\n",
      "\n",
      "\n",
      "\n",
      "                <div class=\"select-menu-item js-navigation-item selected\" role=\"menuitem\" tabindex=\"0\">\n",
      "\n",
      "                  <svg aria-hidden=\"true\" class=\"octicon octicon-check select-menu-item-icon\" height=\"16\" version=\"1.1\" viewBox=\"0 0 12 16\" width=\"12\"><path fill-rule=\"evenodd\" d=\"M12 5l-8 8-4-4 1.5-1.5L4 10l6.5-6.5z\"/></svg>\n",
      "\n",
      "                  <div class=\"select-menu-item-text\">\n",
      "\n",
      "                    <input checked=\"checked\" id=\"do_subscribed\" name=\"do\" type=\"radio\" value=\"subscribed\" />\n",
      "\n",
      "                    <span class=\"select-menu-item-heading\">Watching</span>\n",
      "\n",
      "                    <span class=\"description\">Be notified of all conversations.</span>\n",
      "\n",
      "                    <span class=\"js-select-button-text hidden-select-button-text\">\n",
      "\n",
      "                      <svg aria-hidden=\"true\" class=\"octicon octicon-eye\" height=\"16\" version=\"1.1\" viewBox=\"0 0 16 16\" width=\"16\"><path fill-rule=\"evenodd\" d=\"M8.06 2C3 2 0 8 0 8s3 6 8.06 6C13 14 16 8 16 8s-3-6-7.94-6zM8 12c-2.2 0-4-1.78-4-4 0-2.2 1.8-4 4-4 2.22 0 4 1.8 4 4 0 2.22-1.78 4-4 4zm2-4c0 1.11-.89 2-2 2-1.11 0-2-.89-2-2 0-1.11.89-2 2-2 1.11 0 2 .89 2 2z\"/></svg>\n",
      "\n",
      "                        Unwatch\n",
      "\n",
      "                    </span>\n",
      "\n",
      "                  </div>\n",
      "\n",
      "                </div>\n",
      "\n",
      "\n",
      "\n",
      "                <div class=\"select-menu-item js-navigation-item \" role=\"menuitem\" tabindex=\"0\">\n",
      "\n",
      "                  <svg aria-hidden=\"true\" class=\"octicon octicon-check select-menu-item-icon\" height=\"16\" version=\"1.1\" viewBox=\"0 0 12 16\" width=\"12\"><path fill-rule=\"evenodd\" d=\"M12 5l-8 8-4-4 1.5-1.5L4 10l6.5-6.5z\"/></svg>\n",
      "\n",
      "                  <div class=\"select-menu-item-text\">\n",
      "\n",
      "                    <input id=\"do_ignore\" name=\"do\" type=\"radio\" value=\"ignore\" />\n",
      "\n",
      "                    <span class=\"select-menu-item-heading\">Ignoring</span>\n",
      "\n",
      "                    <span class=\"description\">Never be notified.</span>\n",
      "\n",
      "                    <span class=\"js-select-button-text hidden-select-button-text\">\n",
      "\n",
      "                      <svg aria-hidden=\"true\" class=\"octicon octicon-mute\" height=\"16\" version=\"1.1\" viewBox=\"0 0 16 16\" width=\"16\"><path fill-rule=\"evenodd\" d=\"M8 2.81v10.38c0 .67-.81 1-1.28.53L3 10H1c-.55 0-1-.45-1-1V7c0-.55.45-1 1-1h2l3.72-3.72C7.19 1.81 8 2.14 8 2.81zm7.53 3.22l-1.06-1.06-1.97 1.97-1.97-1.97-1.06 1.06L11.44 8 9.47 9.97l1.06 1.06 1.97-1.97 1.97 1.97 1.06-1.06L13.56 8l1.97-1.97z\"/></svg>\n",
      "\n",
      "                        Stop ignoring\n",
      "\n",
      "                    </span>\n",
      "\n",
      "                  </div>\n",
      "\n",
      "                </div>\n",
      "\n",
      "\n",
      "\n",
      "              </div>\n",
      "\n",
      "\n",
      "\n",
      "            </div>\n",
      "\n",
      "          </div>\n",
      "\n",
      "        </div>\n",
      "\n",
      "</form>\n",
      "\n",
      "  </li>\n",
      "\n",
      "\n",
      "\n",
      "  <li>\n",
      "\n",
      "    \n",
      "\n",
      "  <div class=\"js-toggler-container js-social-container starring-container \">\n",
      "\n",
      "    <!-- '\"` --><!-- </textarea></xmp> --></option></form><form accept-charset=\"UTF-8\" action=\"/shivamms/Complete-Python-Bootcamp/unstar\" class=\"starred js-social-form\" method=\"post\"><div style=\"margin:0;padding:0;display:inline\"><input name=\"utf8\" type=\"hidden\" value=\"&#x2713;\" /><input name=\"authenticity_token\" type=\"hidden\" value=\"MRCPoigRjV1KUcVm70Z4eVXl2ZNbWE6PUQOf6uLdqOz792UnDtMHldwVQ52eDOto1DbIcNoy9hx5u/ep4xOn+A==\" /></div>\n",
      "\n",
      "      <input type=\"hidden\" name=\"context\" value=\"repository\"></input>\n",
      "\n",
      "      <button\n",
      "\n",
      "        type=\"submit\"\n",
      "\n",
      "        class=\"btn btn-sm btn-with-count js-toggler-target\"\n",
      "\n",
      "        aria-label=\"Unstar this repository\" title=\"Unstar shivamms/Complete-Python-Bootcamp\"\n",
      "\n",
      "        data-ga-click=\"Repository, click unstar button, action:blob#show; text:Unstar\">\n",
      "\n",
      "        <svg aria-hidden=\"true\" class=\"octicon octicon-star\" height=\"16\" version=\"1.1\" viewBox=\"0 0 14 16\" width=\"14\"><path fill-rule=\"evenodd\" d=\"M14 6l-4.9-.64L7 1 4.9 5.36 0 6l3.6 3.26L2.67 14 7 11.67 11.33 14l-.93-4.74z\"/></svg>\n",
      "\n",
      "        Unstar\n",
      "\n",
      "      </button>\n",
      "\n",
      "        <a class=\"social-count js-social-count\" href=\"/shivamms/Complete-Python-Bootcamp/stargazers\"\n",
      "\n",
      "           aria-label=\"0 users starred this repository\">\n",
      "\n",
      "          0\n",
      "\n",
      "        </a>\n",
      "\n",
      "</form>\n",
      "\n",
      "    <!-- '\"` --><!-- </textarea></xmp> --></option></form><form accept-charset=\"UTF-8\" action=\"/shivamms/Complete-Python-Bootcamp/star\" class=\"unstarred js-social-form\" method=\"post\"><div style=\"margin:0;padding:0;display:inline\"><input name=\"utf8\" type=\"hidden\" value=\"&#x2713;\" /><input name=\"authenticity_token\" type=\"hidden\" value=\"DAt+C/5HreR+cQpXJ/TcZxIhzQr44a2+wpVNVTLQ41o8HjPb1VaBpDJlZxlg2QzSD7C9/2cgFhz895vf2Bka6Q==\" /></div>\n",
      "\n",
      "      <input type=\"hidden\" name=\"context\" value=\"repository\"></input>\n",
      "\n",
      "      <button\n",
      "\n",
      "        type=\"submit\"\n",
      "\n",
      "        class=\"btn btn-sm btn-with-count js-toggler-target\"\n",
      "\n",
      "        aria-label=\"Star this repository\" title=\"Star shivamms/Complete-Python-Bootcamp\"\n",
      "\n",
      "        data-ga-click=\"Repository, click star button, action:blob#show; text:Star\">\n",
      "\n",
      "        <svg aria-hidden=\"true\" class=\"octicon octicon-star\" height=\"16\" version=\"1.1\" viewBox=\"0 0 14 16\" width=\"14\"><path fill-rule=\"evenodd\" d=\"M14 6l-4.9-.64L7 1 4.9 5.36 0 6l3.6 3.26L2.67 14 7 11.67 11.33 14l-.93-4.74z\"/></svg>\n",
      "\n",
      "        Star\n",
      "\n",
      "      </button>\n",
      "\n",
      "        <a class=\"social-count js-social-count\" href=\"/shivamms/Complete-Python-Bootcamp/stargazers\"\n",
      "\n",
      "           aria-label=\"0 users starred this repository\">\n",
      "\n",
      "          0\n",
      "\n",
      "        </a>\n",
      "\n",
      "</form>  </div>\n",
      "\n",
      "\n",
      "\n",
      "  </li>\n",
      "\n",
      "\n",
      "\n",
      "  <li>\n",
      "\n",
      "          <!-- '\"` --><!-- </textarea></xmp> --></option></form><form accept-charset=\"UTF-8\" action=\"/shivamms/Complete-Python-Bootcamp/fork\" class=\"btn-with-count\" method=\"post\"><div style=\"margin:0;padding:0;display:inline\"><input name=\"utf8\" type=\"hidden\" value=\"&#x2713;\" /><input name=\"authenticity_token\" type=\"hidden\" value=\"ooVIFlZbdU63ef9EdBC5Fu6ffU0DDaCNdk6Jcvsd+2Iwz12JEQBXkP+2Kcf6TEol7Eg9eWJfnGFbEaRhwsxoCA==\" /></div>\n",
      "\n",
      "            <button\n",
      "\n",
      "                type=\"submit\"\n",
      "\n",
      "                class=\"btn btn-sm btn-with-count\"\n",
      "\n",
      "                data-ga-click=\"Repository, show fork modal, action:blob#show; text:Fork\"\n",
      "\n",
      "                title=\"Fork your own copy of shivamms/Complete-Python-Bootcamp to your account\"\n",
      "\n",
      "                aria-label=\"Fork your own copy of shivamms/Complete-Python-Bootcamp to your account\">\n",
      "\n",
      "              <svg aria-hidden=\"true\" class=\"octicon octicon-repo-forked\" height=\"16\" version=\"1.1\" viewBox=\"0 0 10 16\" width=\"10\"><path fill-rule=\"evenodd\" d=\"M8 1a1.993 1.993 0 0 0-1 3.72V6L5 8 3 6V4.72A1.993 1.993 0 0 0 2 1a1.993 1.993 0 0 0-1 3.72V6.5l3 3v1.78A1.993 1.993 0 0 0 5 15a1.993 1.993 0 0 0 1-3.72V9.5l3-3V4.72A1.993 1.993 0 0 0 8 1zM2 4.2C1.34 4.2.8 3.65.8 3c0-.65.55-1.2 1.2-1.2.65 0 1.2.55 1.2 1.2 0 .65-.55 1.2-1.2 1.2zm3 10c-.66 0-1.2-.55-1.2-1.2 0-.65.55-1.2 1.2-1.2.65 0 1.2.55 1.2 1.2 0 .65-.55 1.2-1.2 1.2zm3-10c-.66 0-1.2-.55-1.2-1.2 0-.65.55-1.2 1.2-1.2.65 0 1.2.55 1.2 1.2 0 .65-.55 1.2-1.2 1.2z\"/></svg>\n",
      "\n",
      "              Fork\n",
      "\n",
      "            </button>\n",
      "\n",
      "</form>\n",
      "\n",
      "    <a href=\"/shivamms/Complete-Python-Bootcamp/network\" class=\"social-count\"\n",
      "\n",
      "       aria-label=\"1214 users forked this repository\">\n",
      "\n",
      "      1,214\n",
      "\n",
      "    </a>\n",
      "\n",
      "  </li>\n",
      "\n",
      "</ul>\n",
      "\n",
      "\n",
      "\n",
      "      <h1 class=\"public \">\n",
      "\n",
      "  <svg aria-hidden=\"true\" class=\"octicon octicon-repo-forked\" height=\"16\" version=\"1.1\" viewBox=\"0 0 10 16\" width=\"10\"><path fill-rule=\"evenodd\" d=\"M8 1a1.993 1.993 0 0 0-1 3.72V6L5 8 3 6V4.72A1.993 1.993 0 0 0 2 1a1.993 1.993 0 0 0-1 3.72V6.5l3 3v1.78A1.993 1.993 0 0 0 5 15a1.993 1.993 0 0 0 1-3.72V9.5l3-3V4.72A1.993 1.993 0 0 0 8 1zM2 4.2C1.34 4.2.8 3.65.8 3c0-.65.55-1.2 1.2-1.2.65 0 1.2.55 1.2 1.2 0 .65-.55 1.2-1.2 1.2zm3 10c-.66 0-1.2-.55-1.2-1.2 0-.65.55-1.2 1.2-1.2.65 0 1.2.55 1.2 1.2 0 .65-.55 1.2-1.2 1.2zm3-10c-.66 0-1.2-.55-1.2-1.2 0-.65.55-1.2 1.2-1.2.65 0 1.2.55 1.2 1.2 0 .65-.55 1.2-1.2 1.2z\"/></svg>\n",
      "\n",
      "  <span class=\"author\" itemprop=\"author\"><a href=\"/shivamms\" class=\"url fn\" rel=\"author\">shivamms</a></span><!--\n",
      "\n",
      "--><span class=\"path-divider\">/</span><!--\n",
      "\n",
      "--><strong itemprop=\"name\"><a href=\"/shivamms/Complete-Python-Bootcamp\" data-pjax=\"#js-repo-pjax-container\">Complete-Python-Bootcamp</a></strong>\n",
      "\n",
      "\n",
      "\n",
      "    <span class=\"fork-flag\">\n",
      "\n",
      "      <span class=\"text\">forked from <a href=\"/jmportilla/Complete-Python-Bootcamp\">jmportilla/Complete-Python-Bootcamp</a></span>\n",
      "\n",
      "    </span>\n",
      "\n",
      "</h1>\n",
      "\n",
      "\n",
      "\n",
      "    </div>\n",
      "\n",
      "    \n",
      "\n",
      "<nav class=\"reponav js-repo-nav js-sidenav-container-pjax container\"\n",
      "\n",
      "     itemscope\n",
      "\n",
      "     itemtype=\"http://schema.org/BreadcrumbList\"\n",
      "\n",
      "     role=\"navigation\"\n",
      "\n",
      "     data-pjax=\"#js-repo-pjax-container\">\n",
      "\n",
      "\n",
      "\n",
      "  <span itemscope itemtype=\"http://schema.org/ListItem\" itemprop=\"itemListElement\">\n",
      "\n",
      "    <a href=\"/shivamms/Complete-Python-Bootcamp\" class=\"js-selected-navigation-item selected reponav-item\" data-hotkey=\"g c\" data-selected-links=\"repo_source repo_downloads repo_commits repo_releases repo_tags repo_branches repo_packages /shivamms/Complete-Python-Bootcamp\" itemprop=\"url\">\n",
      "\n",
      "      <svg aria-hidden=\"true\" class=\"octicon octicon-code\" height=\"16\" version=\"1.1\" viewBox=\"0 0 14 16\" width=\"14\"><path fill-rule=\"evenodd\" d=\"M9.5 3L8 4.5 11.5 8 8 11.5 9.5 13 14 8 9.5 3zm-5 0L0 8l4.5 5L6 11.5 2.5 8 6 4.5 4.5 3z\"/></svg>\n",
      "\n",
      "      <span itemprop=\"name\">Code</span>\n",
      "\n",
      "      <meta itemprop=\"position\" content=\"1\">\n",
      "\n",
      "</a>  </span>\n",
      "\n",
      "\n",
      "\n",
      "\n",
      "\n",
      "  <span itemscope itemtype=\"http://schema.org/ListItem\" itemprop=\"itemListElement\">\n",
      "\n",
      "    <a href=\"/shivamms/Complete-Python-Bootcamp/pulls\" class=\"js-selected-navigation-item reponav-item\" data-hotkey=\"g p\" data-selected-links=\"repo_pulls /shivamms/Complete-Python-Bootcamp/pulls\" itemprop=\"url\">\n",
      "\n",
      "      <svg aria-hidden=\"true\" class=\"octicon octicon-git-pull-request\" height=\"16\" version=\"1.1\" viewBox=\"0 0 12 16\" width=\"12\"><path fill-rule=\"evenodd\" d=\"M11 11.28V5c-.03-.78-.34-1.47-.94-2.06C9.46 2.35 8.78 2.03 8 2H7V0L4 3l3 3V4h1c.27.02.48.11.69.31.21.2.3.42.31.69v6.28A1.993 1.993 0 0 0 10 15a1.993 1.993 0 0 0 1-3.72zm-1 2.92c-.66 0-1.2-.55-1.2-1.2 0-.65.55-1.2 1.2-1.2.65 0 1.2.55 1.2 1.2 0 .65-.55 1.2-1.2 1.2zM4 3c0-1.11-.89-2-2-2a1.993 1.993 0 0 0-1 3.72v6.56A1.993 1.993 0 0 0 2 15a1.993 1.993 0 0 0 1-3.72V4.72c.59-.34 1-.98 1-1.72zm-.8 10c0 .66-.55 1.2-1.2 1.2-.65 0-1.2-.55-1.2-1.2 0-.65.55-1.2 1.2-1.2.65 0 1.2.55 1.2 1.2zM2 4.2C1.34 4.2.8 3.65.8 3c0-.65.55-1.2 1.2-1.2.65 0 1.2.55 1.2 1.2 0 .65-.55 1.2-1.2 1.2z\"/></svg>\n",
      "\n",
      "      <span itemprop=\"name\">Pull requests</span>\n",
      "\n",
      "      <span class=\"Counter\">0</span>\n",
      "\n",
      "      <meta itemprop=\"position\" content=\"3\">\n",
      "\n",
      "</a>  </span>\n",
      "\n",
      "\n",
      "\n",
      "    <a href=\"/shivamms/Complete-Python-Bootcamp/projects\" class=\"js-selected-navigation-item reponav-item\" data-hotkey=\"g b\" data-selected-links=\"repo_projects new_repo_project repo_project /shivamms/Complete-Python-Bootcamp/projects\">\n",
      "\n",
      "      <svg aria-hidden=\"true\" class=\"octicon octicon-project\" height=\"16\" version=\"1.1\" viewBox=\"0 0 15 16\" width=\"15\"><path fill-rule=\"evenodd\" d=\"M10 12h3V2h-3v10zm-4-2h3V2H6v8zm-4 4h3V2H2v12zm-1 1h13V1H1v14zM14 0H1a1 1 0 0 0-1 1v14a1 1 0 0 0 1 1h13a1 1 0 0 0 1-1V1a1 1 0 0 0-1-1z\"/></svg>\n",
      "\n",
      "      Projects\n",
      "\n",
      "      <span class=\"Counter\" >0</span>\n",
      "\n",
      "</a>\n",
      "\n",
      "    <a href=\"/shivamms/Complete-Python-Bootcamp/wiki\" class=\"js-selected-navigation-item reponav-item\" data-hotkey=\"g w\" data-selected-links=\"repo_wiki /shivamms/Complete-Python-Bootcamp/wiki\">\n",
      "\n",
      "      <svg aria-hidden=\"true\" class=\"octicon octicon-book\" height=\"16\" version=\"1.1\" viewBox=\"0 0 16 16\" width=\"16\"><path fill-rule=\"evenodd\" d=\"M3 5h4v1H3V5zm0 3h4V7H3v1zm0 2h4V9H3v1zm11-5h-4v1h4V5zm0 2h-4v1h4V7zm0 2h-4v1h4V9zm2-6v9c0 .55-.45 1-1 1H9.5l-1 1-1-1H2c-.55 0-1-.45-1-1V3c0-.55.45-1 1-1h5.5l1 1 1-1H15c.55 0 1 .45 1 1zm-8 .5L7.5 3H2v9h6V3.5zm7-.5H9.5l-.5.5V12h6V3z\"/></svg>\n",
      "\n",
      "      Wiki\n",
      "\n",
      "</a>\n",
      "\n",
      "\n",
      "\n",
      "  <a href=\"/shivamms/Complete-Python-Bootcamp/pulse\" class=\"js-selected-navigation-item reponav-item\" data-selected-links=\"repo_graphs repo_contributors dependency_graph pulse /shivamms/Complete-Python-Bootcamp/pulse\">\n",
      "\n",
      "    <svg aria-hidden=\"true\" class=\"octicon octicon-graph\" height=\"16\" version=\"1.1\" viewBox=\"0 0 16 16\" width=\"16\"><path fill-rule=\"evenodd\" d=\"M16 14v1H0V0h1v14h15zM5 13H3V8h2v5zm4 0H7V3h2v10zm4 0h-2V6h2v7z\"/></svg>\n",
      "\n",
      "    Insights\n",
      "\n",
      "</a>\n",
      "\n",
      "    <a href=\"/shivamms/Complete-Python-Bootcamp/settings\" class=\"js-selected-navigation-item reponav-item\" data-selected-links=\"repo_settings repo_branch_settings hooks integration_installations repo_keys_settings /shivamms/Complete-Python-Bootcamp/settings\">\n",
      "\n",
      "      <svg aria-hidden=\"true\" class=\"octicon octicon-gear\" height=\"16\" version=\"1.1\" viewBox=\"0 0 14 16\" width=\"14\"><path fill-rule=\"evenodd\" d=\"M14 8.77v-1.6l-1.94-.64-.45-1.09.88-1.84-1.13-1.13-1.81.91-1.09-.45-.69-1.92h-1.6l-.63 1.94-1.11.45-1.84-.88-1.13 1.13.91 1.81-.45 1.09L0 7.23v1.59l1.94.64.45 1.09-.88 1.84 1.13 1.13 1.81-.91 1.09.45.69 1.92h1.59l.63-1.94 1.11-.45 1.84.88 1.13-1.13-.92-1.81.47-1.09L14 8.75v.02zM7 11c-1.66 0-3-1.34-3-3s1.34-3 3-3 3 1.34 3 3-1.34 3-3 3z\"/></svg>\n",
      "\n",
      "      Settings\n",
      "\n",
      "</a>\n",
      "\n",
      "</nav>\n",
      "\n",
      "\n",
      "\n",
      "\n",
      "\n",
      "  </div>\n",
      "\n",
      "\n",
      "\n",
      "<div class=\"container new-discussion-timeline experiment-repo-nav\">\n",
      "\n",
      "  <div class=\"repository-content\">\n",
      "\n",
      "\n",
      "\n",
      "    \n",
      "\n",
      "  <a href=\"/shivamms/Complete-Python-Bootcamp/blob/6b5531e8087439a5e3739adabe2ea637d71f0551/test.txt\" class=\"d-none js-permalink-shortcut\" data-hotkey=\"y\">Permalink</a>\n",
      "\n",
      "\n",
      "\n",
      "  <!-- blob contrib key: blob_contributors:v21:a8a9a2e40f0ef3faf440d4e7a57d4c36 -->\n",
      "\n",
      "\n",
      "\n",
      "  <div class=\"file-navigation js-zeroclipboard-container\">\n",
      "\n",
      "    \n",
      "\n",
      "<div class=\"select-menu branch-select-menu js-menu-container js-select-menu float-left\">\n",
      "\n",
      "  <button class=\" btn btn-sm select-menu-button js-menu-target css-truncate\" data-hotkey=\"w\"\n",
      "\n",
      "    \n",
      "\n",
      "    type=\"button\" aria-label=\"Switch branches or tags\" aria-expanded=\"false\" aria-haspopup=\"true\">\n",
      "\n",
      "      <i>Branch:</i>\n",
      "\n",
      "      <span class=\"js-select-button css-truncate-target\">master</span>\n",
      "\n",
      "  </button>\n",
      "\n",
      "\n",
      "\n",
      "  <div class=\"select-menu-modal-holder js-menu-content js-navigation-container\" data-pjax>\n",
      "\n",
      "\n",
      "\n",
      "    <div class=\"select-menu-modal\">\n",
      "\n",
      "      <div class=\"select-menu-header\">\n",
      "\n",
      "        <svg aria-label=\"Close\" class=\"octicon octicon-x js-menu-close\" height=\"16\" role=\"img\" version=\"1.1\" viewBox=\"0 0 12 16\" width=\"12\"><path fill-rule=\"evenodd\" d=\"M7.48 8l3.75 3.75-1.48 1.48L6 9.48l-3.75 3.75-1.48-1.48L4.52 8 .77 4.25l1.48-1.48L6 6.52l3.75-3.75 1.48 1.48z\"/></svg>\n",
      "\n",
      "        <span class=\"select-menu-title\">Switch branches/tags</span>\n",
      "\n",
      "      </div>\n",
      "\n",
      "\n",
      "\n",
      "      <div class=\"select-menu-filters\">\n",
      "\n",
      "        <div class=\"select-menu-text-filter\">\n",
      "\n",
      "          <input type=\"text\" aria-label=\"Find or create a branch…\" id=\"context-commitish-filter-field\" class=\"form-control js-filterable-field js-navigation-enable\" placeholder=\"Find or create a branch…\">\n",
      "\n",
      "        </div>\n",
      "\n",
      "        <div class=\"select-menu-tabs\">\n",
      "\n",
      "          <ul>\n",
      "\n",
      "            <li class=\"select-menu-tab\">\n",
      "\n",
      "              <a href=\"#\" data-tab-filter=\"branches\" data-filter-placeholder=\"Find or create a branch…\" class=\"js-select-menu-tab\" role=\"tab\">Branches</a>\n",
      "\n",
      "            </li>\n",
      "\n",
      "            <li class=\"select-menu-tab\">\n",
      "\n",
      "              <a href=\"#\" data-tab-filter=\"tags\" data-filter-placeholder=\"Find a tag…\" class=\"js-select-menu-tab\" role=\"tab\">Tags</a>\n",
      "\n",
      "            </li>\n",
      "\n",
      "          </ul>\n",
      "\n",
      "        </div>\n",
      "\n",
      "      </div>\n",
      "\n",
      "\n",
      "\n",
      "      <div class=\"select-menu-list select-menu-tab-bucket js-select-menu-tab-bucket\" data-tab-filter=\"branches\" role=\"menu\">\n",
      "\n",
      "\n",
      "\n",
      "        <div data-filterable-for=\"context-commitish-filter-field\" data-filterable-type=\"substring\">\n",
      "\n",
      "\n",
      "\n",
      "\n",
      "\n",
      "            <a class=\"select-menu-item js-navigation-item js-navigation-open selected\"\n",
      "\n",
      "               href=\"/shivamms/Complete-Python-Bootcamp/blob/master/test.txt\"\n",
      "\n",
      "               data-name=\"master\"\n",
      "\n",
      "               data-skip-pjax=\"true\"\n",
      "\n",
      "               rel=\"nofollow\">\n",
      "\n",
      "              <svg aria-hidden=\"true\" class=\"octicon octicon-check select-menu-item-icon\" height=\"16\" version=\"1.1\" viewBox=\"0 0 12 16\" width=\"12\"><path fill-rule=\"evenodd\" d=\"M12 5l-8 8-4-4 1.5-1.5L4 10l6.5-6.5z\"/></svg>\n",
      "\n",
      "              <span class=\"select-menu-item-text css-truncate-target js-select-menu-filter-text\">\n",
      "\n",
      "                master\n",
      "\n",
      "              </span>\n",
      "\n",
      "            </a>\n",
      "\n",
      "        </div>\n",
      "\n",
      "\n",
      "\n",
      "          <!-- '\"` --><!-- </textarea></xmp> --></option></form><form accept-charset=\"UTF-8\" action=\"/shivamms/Complete-Python-Bootcamp/branches\" class=\"js-create-branch select-menu-item select-menu-new-item-form js-navigation-item js-new-item-form\" method=\"post\"><div style=\"margin:0;padding:0;display:inline\"><input name=\"utf8\" type=\"hidden\" value=\"&#x2713;\" /><input name=\"authenticity_token\" type=\"hidden\" value=\"v7gUfBR42hLaPUwbFgwUZetjxGh4+pWp1kh/BtzOWElN1Xm8Pp3n0Y0EhnxiLVp5eAtP7Dc8ttudekg91akNSg==\" /></div>\n",
      "\n",
      "          <svg aria-hidden=\"true\" class=\"octicon octicon-git-branch select-menu-item-icon\" height=\"16\" version=\"1.1\" viewBox=\"0 0 10 16\" width=\"10\"><path fill-rule=\"evenodd\" d=\"M10 5c0-1.11-.89-2-2-2a1.993 1.993 0 0 0-1 3.72v.3c-.02.52-.23.98-.63 1.38-.4.4-.86.61-1.38.63-.83.02-1.48.16-2 .45V4.72a1.993 1.993 0 0 0-1-3.72C.88 1 0 1.89 0 3a2 2 0 0 0 1 1.72v6.56c-.59.35-1 .99-1 1.72 0 1.11.89 2 2 2 1.11 0 2-.89 2-2 0-.53-.2-1-.53-1.36.09-.06.48-.41.59-.47.25-.11.56-.17.94-.17 1.05-.05 1.95-.45 2.75-1.25S8.95 7.77 9 6.73h-.02C9.59 6.37 10 5.73 10 5zM2 1.8c.66 0 1.2.55 1.2 1.2 0 .65-.55 1.2-1.2 1.2C1.35 4.2.8 3.65.8 3c0-.65.55-1.2 1.2-1.2zm0 12.41c-.66 0-1.2-.55-1.2-1.2 0-.65.55-1.2 1.2-1.2.65 0 1.2.55 1.2 1.2 0 .65-.55 1.2-1.2 1.2zm6-8c-.66 0-1.2-.55-1.2-1.2 0-.65.55-1.2 1.2-1.2.65 0 1.2.55 1.2 1.2 0 .65-.55 1.2-1.2 1.2z\"/></svg>\n",
      "\n",
      "            <div class=\"select-menu-item-text\">\n",
      "\n",
      "              <span class=\"select-menu-item-heading\">Create branch: <span class=\"js-new-item-name\"></span></span>\n",
      "\n",
      "              <span class=\"description\">from ‘master’</span>\n",
      "\n",
      "            </div>\n",
      "\n",
      "            <input type=\"hidden\" name=\"name\" id=\"name\" class=\"js-new-item-value\">\n",
      "\n",
      "            <input type=\"hidden\" name=\"branch\" id=\"branch\" value=\"master\">\n",
      "\n",
      "            <input type=\"hidden\" name=\"path\" id=\"path\" value=\"test.txt\">\n",
      "\n",
      "</form>\n",
      "\n",
      "      </div>\n",
      "\n",
      "\n",
      "\n",
      "      <div class=\"select-menu-list select-menu-tab-bucket js-select-menu-tab-bucket\" data-tab-filter=\"tags\">\n",
      "\n",
      "        <div data-filterable-for=\"context-commitish-filter-field\" data-filterable-type=\"substring\">\n",
      "\n",
      "\n",
      "\n",
      "\n",
      "\n",
      "        </div>\n",
      "\n",
      "\n",
      "\n",
      "        <div class=\"select-menu-no-results\">Nothing to show</div>\n",
      "\n",
      "      </div>\n",
      "\n",
      "\n",
      "\n",
      "    </div>\n",
      "\n",
      "  </div>\n",
      "\n",
      "</div>\n",
      "\n",
      "\n",
      "\n",
      "    <div class=\"BtnGroup float-right\">\n",
      "\n",
      "      <a href=\"/shivamms/Complete-Python-Bootcamp/find/master\"\n",
      "\n",
      "            class=\"js-pjax-capture-input btn btn-sm BtnGroup-item\"\n",
      "\n",
      "            data-pjax\n",
      "\n",
      "            data-hotkey=\"t\">\n",
      "\n",
      "        Find file\n",
      "\n",
      "      </a>\n",
      "\n",
      "      <button aria-label=\"Copy file path to clipboard\" class=\"js-zeroclipboard btn btn-sm BtnGroup-item tooltipped tooltipped-s\" data-copied-hint=\"Copied!\" type=\"button\">Copy path</button>\n",
      "\n",
      "    </div>\n",
      "\n",
      "    <div class=\"breadcrumb js-zeroclipboard-target\">\n",
      "\n",
      "      <span class=\"repo-root js-repo-root\"><span class=\"js-path-segment\"><a href=\"/shivamms/Complete-Python-Bootcamp\"><span>Complete-Python-Bootcamp</span></a></span></span><span class=\"separator\">/</span><strong class=\"final-path\">test.txt</strong>\n",
      "\n",
      "    </div>\n",
      "\n",
      "  </div>\n",
      "\n",
      "\n",
      "\n",
      "\n",
      "\n",
      "  \n",
      "\n",
      "  <div class=\"commit-tease\">\n",
      "\n",
      "      <span class=\"float-right\">\n",
      "\n",
      "        <a class=\"commit-tease-sha\" href=\"/shivamms/Complete-Python-Bootcamp/commit/43df8ea435fb00ee6580deaa7da0f1cad0d9ffde\" data-pjax>\n",
      "\n",
      "          43df8ea\n",
      "\n",
      "        </a>\n",
      "\n",
      "        <relative-time datetime=\"2015-09-08T16:01:01Z\">Sep 8, 2015</relative-time>\n",
      "\n",
      "      </span>\n",
      "\n",
      "      <div>\n",
      "\n",
      "        <img alt=\"@jmportilla\" class=\"avatar\" height=\"20\" src=\"https://avatars0.githubusercontent.com/u/8271660?s=40&amp;v=4\" width=\"20\" />\n",
      "\n",
      "        <a href=\"/jmportilla\" class=\"user-mention\" rel=\"contributor\">jmportilla</a>\n",
      "\n",
      "          <a href=\"/shivamms/Complete-Python-Bootcamp/commit/43df8ea435fb00ee6580deaa7da0f1cad0d9ffde\" class=\"message\" data-pjax=\"true\" title=\"updtae\">updtae</a>\n",
      "\n",
      "      </div>\n",
      "\n",
      "\n",
      "\n",
      "    <div class=\"commit-tease-contributors\">\n",
      "\n",
      "      <button type=\"button\" class=\"btn-link muted-link contributors-toggle\" data-facebox=\"#blob_contributors_box\">\n",
      "\n",
      "        <strong>1</strong>\n",
      "\n",
      "         contributor\n",
      "\n",
      "      </button>\n",
      "\n",
      "      \n",
      "\n",
      "    </div>\n",
      "\n",
      "\n",
      "\n",
      "    <div id=\"blob_contributors_box\" style=\"display:none\">\n",
      "\n",
      "      <h2 class=\"facebox-header\" data-facebox-id=\"facebox-header\">Users who have contributed to this file</h2>\n",
      "\n",
      "      <ul class=\"facebox-user-list\" data-facebox-id=\"facebox-description\">\n",
      "\n",
      "          <li class=\"facebox-user-list-item\">\n",
      "\n",
      "            <img alt=\"@jmportilla\" height=\"24\" src=\"https://avatars1.githubusercontent.com/u/8271660?s=48&amp;v=4\" width=\"24\" />\n",
      "\n",
      "            <a href=\"/jmportilla\">jmportilla</a>\n",
      "\n",
      "          </li>\n",
      "\n",
      "      </ul>\n",
      "\n",
      "    </div>\n",
      "\n",
      "  </div>\n",
      "\n",
      "\n",
      "\n",
      "\n",
      "\n",
      "  <div class=\"file\">\n",
      "\n",
      "    <div class=\"file-header\">\n",
      "\n",
      "  <div class=\"file-actions\">\n",
      "\n",
      "\n",
      "\n",
      "    <div class=\"BtnGroup\">\n",
      "\n",
      "      <a href=\"/shivamms/Complete-Python-Bootcamp/raw/master/test.txt\" class=\"btn btn-sm BtnGroup-item\" id=\"raw-url\">Raw</a>\n",
      "\n",
      "        <a href=\"/shivamms/Complete-Python-Bootcamp/blame/master/test.txt\" class=\"btn btn-sm js-update-url-with-hash BtnGroup-item\" data-hotkey=\"b\">Blame</a>\n",
      "\n",
      "      <a href=\"/shivamms/Complete-Python-Bootcamp/commits/master/test.txt\" class=\"btn btn-sm BtnGroup-item\" rel=\"nofollow\">History</a>\n",
      "\n",
      "    </div>\n",
      "\n",
      "\n",
      "\n",
      "\n",
      "\n",
      "        <!-- '\"` --><!-- </textarea></xmp> --></option></form><form accept-charset=\"UTF-8\" action=\"/shivamms/Complete-Python-Bootcamp/edit/master/test.txt\" class=\"inline-form js-update-url-with-hash\" method=\"post\"><div style=\"margin:0;padding:0;display:inline\"><input name=\"utf8\" type=\"hidden\" value=\"&#x2713;\" /><input name=\"authenticity_token\" type=\"hidden\" value=\"SCtCqrbpTo17MD0q9z4nosbNpHreyMyb8i8fjcj7XGhakKSzmACEyJ04ojijj9U+PU2InXuVzFtu9jnKFfmsgQ==\" /></div>\n",
      "\n",
      "          <button class=\"btn-octicon tooltipped tooltipped-nw\" type=\"submit\"\n",
      "\n",
      "            aria-label=\"Edit this file\" data-hotkey=\"e\" data-disable-with>\n",
      "\n",
      "            <svg aria-hidden=\"true\" class=\"octicon octicon-pencil\" height=\"16\" version=\"1.1\" viewBox=\"0 0 14 16\" width=\"14\"><path fill-rule=\"evenodd\" d=\"M0 12v3h3l8-8-3-3-8 8zm3 2H1v-2h1v1h1v1zm10.3-9.3L12 6 9 3l1.3-1.3a.996.996 0 0 1 1.41 0l1.59 1.59c.39.39.39 1.02 0 1.41z\"/></svg>\n",
      "\n",
      "          </button>\n",
      "\n",
      "</form>        <!-- '\"` --><!-- </textarea></xmp> --></option></form><form accept-charset=\"UTF-8\" action=\"/shivamms/Complete-Python-Bootcamp/delete/master/test.txt\" class=\"inline-form\" method=\"post\"><div style=\"margin:0;padding:0;display:inline\"><input name=\"utf8\" type=\"hidden\" value=\"&#x2713;\" /><input name=\"authenticity_token\" type=\"hidden\" value=\"AlF91i6s0ENc69hRt54EEU2wxhC6Pa5TjIp8d18Wt2f4hIvlhVrC+oovW87e9PhqO9Emrpa2DYffpqnAhM3d9A==\" /></div>\n",
      "\n",
      "          <button class=\"btn-octicon btn-octicon-danger tooltipped tooltipped-nw\" type=\"submit\"\n",
      "\n",
      "            aria-label=\"Delete this file\" data-disable-with>\n",
      "\n",
      "            <svg aria-hidden=\"true\" class=\"octicon octicon-trashcan\" height=\"16\" version=\"1.1\" viewBox=\"0 0 12 16\" width=\"12\"><path fill-rule=\"evenodd\" d=\"M11 2H9c0-.55-.45-1-1-1H5c-.55 0-1 .45-1 1H2c-.55 0-1 .45-1 1v1c0 .55.45 1 1 1v9c0 .55.45 1 1 1h7c.55 0 1-.45 1-1V5c.55 0 1-.45 1-1V3c0-.55-.45-1-1-1zm-1 12H3V5h1v8h1V5h1v8h1V5h1v8h1V5h1v9zm1-10H2V3h9v1z\"/></svg>\n",
      "\n",
      "          </button>\n",
      "\n",
      "</form>  </div>\n",
      "\n",
      "\n",
      "\n",
      "  <div class=\"file-info\">\n",
      "\n",
      "      1 lines (1 sloc)\n",
      "\n",
      "      <span class=\"file-info-divider\"></span>\n",
      "\n",
      "    22 Bytes\n",
      "\n",
      "  </div>\n",
      "\n",
      "</div>\n",
      "\n",
      "\n",
      "\n",
      "    \n",
      "\n",
      "\n",
      "\n",
      "  <div itemprop=\"text\" class=\"blob-wrapper data type-text\">\n",
      "\n",
      "      <table class=\"highlight tab-size js-file-line-container\" data-tab-size=\"8\">\n",
      "\n",
      "      <tr>\n",
      "\n",
      "        <td id=\"L1\" class=\"blob-num js-line-number\" data-line-number=\"1\"></td>\n",
      "\n",
      "        <td id=\"LC1\" class=\"blob-code blob-code-inner js-file-line\">This is a new lineLine</td>\n",
      "\n",
      "      </tr>\n",
      "\n",
      "</table>\n",
      "\n",
      "\n",
      "\n",
      "  <div class=\"BlobToolbar position-absolute js-file-line-actions dropdown js-menu-container js-select-menu d-none\" aria-hidden=\"true\">\n",
      "\n",
      "    <button class=\"btn-octicon ml-0 px-2 p-0 bg-white border border-gray-dark rounded-1 dropdown-toggle js-menu-target\" id=\"js-file-line-action-button\" type=\"button\" aria-expanded=\"false\" aria-haspopup=\"true\" aria-label=\"Inline file action toolbar\" aria-controls=\"inline-file-actions\">\n",
      "\n",
      "      <svg aria-hidden=\"true\" class=\"octicon octicon-kebab-horizontal\" height=\"16\" version=\"1.1\" viewBox=\"0 0 13 16\" width=\"13\"><path fill-rule=\"evenodd\" d=\"M1.5 9a1.5 1.5 0 1 1 0-3 1.5 1.5 0 0 1 0 3zm5 0a1.5 1.5 0 1 1 0-3 1.5 1.5 0 0 1 0 3zm5 0a1.5 1.5 0 1 1 0-3 1.5 1.5 0 0 1 0 3z\"/></svg>\n",
      "\n",
      "    </button>\n",
      "\n",
      "    <div class=\"dropdown-menu-content js-menu-content\" id=\"inline-file-actions\">\n",
      "\n",
      "      <ul class=\"BlobToolbar-dropdown dropdown-menu dropdown-menu-se mt-2\">\n",
      "\n",
      "        <li><a class=\"js-zeroclipboard dropdown-item\" style=\"cursor:pointer;\" id=\"js-copy-lines\" data-original-text=\"Copy lines\">Copy lines</a></li>\n",
      "\n",
      "        <li><a class=\"js-zeroclipboard dropdown-item\" id= \"js-copy-permalink\" style=\"cursor:pointer;\" data-original-text=\"Copy permalink\">Copy permalink</a></li>\n",
      "\n",
      "        <li><a href=\"/shivamms/Complete-Python-Bootcamp/blame/6b5531e8087439a5e3739adabe2ea637d71f0551/test.txt\" class=\"dropdown-item js-update-url-with-hash\" id=\"js-view-git-blame\">View git blame</a></li>\n",
      "\n",
      "      </ul>\n",
      "\n",
      "    </div>\n",
      "\n",
      "  </div>\n",
      "\n",
      "\n",
      "\n",
      "  </div>\n",
      "\n",
      "\n",
      "\n",
      "  </div>\n",
      "\n",
      "\n",
      "\n",
      "  <button type=\"button\" data-facebox=\"#jump-to-line\" data-facebox-class=\"linejump\" data-hotkey=\"l\" class=\"d-none\">Jump to Line</button>\n",
      "\n",
      "  <div id=\"jump-to-line\" style=\"display:none\">\n",
      "\n",
      "    <!-- '\"` --><!-- </textarea></xmp> --></option></form><form accept-charset=\"UTF-8\" action=\"\" class=\"js-jump-to-line-form\" method=\"get\"><div style=\"margin:0;padding:0;display:inline\"><input name=\"utf8\" type=\"hidden\" value=\"&#x2713;\" /></div>\n",
      "\n",
      "      <input class=\"form-control linejump-input js-jump-to-line-field\" type=\"text\" placeholder=\"Jump to line&hellip;\" aria-label=\"Jump to line\" autofocus>\n",
      "\n",
      "      <button type=\"submit\" class=\"btn\">Go</button>\n",
      "\n",
      "</form>  </div>\n",
      "\n",
      "\n",
      "\n",
      "\n",
      "\n",
      "  </div>\n",
      "\n",
      "  <div class=\"modal-backdrop js-touch-events\"></div>\n",
      "\n",
      "</div>\n",
      "\n",
      "\n",
      "\n",
      "    </div>\n",
      "\n",
      "  </div>\n",
      "\n",
      "\n",
      "\n",
      "  </div>\n",
      "\n",
      "\n",
      "\n",
      "      \n",
      "\n",
      "<div class=\"footer container-lg px-3\" role=\"contentinfo\">\n",
      "\n",
      "  <div class=\"position-relative d-flex flex-justify-between py-6 mt-6 f6 text-gray border-top border-gray-light \">\n",
      "\n",
      "    <ul class=\"list-style-none d-flex flex-wrap \">\n",
      "\n",
      "      <li class=\"mr-3\">&copy; 2017 <span title=\"0.13357s from unicorn-2720407843-9hbns\">GitHub</span>, Inc.</li>\n",
      "\n",
      "        <li class=\"mr-3\"><a href=\"https://github.com/site/terms\" data-ga-click=\"Footer, go to terms, text:terms\">Terms</a></li>\n",
      "\n",
      "        <li class=\"mr-3\"><a href=\"https://github.com/site/privacy\" data-ga-click=\"Footer, go to privacy, text:privacy\">Privacy</a></li>\n",
      "\n",
      "        <li class=\"mr-3\"><a href=\"https://github.com/security\" data-ga-click=\"Footer, go to security, text:security\">Security</a></li>\n",
      "\n",
      "        <li class=\"mr-3\"><a href=\"https://status.github.com/\" data-ga-click=\"Footer, go to status, text:status\">Status</a></li>\n",
      "\n",
      "        <li><a href=\"https://help.github.com\" data-ga-click=\"Footer, go to help, text:help\">Help</a></li>\n",
      "\n",
      "    </ul>\n",
      "\n",
      "\n",
      "\n",
      "    <a href=\"https://github.com\" aria-label=\"Homepage\" class=\"footer-octicon\" title=\"GitHub\">\n",
      "\n",
      "      <svg aria-hidden=\"true\" class=\"octicon octicon-mark-github\" height=\"24\" version=\"1.1\" viewBox=\"0 0 16 16\" width=\"24\"><path fill-rule=\"evenodd\" d=\"M8 0C3.58 0 0 3.58 0 8c0 3.54 2.29 6.53 5.47 7.59.4.07.55-.17.55-.38 0-.19-.01-.82-.01-1.49-2.01.37-2.53-.49-2.69-.94-.09-.23-.48-.94-.82-1.13-.28-.15-.68-.52-.01-.53.63-.01 1.08.58 1.23.82.72 1.21 1.87.87 2.33.66.07-.52.28-.87.51-1.07-1.78-.2-3.64-.89-3.64-3.95 0-.87.31-1.59.82-2.15-.08-.2-.36-1.02.08-2.12 0 0 .67-.21 2.2.82.64-.18 1.32-.27 2-.27.68 0 1.36.09 2 .27 1.53-1.04 2.2-.82 2.2-.82.44 1.1.16 1.92.08 2.12.51.56.82 1.27.82 2.15 0 3.07-1.87 3.75-3.65 3.95.29.25.54.73.54 1.48 0 1.07-.01 1.93-.01 2.2 0 .21.15.46.55.38A8.013 8.013 0 0 0 16 8c0-4.42-3.58-8-8-8z\"/></svg>\n",
      "\n",
      "</a>\n",
      "\n",
      "    <ul class=\"list-style-none d-flex flex-wrap \">\n",
      "\n",
      "        <li class=\"mr-3\"><a href=\"https://github.com/contact\" data-ga-click=\"Footer, go to contact, text:contact\">Contact GitHub</a></li>\n",
      "\n",
      "      <li class=\"mr-3\"><a href=\"https://developer.github.com\" data-ga-click=\"Footer, go to api, text:api\">API</a></li>\n",
      "\n",
      "      <li class=\"mr-3\"><a href=\"https://training.github.com\" data-ga-click=\"Footer, go to training, text:training\">Training</a></li>\n",
      "\n",
      "      <li class=\"mr-3\"><a href=\"https://shop.github.com\" data-ga-click=\"Footer, go to shop, text:shop\">Shop</a></li>\n",
      "\n",
      "        <li class=\"mr-3\"><a href=\"https://github.com/blog\" data-ga-click=\"Footer, go to blog, text:blog\">Blog</a></li>\n",
      "\n",
      "        <li><a href=\"https://github.com/about\" data-ga-click=\"Footer, go to about, text:about\">About</a></li>\n",
      "\n",
      "\n",
      "\n",
      "    </ul>\n",
      "\n",
      "  </div>\n",
      "\n",
      "</div>\n",
      "\n",
      "\n",
      "\n",
      "\n",
      "\n",
      "\n",
      "\n",
      "  <div id=\"ajax-error-message\" class=\"ajax-error-message flash flash-error\">\n",
      "\n",
      "    <svg aria-hidden=\"true\" class=\"octicon octicon-alert\" height=\"16\" version=\"1.1\" viewBox=\"0 0 16 16\" width=\"16\"><path fill-rule=\"evenodd\" d=\"M8.865 1.52c-.18-.31-.51-.5-.87-.5s-.69.19-.87.5L.275 13.5c-.18.31-.18.69 0 1 .19.31.52.5.87.5h13.7c.36 0 .69-.19.86-.5.17-.31.18-.69.01-1L8.865 1.52zM8.995 13h-2v-2h2v2zm0-3h-2V6h2v4z\"/></svg>\n",
      "\n",
      "    <button type=\"button\" class=\"flash-close js-ajax-error-dismiss\" aria-label=\"Dismiss error\">\n",
      "\n",
      "      <svg aria-hidden=\"true\" class=\"octicon octicon-x\" height=\"16\" version=\"1.1\" viewBox=\"0 0 12 16\" width=\"12\"><path fill-rule=\"evenodd\" d=\"M7.48 8l3.75 3.75-1.48 1.48L6 9.48l-3.75 3.75-1.48-1.48L4.52 8 .77 4.25l1.48-1.48L6 6.52l3.75-3.75 1.48 1.48z\"/></svg>\n",
      "\n",
      "    </button>\n",
      "\n",
      "    You can't perform that action at this time.\n",
      "\n",
      "  </div>\n",
      "\n",
      "\n",
      "\n",
      "\n",
      "\n",
      "    \n",
      "\n",
      "    <script crossorigin=\"anonymous\" integrity=\"sha256-OQfZqtgSuMlBR8iBZctKlpPFfPmfDo4BBT/Hneep2RE=\" src=\"https://assets-cdn.github.com/assets/frameworks-3907d9aad812b8c94147c88165cb4a9693c57cf99f0e8e01053fc79de7a9d911.js\"></script>\n",
      "\n",
      "    \n",
      "\n",
      "    <script async=\"async\" crossorigin=\"anonymous\" integrity=\"sha256-wbENoh8ZMqQXP8+2BnbirTLlFfeud1Y922WPBM0mNo0=\" src=\"https://assets-cdn.github.com/assets/github-c1b10da21f1932a4173fcfb60676e2ad32e515f7ae77563ddb658f04cd26368d.js\"></script>\n",
      "\n",
      "    \n",
      "\n",
      "    \n",
      "\n",
      "    \n",
      "\n",
      "    \n",
      "\n",
      "  <div class=\"js-stale-session-flash stale-session-flash flash flash-warn flash-banner d-none\">\n",
      "\n",
      "    <svg aria-hidden=\"true\" class=\"octicon octicon-alert\" height=\"16\" version=\"1.1\" viewBox=\"0 0 16 16\" width=\"16\"><path fill-rule=\"evenodd\" d=\"M8.865 1.52c-.18-.31-.51-.5-.87-.5s-.69.19-.87.5L.275 13.5c-.18.31-.18.69 0 1 .19.31.52.5.87.5h13.7c.36 0 .69-.19.86-.5.17-.31.18-.69.01-1L8.865 1.52zM8.995 13h-2v-2h2v2zm0-3h-2V6h2v4z\"/></svg>\n",
      "\n",
      "    <span class=\"signed-in-tab-flash\">You signed in with another tab or window. <a href=\"\">Reload</a> to refresh your session.</span>\n",
      "\n",
      "    <span class=\"signed-out-tab-flash\">You signed out in another tab or window. <a href=\"\">Reload</a> to refresh your session.</span>\n",
      "\n",
      "  </div>\n",
      "\n",
      "  <div class=\"facebox\" id=\"facebox\" style=\"display:none;\">\n",
      "\n",
      "  <div class=\"facebox-popup\">\n",
      "\n",
      "    <div class=\"facebox-content\" role=\"dialog\" aria-labelledby=\"facebox-header\" aria-describedby=\"facebox-description\">\n",
      "\n",
      "    </div>\n",
      "\n",
      "    <button type=\"button\" class=\"facebox-close js-facebox-close\" aria-label=\"Close modal\">\n",
      "\n",
      "      <svg aria-hidden=\"true\" class=\"octicon octicon-x\" height=\"16\" version=\"1.1\" viewBox=\"0 0 12 16\" width=\"12\"><path fill-rule=\"evenodd\" d=\"M7.48 8l3.75 3.75-1.48 1.48L6 9.48l-3.75 3.75-1.48-1.48L4.52 8 .77 4.25l1.48-1.48L6 6.52l3.75-3.75 1.48 1.48z\"/></svg>\n",
      "\n",
      "    </button>\n",
      "\n",
      "  </div>\n",
      "\n",
      "</div>\n",
      "\n",
      "\n",
      "\n",
      "\n",
      "\n",
      "  </body>\n",
      "\n",
      "</html>\n",
      "\n",
      "\n",
      "\n"
     ]
    }
   ],
   "source": [
    "for line in open(\"/home/subbu/study/python/pythonpractice/python-bootcamp/test.txt\"):\n",
    "    print(line)"
   ]
  },
  {
   "cell_type": "code",
   "execution_count": 118,
   "metadata": {},
   "outputs": [],
   "source": [
    "s  = set ()"
   ]
  },
  {
   "cell_type": "code",
   "execution_count": 119,
   "metadata": {},
   "outputs": [],
   "source": [
    "s.add(10)"
   ]
  },
  {
   "cell_type": "code",
   "execution_count": 120,
   "metadata": {},
   "outputs": [],
   "source": [
    "s.add(10)"
   ]
  },
  {
   "cell_type": "code",
   "execution_count": 121,
   "metadata": {},
   "outputs": [
    {
     "data": {
      "text/plain": [
       "{10}"
      ]
     },
     "execution_count": 121,
     "metadata": {},
     "output_type": "execute_result"
    }
   ],
   "source": [
    "s"
   ]
  },
  {
   "cell_type": "code",
   "execution_count": 122,
   "metadata": {},
   "outputs": [],
   "source": [
    "s.add(15)"
   ]
  },
  {
   "cell_type": "code",
   "execution_count": 123,
   "metadata": {},
   "outputs": [
    {
     "data": {
      "text/plain": [
       "{10, 15}"
      ]
     },
     "execution_count": 123,
     "metadata": {},
     "output_type": "execute_result"
    }
   ],
   "source": [
    "s"
   ]
  },
  {
   "cell_type": "code",
   "execution_count": 124,
   "metadata": {},
   "outputs": [],
   "source": [
    "s.add((10,8))"
   ]
  },
  {
   "cell_type": "code",
   "execution_count": 125,
   "metadata": {},
   "outputs": [
    {
     "data": {
      "text/plain": [
       "{(10, 8), 10, 15}"
      ]
     },
     "execution_count": 125,
     "metadata": {},
     "output_type": "execute_result"
    }
   ],
   "source": [
    "s"
   ]
  },
  {
   "cell_type": "code",
   "execution_count": null,
   "metadata": {},
   "outputs": [],
   "source": []
  }
 ],
 "metadata": {
  "kernelspec": {
   "display_name": "Python 3",
   "language": "python",
   "name": "python3"
  },
  "language_info": {
   "codemirror_mode": {
    "name": "ipython",
    "version": 3
   },
   "file_extension": ".py",
   "mimetype": "text/x-python",
   "name": "python",
   "nbconvert_exporter": "python",
   "pygments_lexer": "ipython3",
   "version": "3.5.2"
  }
 },
 "nbformat": 4,
 "nbformat_minor": 2
}
